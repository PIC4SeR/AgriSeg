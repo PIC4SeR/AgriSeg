{
 "cells": [
  {
   "cell_type": "markdown",
   "id": "44078a6c",
   "metadata": {},
   "source": [
    "# Format Dataset"
   ]
  },
  {
   "cell_type": "code",
   "execution_count": null,
   "id": "8f525ff1",
   "metadata": {
    "ExecuteTime": {
     "end_time": "2023-05-04T14:37:46.159402Z",
     "start_time": "2023-05-04T14:37:46.007277Z"
    }
   },
   "outputs": [],
   "source": [
    "%matplotlib inline\n",
    "%load_ext autoreload\n",
    "%autoreload 2\n",
    "%config Completer.use_jedi = False"
   ]
  },
  {
   "cell_type": "code",
   "execution_count": null,
   "id": "9495bc0a",
   "metadata": {
    "ExecuteTime": {
     "end_time": "2023-05-04T14:37:47.545270Z",
     "start_time": "2023-05-04T14:37:46.687572Z"
    }
   },
   "outputs": [],
   "source": [
    "# Libraries\n",
    "import os\n",
    "import glob\n",
    "import matplotlib.pyplot as plt\n",
    "os.environ[\"OPENCV_IO_ENABLE_OPENEXR\"]=\"1\"\n",
    "import cv2\n",
    "import numpy as np\n",
    "from tqdm.notebook import tqdm as tqdm\n",
    "import tensorflow as tf\n",
    "import random\n",
    "from pathlib import Path\n",
    "\n",
    "from utils.tools import *\n",
    "from utils.preprocess import *\n",
    "from utils.visualize import *\n",
    "from utils.data import *"
   ]
  },
  {
   "cell_type": "code",
   "execution_count": null,
   "id": "76099bac",
   "metadata": {
    "ExecuteTime": {
     "end_time": "2023-05-04T14:37:48.039069Z",
     "start_time": "2023-05-04T14:37:47.988534Z"
    }
   },
   "outputs": [],
   "source": [
    "physical_devices = tf.config.list_physical_devices('GPU')\n",
    "print(\"Num GPUs:\", physical_devices)\n",
    "\n",
    "#select the working GPU\n",
    "gpus = tf.config.experimental.list_physical_devices('GPU')\n",
    "tf.config.experimental.set_visible_devices(gpus[0], 'GPU')\n",
    "tf.config.experimental.set_memory_growth(gpus[0], True)"
   ]
  },
  {
   "cell_type": "code",
   "execution_count": null,
   "id": "0ecc462d",
   "metadata": {
    "ExecuteTime": {
     "end_time": "2023-05-04T14:40:46.466143Z",
     "start_time": "2023-05-04T14:40:46.453467Z"
    }
   },
   "outputs": [],
   "source": [
    "## define dataset import paths\n",
    "ROOT = Path('datasets/vineyard_pergola/')\n",
    "DATASETS = sorted([ROOT.joinpath(d) for d in os.listdir(ROOT)\n",
    "                   if not d.startswith('.') and not d.endswith('.yaml')])"
   ]
  },
  {
   "cell_type": "code",
   "execution_count": null,
   "id": "9c65d2b5",
   "metadata": {
    "ExecuteTime": {
     "end_time": "2023-05-04T14:40:46.990418Z",
     "start_time": "2023-05-04T14:40:46.974769Z"
    },
    "scrolled": true
   },
   "outputs": [],
   "source": [
    "# define some variables and read config\n",
    "config_path = 'utils/config.yaml'\n",
    "model_dir = Path('bin')\n",
    "logs_dir = Path('logs')\n",
    "config = read_yaml(config_path)\n",
    "config"
   ]
  },
  {
   "cell_type": "code",
   "execution_count": null,
   "id": "0f12efb0",
   "metadata": {
    "ExecuteTime": {
     "end_time": "2023-05-04T14:40:47.368673Z",
     "start_time": "2023-05-04T14:40:47.356338Z"
    }
   },
   "outputs": [],
   "source": [
    "DATASETS"
   ]
  },
  {
   "cell_type": "code",
   "execution_count": null,
   "id": "91624ade",
   "metadata": {
    "ExecuteTime": {
     "end_time": "2023-05-04T14:40:48.955021Z",
     "start_time": "2023-05-04T14:40:48.941444Z"
    }
   },
   "outputs": [],
   "source": [
    "def format_subdataset(D):\n",
    "    ROOT_I = D.joinpath('images')\n",
    "    ROOT_M = D.joinpath('masks')\n",
    "    try:\n",
    "        os.mkdir(ROOT_I)\n",
    "        os.mkdir(ROOT_M)\n",
    "    except:\n",
    "        pass\n",
    "\n",
    "    # LRM = sorted([str(D.joinpath(f)) for f in os.listdir(ROOT_M) if f.startswith('I')])\n",
    "    # LRI = sorted([str(D.joinpath(f)) for f in os.listdir(ROOT_I) if f.startswith('S')])\n",
    "\n",
    "    LRM = sorted([str(D.joinpath(f).joinpath(os.listdir(D.joinpath(f))[2]))\n",
    "                  for f in os.listdir(D) if f.startswith('I')])\n",
    "    LRI = sorted([str(D.joinpath(f).joinpath(os.listdir(D.joinpath(f))[3]))\n",
    "                  for f in os.listdir(D) if f.startswith('I')])\n",
    "    \n",
    "    move_files(l=LRM, root=ROOT_M)\n",
    "    move_files(l=LRI, root=ROOT_I)"
   ]
  },
  {
   "cell_type": "code",
   "execution_count": null,
   "id": "aebecfbf",
   "metadata": {
    "ExecuteTime": {
     "end_time": "2023-05-04T14:38:18.200969Z",
     "start_time": "2023-05-04T14:38:18.133880Z"
    }
   },
   "outputs": [],
   "source": [
    "LRM"
   ]
  },
  {
   "cell_type": "code",
   "execution_count": null,
   "id": "632d1dc4",
   "metadata": {
    "ExecuteTime": {
     "end_time": "2023-05-04T14:14:25.577472Z",
     "start_time": "2023-05-04T14:14:25.563987Z"
    }
   },
   "outputs": [],
   "source": [
    "LRI"
   ]
  },
  {
   "cell_type": "code",
   "execution_count": null,
   "id": "8a3cd039",
   "metadata": {
    "ExecuteTime": {
     "end_time": "2023-05-04T14:40:51.097161Z",
     "start_time": "2023-05-04T14:40:51.084448Z"
    }
   },
   "outputs": [],
   "source": [
    "def move_files(l, root):\n",
    "    for i, f in enumerate(sorted(l)):\n",
    "        fname = f.split('/')[-1]\n",
    "        print(fname)\n",
    "        destf = root.joinpath(f'Image{i+1}')\n",
    "        os.mkdir(destf)\n",
    "        print(destf)\n",
    "        os.replace(f, destf.joinpath(fname))\n",
    "        print(f, destf.joinpath(fname))\n",
    "        #break"
   ]
  },
  {
   "cell_type": "code",
   "execution_count": null,
   "id": "e7e05b9e",
   "metadata": {
    "ExecuteTime": {
     "end_time": "2023-05-04T14:40:52.655600Z",
     "start_time": "2023-05-04T14:40:52.342265Z"
    }
   },
   "outputs": [],
   "source": [
    "for d in DATASETS:\n",
    "    format_subdataset(d)"
   ]
  },
  {
   "cell_type": "code",
   "execution_count": null,
   "id": "b40e8c3b",
   "metadata": {
    "ExecuteTime": {
     "end_time": "2023-03-14T11:46:37.151610Z",
     "start_time": "2023-03-14T11:46:37.139554Z"
    }
   },
   "outputs": [],
   "source": [
    "### DANGER ###\n",
    "\n",
    "# for i in LRM+LRI:\n",
    "#     os.remove(i)"
   ]
  },
  {
   "cell_type": "markdown",
   "id": "77e9acfa",
   "metadata": {
    "heading_collapsed": true
   },
   "source": [
    "# Display some Images"
   ]
  },
  {
   "cell_type": "code",
   "execution_count": null,
   "id": "788e5e54",
   "metadata": {
    "ExecuteTime": {
     "end_time": "2023-02-21T15:07:26.063924Z",
     "start_time": "2023-02-21T15:07:26.047404Z"
    },
    "hidden": true
   },
   "outputs": [],
   "source": [
    "import os \n",
    "from PIL import Image\n",
    "from pathlib import Path"
   ]
  },
  {
   "cell_type": "code",
   "execution_count": null,
   "id": "ef532554",
   "metadata": {
    "ExecuteTime": {
     "end_time": "2023-02-21T15:07:26.537807Z",
     "start_time": "2023-02-21T15:07:26.486052Z"
    },
    "hidden": true
   },
   "outputs": [],
   "source": [
    "def display_samples(dataset='zucchini', i=0, n=5, s=0.25):\n",
    "    \n",
    "    init = 'z' if dataset == 'zucchini' else 'd'\n",
    "    \n",
    "    ROOT = Path(f'Agrivol_datasets/dataset_{dataset}/')\n",
    "    DATASETS = sorted([ROOT.joinpath(d) for d in os.listdir(ROOT) if d.startswith(init)])\n",
    "    \n",
    "    D = DATASETS[i]\n",
    "    ROOT_I = D.joinpath('images')\n",
    "\n",
    "    LRI = [str(ROOT_I.joinpath(f).joinpath(os.listdir(ROOT_I.joinpath(f))[0])) for f in os.listdir(ROOT_I)]\n",
    "    \n",
    "    for j in range(n):\n",
    "        im = Image.open(LRI[j])\n",
    "        display(im.resize((int(im.width*s),int(im.height*s))))"
   ]
  },
  {
   "cell_type": "code",
   "execution_count": null,
   "id": "dcbf4800",
   "metadata": {
    "ExecuteTime": {
     "end_time": "2023-02-21T12:17:01.040892Z",
     "start_time": "2023-02-21T12:17:00.807466Z"
    },
    "hidden": true,
    "scrolled": true
   },
   "outputs": [],
   "source": [
    "display_samples('zucchini',i=0)"
   ]
  },
  {
   "cell_type": "markdown",
   "id": "8424937d",
   "metadata": {
    "heading_collapsed": true
   },
   "source": [
    "# Format Tree Dataset"
   ]
  },
  {
   "cell_type": "code",
   "execution_count": null,
   "id": "bd8dd195",
   "metadata": {
    "ExecuteTime": {
     "end_time": "2023-03-14T10:59:34.309108Z",
     "start_time": "2023-03-14T10:59:34.284473Z"
    },
    "hidden": true
   },
   "outputs": [],
   "source": [
    "import os \n",
    "from PIL import Image\n",
    "from pathlib import Path"
   ]
  },
  {
   "cell_type": "code",
   "execution_count": null,
   "id": "dac805d7",
   "metadata": {
    "ExecuteTime": {
     "end_time": "2023-03-14T10:59:44.747718Z",
     "start_time": "2023-03-14T10:59:44.724215Z"
    },
    "hidden": true
   },
   "outputs": [],
   "source": [
    "s = 0.5\n",
    "\n",
    "ROOT_I = Path('datasets/dataset_vite/dataset_vite_1/images/')\n",
    "ROOT_M = Path('datasets/dataset_vite/dataset_vite_1/masks/')\n",
    "LRI = [str(ROOT_I.joinpath(f)) for f in os.listdir(ROOT_I)]\n",
    "LRM = [str(ROOT_M.joinpath(f)) for f in os.listdir(ROOT_M)]\n",
    "    \n",
    "# for j in range(5):\n",
    "#     im = Image.open(LRI[j])\n",
    "#     #display(im.resize((int(im.width*s),int(im.height*s))))\n",
    "#     im = np.array(im)\n",
    "#     print(im.min(), im.max())\n",
    "#     plt.imshow(im)\n",
    "#     plt.show()"
   ]
  },
  {
   "cell_type": "code",
   "execution_count": null,
   "id": "391ab7b4",
   "metadata": {
    "ExecuteTime": {
     "end_time": "2023-03-14T10:59:46.769285Z",
     "start_time": "2023-03-14T10:59:46.745637Z"
    },
    "hidden": true
   },
   "outputs": [],
   "source": [
    "sorted(LRM)"
   ]
  },
  {
   "cell_type": "code",
   "execution_count": null,
   "id": "3b82f359",
   "metadata": {
    "ExecuteTime": {
     "end_time": "2023-03-03T09:57:31.324692Z",
     "start_time": "2023-03-03T09:57:31.286858Z"
    },
    "hidden": true
   },
   "outputs": [],
   "source": [
    "for i, f in enumerate(sorted(LRI)):\n",
    "    fname = f.split('/')[-1]\n",
    "    #print(fname)\n",
    "    destf = ROOT_I.joinpath(f'Image{i+1}')\n",
    "    os.mkdir(destf)\n",
    "    #print(destf)\n",
    "    os.replace(f, destf.joinpath(fname))\n",
    "    #print(f, destf.joinpath(fname))\n",
    "    #break"
   ]
  },
  {
   "cell_type": "code",
   "execution_count": null,
   "id": "23f1649d",
   "metadata": {
    "ExecuteTime": {
     "end_time": "2023-03-03T09:57:18.609123Z",
     "start_time": "2023-03-03T09:57:18.561093Z"
    },
    "hidden": true
   },
   "outputs": [],
   "source": [
    "ROOT_I"
   ]
  },
  {
   "cell_type": "code",
   "execution_count": null,
   "id": "6db80176",
   "metadata": {
    "ExecuteTime": {
     "end_time": "2023-03-03T09:59:47.009058Z",
     "start_time": "2023-03-03T09:59:46.871431Z"
    },
    "hidden": true
   },
   "outputs": [],
   "source": [
    "img_ds = tf.keras.preprocessing.image_dataset_from_directory(\n",
    "    directory=ROOT_I,\n",
    "    label_mode=None,\n",
    "    class_names=None,\n",
    "    color_mode=\"rgb\",\n",
    "    batch_size=128,\n",
    "    image_size=(224, 224),\n",
    "    shuffle=False,\n",
    "    seed=None,\n",
    "    #validation_split=0,\n",
    "    #subset=train,\n",
    "    interpolation=\"bilinear\",\n",
    "    follow_links=False)"
   ]
  },
  {
   "cell_type": "markdown",
   "id": "591345ac",
   "metadata": {
    "heading_collapsed": true
   },
   "source": [
    "# Load Datasets"
   ]
  },
  {
   "cell_type": "code",
   "execution_count": null,
   "id": "ea070b1d",
   "metadata": {
    "ExecuteTime": {
     "end_time": "2023-05-04T09:06:42.716935Z",
     "start_time": "2023-05-04T09:06:42.632246Z"
    },
    "hidden": true
   },
   "outputs": [],
   "source": [
    "img_ds = tf.keras.preprocessing.image_dataset_from_directory(\n",
    "    directory=ROOT_I,\n",
    "    label_mode=None,\n",
    "    class_names=None,\n",
    "    color_mode=\"rgb\",\n",
    "    batch_size=128,\n",
    "    image_size=(224, 224),\n",
    "    shuffle=False,\n",
    "    seed=None,\n",
    "    #validation_split=0,\n",
    "    #subset=train,\n",
    "    interpolation=\"bilinear\",\n",
    "    follow_links=False)"
   ]
  },
  {
   "cell_type": "code",
   "execution_count": null,
   "id": "ac11ad5a",
   "metadata": {
    "ExecuteTime": {
     "end_time": "2023-03-24T12:04:11.670249Z",
     "start_time": "2023-03-24T12:04:11.620503Z"
    },
    "hidden": true
   },
   "outputs": [],
   "source": [
    "mask_ds = tf.keras.preprocessing.image_dataset_from_directory(\n",
    "    directory=ROOT_M,\n",
    "    label_mode=None,\n",
    "    class_names=None,\n",
    "    color_mode=\"grayscale\",\n",
    "    batch_size=128,\n",
    "    image_size=(224, 224),\n",
    "    shuffle=False,\n",
    "    seed=None,\n",
    "    #validation_split=0,\n",
    "    #subset=train,\n",
    "    interpolation=\"bilinear\",\n",
    "    follow_links=False)"
   ]
  },
  {
   "cell_type": "code",
   "execution_count": null,
   "id": "81557b81",
   "metadata": {
    "ExecuteTime": {
     "end_time": "2023-03-22T17:57:38.059231Z",
     "start_time": "2023-03-22T17:57:37.939222Z"
    },
    "hidden": true
   },
   "outputs": [],
   "source": [
    "if 'albero' in str(ROOT_M):\n",
    "    mask_ds = mask_ds.map(binarize_mask)\n",
    "else:\n",
    "    mask_ds = mask_ds.map(normalize)"
   ]
  },
  {
   "cell_type": "code",
   "execution_count": null,
   "id": "ee327969",
   "metadata": {
    "ExecuteTime": {
     "end_time": "2023-03-22T17:57:41.199454Z",
     "start_time": "2023-03-22T17:57:41.130999Z"
    },
    "hidden": true
   },
   "outputs": [],
   "source": [
    "img_ds = img_ds.map(lambda x: tf.keras.applications.imagenet_utils.preprocess_input(x, mode='torch'))"
   ]
  },
  {
   "cell_type": "code",
   "execution_count": null,
   "id": "a4217a58",
   "metadata": {
    "ExecuteTime": {
     "end_time": "2023-03-24T12:04:15.518611Z",
     "start_time": "2023-03-24T12:04:14.811101Z"
    },
    "hidden": true,
    "scrolled": false
   },
   "outputs": [],
   "source": [
    "for i in img_ds:\n",
    "    for n, j in enumerate(i):\n",
    "        #print(j)\n",
    "        print(np.min(j), np.max(j))\n",
    "        plt.imshow(j/255.0)\n",
    "        plt.show()\n",
    "        if n >= 3:\n",
    "            break\n",
    "    break"
   ]
  },
  {
   "cell_type": "code",
   "execution_count": null,
   "id": "4241321c",
   "metadata": {
    "ExecuteTime": {
     "end_time": "2023-03-22T17:57:46.196029Z",
     "start_time": "2023-03-22T17:57:45.892549Z"
    },
    "hidden": true,
    "scrolled": false
   },
   "outputs": [],
   "source": [
    "for i in mask_ds:\n",
    "    for n, j in enumerate(i):\n",
    "        #print(j)\n",
    "        print(np.min(j), np.max(j))\n",
    "        plt.imshow(j/255.0)\n",
    "        plt.show()\n",
    "        if n >= 2:\n",
    "            break\n",
    "    break"
   ]
  },
  {
   "cell_type": "code",
   "execution_count": null,
   "id": "271ad79d",
   "metadata": {
    "ExecuteTime": {
     "end_time": "2023-03-14T11:35:55.859196Z",
     "start_time": "2023-03-14T11:35:55.847274Z"
    },
    "hidden": true
   },
   "outputs": [],
   "source": [
    "ds1 = tf.data.Dataset.zip((img_ds, mask_ds))"
   ]
  },
  {
   "cell_type": "code",
   "execution_count": null,
   "id": "03bc28dd",
   "metadata": {
    "ExecuteTime": {
     "end_time": "2023-03-14T11:35:57.906332Z",
     "start_time": "2023-03-14T11:35:56.451136Z"
    },
    "hidden": true,
    "scrolled": false
   },
   "outputs": [],
   "source": [
    "for i, (x, y) in enumerate(ds1):\n",
    "    plt.imshow(x[0]/255.0, alpha=.8)\n",
    "    plt.imshow(y[0]/255.0, alpha=.2)\n",
    "    plt.show()\n",
    "    \n",
    "    x_, y_ = random_resize_crop(x[0], y[0], 0.7)\n",
    "    print(x_.shape, y_.shape)\n",
    "    \n",
    "    plt.imshow(x_/255.0, alpha=.8)\n",
    "    plt.imshow(y_/255.0, alpha=.2)\n",
    "    plt.show()\n",
    "    \n",
    "    if i > 3:\n",
    "        break"
   ]
  },
  {
   "cell_type": "code",
   "execution_count": null,
   "id": "614356fd",
   "metadata": {
    "ExecuteTime": {
     "end_time": "2023-03-14T11:36:02.999100Z",
     "start_time": "2023-03-14T11:36:02.957520Z"
    },
    "hidden": true,
    "scrolled": true
   },
   "outputs": [],
   "source": [
    "np.mean(y_), np.std(y_)"
   ]
  },
  {
   "cell_type": "code",
   "execution_count": null,
   "id": "d4308711",
   "metadata": {
    "ExecuteTime": {
     "end_time": "2023-03-14T11:36:07.176376Z",
     "start_time": "2023-03-14T11:36:05.816808Z"
    },
    "hidden": true,
    "scrolled": true
   },
   "outputs": [],
   "source": [
    "plt.hist(y_)"
   ]
  },
  {
   "cell_type": "code",
   "execution_count": null,
   "id": "3dfc5675",
   "metadata": {
    "ExecuteTime": {
     "end_time": "2023-01-23T16:04:02.491667Z",
     "start_time": "2023-01-23T16:04:02.477776Z"
    },
    "hidden": true
   },
   "outputs": [],
   "source": [
    "y_ = y_/255.0"
   ]
  },
  {
   "cell_type": "code",
   "execution_count": null,
   "id": "3c0f930a",
   "metadata": {
    "ExecuteTime": {
     "end_time": "2023-01-23T16:04:02.529627Z",
     "start_time": "2023-01-23T16:04:02.515056Z"
    },
    "hidden": true,
    "scrolled": true
   },
   "outputs": [],
   "source": [
    "np.mean(y_), np.std(y_)"
   ]
  },
  {
   "cell_type": "code",
   "execution_count": null,
   "id": "543afedc",
   "metadata": {
    "ExecuteTime": {
     "end_time": "2023-01-23T16:04:05.029509Z",
     "start_time": "2023-01-23T16:04:02.552439Z"
    },
    "hidden": true
   },
   "outputs": [],
   "source": [
    "plt.hist(y_)"
   ]
  },
  {
   "cell_type": "code",
   "execution_count": null,
   "id": "8330dd1b",
   "metadata": {
    "ExecuteTime": {
     "end_time": "2023-01-23T16:04:05.066631Z",
     "start_time": "2023-01-23T16:04:05.053120Z"
    },
    "hidden": true
   },
   "outputs": [],
   "source": [
    "y_ = tf.math.round(y_)"
   ]
  },
  {
   "cell_type": "code",
   "execution_count": null,
   "id": "d15cae6e",
   "metadata": {
    "ExecuteTime": {
     "end_time": "2023-01-23T16:04:05.104055Z",
     "start_time": "2023-01-23T16:04:05.089838Z"
    },
    "hidden": true
   },
   "outputs": [],
   "source": [
    "np.mean(y_), np.std(y_)"
   ]
  },
  {
   "cell_type": "code",
   "execution_count": null,
   "id": "93aef1aa",
   "metadata": {
    "ExecuteTime": {
     "end_time": "2023-01-23T16:04:07.728464Z",
     "start_time": "2023-01-23T16:04:05.126583Z"
    },
    "hidden": true
   },
   "outputs": [],
   "source": [
    "plt.hist(y_)"
   ]
  },
  {
   "cell_type": "markdown",
   "id": "14c8b5b5",
   "metadata": {},
   "source": [
    "# Dataset Check"
   ]
  },
  {
   "cell_type": "code",
   "execution_count": null,
   "id": "bd219209",
   "metadata": {
    "ExecuteTime": {
     "end_time": "2023-05-04T14:42:21.830494Z",
     "start_time": "2023-05-04T14:42:21.685027Z"
    }
   },
   "outputs": [],
   "source": [
    "%matplotlib inline\n",
    "%load_ext autoreload\n",
    "%autoreload 2\n",
    "%config Completer.use_jedi = False"
   ]
  },
  {
   "cell_type": "code",
   "execution_count": null,
   "id": "413f7cc1",
   "metadata": {
    "ExecuteTime": {
     "end_time": "2023-05-04T14:42:22.998105Z",
     "start_time": "2023-05-04T14:42:22.145061Z"
    }
   },
   "outputs": [],
   "source": [
    "# Libraries\n",
    "import os\n",
    "import glob\n",
    "import matplotlib.pyplot as plt\n",
    "os.environ[\"OPENCV_IO_ENABLE_OPENEXR\"]=\"1\"\n",
    "import cv2\n",
    "import numpy as np\n",
    "from tqdm.notebook import tqdm as tqdm\n",
    "import tensorflow as tf\n",
    "import random\n",
    "from pathlib import Path\n",
    "\n",
    "from utils.tools import *\n",
    "from utils.preprocess import *\n",
    "from utils.visualize import *\n",
    "from utils.data import *"
   ]
  },
  {
   "cell_type": "code",
   "execution_count": null,
   "id": "ecb57778",
   "metadata": {
    "ExecuteTime": {
     "end_time": "2023-05-04T14:42:23.195829Z",
     "start_time": "2023-05-04T14:42:23.132771Z"
    }
   },
   "outputs": [],
   "source": [
    "physical_devices = tf.config.list_physical_devices('GPU')\n",
    "print(\"Num GPUs:\", physical_devices)\n",
    "\n",
    "#select the working GPU\n",
    "gpus = tf.config.experimental.list_physical_devices('GPU')\n",
    "tf.config.experimental.set_visible_devices(gpus[0], 'GPU')\n",
    "tf.config.experimental.set_memory_growth(gpus[0], True)"
   ]
  },
  {
   "cell_type": "code",
   "execution_count": null,
   "id": "d132fa60",
   "metadata": {
    "ExecuteTime": {
     "end_time": "2023-05-04T14:42:23.344437Z",
     "start_time": "2023-05-04T14:42:23.331079Z"
    },
    "scrolled": true
   },
   "outputs": [],
   "source": [
    "# define some variables and read config\n",
    "config_path = 'utils/config.yaml'\n",
    "data_dir = Path('datasets')\n",
    "model_dir = Path('bin')\n",
    "logs_dir = Path('logs')\n",
    "config = read_yaml(config_path)\n",
    "config"
   ]
  },
  {
   "cell_type": "code",
   "execution_count": null,
   "id": "c63b4e83",
   "metadata": {
    "ExecuteTime": {
     "end_time": "2023-05-04T14:42:24.418416Z",
     "start_time": "2023-05-04T14:42:23.790972Z"
    },
    "scrolled": true
   },
   "outputs": [],
   "source": [
    "source_dataset = sorted([data_dir.joinpath(d) \n",
    "                         for d in config['SOURCE'] if d != config['TARGET']])\n",
    "target_dataset = data_dir.joinpath(config['TARGET'])\n",
    "\n",
    "ds_source, ds_target = load_multi_dataset(None, target_dataset, config)"
   ]
  },
  {
   "cell_type": "code",
   "execution_count": null,
   "id": "5654612d",
   "metadata": {
    "ExecuteTime": {
     "end_time": "2023-05-04T14:42:27.045712Z",
     "start_time": "2023-05-04T14:42:27.030537Z"
    }
   },
   "outputs": [],
   "source": [
    "len(ds_target)"
   ]
  },
  {
   "cell_type": "markdown",
   "id": "8eca0f4d",
   "metadata": {
    "heading_collapsed": true
   },
   "source": [
    "# Old"
   ]
  },
  {
   "cell_type": "code",
   "execution_count": null,
   "id": "5a6dd5a8",
   "metadata": {
    "ExecuteTime": {
     "end_time": "2023-05-04T09:06:08.481736Z",
     "start_time": "2023-05-04T09:06:08.442263Z"
    },
    "hidden": true
   },
   "outputs": [],
   "source": [
    "import os\n",
    "\n",
    "count = 0\n",
    "for root_dir, cur_dir, files in os.walk('datasets/dataset_albero/'):\n",
    "    count += len(files)\n",
    "print('file count:', count)"
   ]
  },
  {
   "cell_type": "code",
   "execution_count": null,
   "id": "4e33f574",
   "metadata": {
    "ExecuteTime": {
     "end_time": "2023-01-23T16:04:12.924498Z",
     "start_time": "2023-01-23T16:04:12.910343Z"
    },
    "hidden": true
   },
   "outputs": [],
   "source": [
    "count/4"
   ]
  },
  {
   "cell_type": "code",
   "execution_count": null,
   "id": "20c6dac0",
   "metadata": {
    "ExecuteTime": {
     "end_time": "2023-02-02T18:42:51.125521Z",
     "start_time": "2023-02-02T18:42:51.103162Z"
    },
    "hidden": true
   },
   "outputs": [],
   "source": [
    "from PIL import Image"
   ]
  },
  {
   "cell_type": "code",
   "execution_count": null,
   "id": "71c99643",
   "metadata": {
    "ExecuteTime": {
     "end_time": "2023-01-26T18:48:59.939556Z",
     "start_time": "2023-01-26T18:48:59.928823Z"
    },
    "hidden": true
   },
   "outputs": [],
   "source": [
    "i = np.array(Image.open('20191010_L4_S_1100.png'))"
   ]
  },
  {
   "cell_type": "code",
   "execution_count": null,
   "id": "b961b2d3",
   "metadata": {
    "ExecuteTime": {
     "end_time": "2023-01-26T18:49:22.242144Z",
     "start_time": "2023-01-26T18:49:22.237775Z"
    },
    "hidden": true
   },
   "outputs": [],
   "source": [
    "i.min(), i.max(), i.mean()"
   ]
  },
  {
   "cell_type": "code",
   "execution_count": null,
   "id": "cb110879",
   "metadata": {
    "ExecuteTime": {
     "end_time": "2023-01-26T18:53:32.628130Z",
     "start_time": "2023-01-26T18:53:32.528604Z"
    },
    "hidden": true
   },
   "outputs": [],
   "source": [
    "plt.imshow(i/2.0)"
   ]
  },
  {
   "cell_type": "code",
   "execution_count": null,
   "id": "8e4571ba",
   "metadata": {
    "ExecuteTime": {
     "end_time": "2023-02-02T18:45:06.894658Z",
     "start_time": "2023-02-02T18:45:06.868067Z"
    },
    "hidden": true
   },
   "outputs": [],
   "source": [
    "Image.open('Agrivol_datasets/dataset_zucchini/zucchini_dataset1/masks/Image100/Segmentation0001.png')"
   ]
  },
  {
   "cell_type": "code",
   "execution_count": null,
   "id": "d30da3bf",
   "metadata": {
    "ExecuteTime": {
     "end_time": "2023-01-25T10:59:03.708541Z",
     "start_time": "2023-01-25T10:59:03.580624Z"
    },
    "hidden": true
   },
   "outputs": [],
   "source": [
    "Image.open('Agrivol_datasets/dataset_lattuga/dataset_lattuga_4/images/Image100/Image0001.png')"
   ]
  },
  {
   "cell_type": "code",
   "execution_count": null,
   "id": "75a0eae0",
   "metadata": {
    "ExecuteTime": {
     "end_time": "2023-01-25T10:59:08.259127Z",
     "start_time": "2023-01-25T10:59:08.136877Z"
    },
    "hidden": true
   },
   "outputs": [],
   "source": [
    "Image.open('Agrivol_datasets/dataset_pero/dataset_pero_4/images/Image100/Image0001.png')"
   ]
  },
  {
   "cell_type": "code",
   "execution_count": null,
   "id": "fa0cf3a5",
   "metadata": {
    "ExecuteTime": {
     "end_time": "2023-01-25T10:59:11.900653Z",
     "start_time": "2023-01-25T10:59:11.708150Z"
    },
    "hidden": true
   },
   "outputs": [],
   "source": [
    "Image.open('Agrivol_datasets/dataset_zucchini/zucchini_dataset4/images/Image100/Image0001.png')"
   ]
  },
  {
   "cell_type": "code",
   "execution_count": null,
   "id": "3e54267d",
   "metadata": {
    "hidden": true
   },
   "outputs": [],
   "source": []
  }
 ],
 "metadata": {
  "kernelspec": {
   "display_name": "agrivol",
   "language": "python",
   "name": "agrivol"
  },
  "language_info": {
   "codemirror_mode": {
    "name": "ipython",
    "version": 3
   },
   "file_extension": ".py",
   "mimetype": "text/x-python",
   "name": "python",
   "nbconvert_exporter": "python",
   "pygments_lexer": "ipython3",
   "version": "3.8.10"
  },
  "toc": {
   "base_numbering": 1,
   "nav_menu": {},
   "number_sections": true,
   "sideBar": true,
   "skip_h1_title": false,
   "title_cell": "Table of Contents",
   "title_sidebar": "Contents",
   "toc_cell": false,
   "toc_position": {},
   "toc_section_display": true,
   "toc_window_display": false
  },
  "varInspector": {
   "cols": {
    "lenName": 16,
    "lenType": 16,
    "lenVar": 40
   },
   "kernels_config": {
    "python": {
     "delete_cmd_postfix": "",
     "delete_cmd_prefix": "del ",
     "library": "var_list.py",
     "varRefreshCmd": "print(var_dic_list())"
    },
    "r": {
     "delete_cmd_postfix": ") ",
     "delete_cmd_prefix": "rm(",
     "library": "var_list.r",
     "varRefreshCmd": "cat(var_dic_list()) "
    }
   },
   "types_to_exclude": [
    "module",
    "function",
    "builtin_function_or_method",
    "instance",
    "_Feature"
   ],
   "window_display": false
  }
 },
 "nbformat": 4,
 "nbformat_minor": 5
}
