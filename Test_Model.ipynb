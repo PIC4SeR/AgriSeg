{
 "cells": [
  {
   "attachments": {},
   "cell_type": "markdown",
   "id": "c6130acb",
   "metadata": {},
   "source": [
    "# Imports"
   ]
  },
  {
   "cell_type": "code",
   "execution_count": 107,
   "id": "7806728f",
   "metadata": {
    "ExecuteTime": {
     "end_time": "2023-06-29T08:46:02.091270Z",
     "start_time": "2023-06-29T08:46:01.900984Z"
    }
   },
   "outputs": [],
   "source": [
    "%matplotlib inline\n",
    "%load_ext autoreload\n",
    "%autoreload 2\n",
    "%config Completer.use_jedi = False"
   ]
  },
  {
   "cell_type": "code",
   "execution_count": 110,
   "id": "3df3d98e",
   "metadata": {
    "ExecuteTime": {
     "end_time": "2023-06-29T08:46:03.090917Z",
     "start_time": "2023-06-29T08:46:02.092475Z"
    }
   },
   "outputs": [],
   "source": [
    "import os\n",
    "os.environ['TF_CPP_MIN_LOG_LEVEL'] = '3' \n",
    "\n",
    "import absl.logging\n",
    "absl.logging.set_verbosity(absl.logging.ERROR)\n",
    "\n",
    "from pathlib import Path\n",
    "\n",
    "import matplotlib.pyplot as plt\n",
    "from tqdm.notebook import tqdm as tqdm\n",
    "\n",
    "import tensorflow as tf\n",
    "#import tensorflow_addons as tfa\n",
    "\n",
    "\n",
    "from utils.train import Trainer\n",
    "from utils.distiller import Distiller\n",
    "from utils.tools import *\n",
    "from utils.preprocess import *\n",
    "from utils.visualize import *\n",
    "from utils.training_tools import *\n",
    "\n",
    "IMN_STD = [0.229, 0.224, 0.225]\n",
    "IMN_MEAN = [0.485, 0.456, 0.406]"
   ]
  },
  {
   "cell_type": "code",
   "execution_count": 111,
   "id": "5d9f8b9b",
   "metadata": {
    "ExecuteTime": {
     "end_time": "2023-06-29T08:46:03.108036Z",
     "start_time": "2023-06-29T08:46:03.092015Z"
    }
   },
   "outputs": [],
   "source": [
    "config = read_yaml('utils/config.yaml')\n",
    "\n",
    "config['ID'] = 0\n",
    "config['SEED'] = 42\n",
    "config['METHOD'] = 'ISW'\n",
    "config['UNISTYLE'] = True\n",
    "config['WHITEN_LAYERS'] = [-1,0,1]\n",
    "\n",
    "model_root= Path('bin/Benchmark/')\n",
    "label = 'ISW'\n",
    "model_path = model_root.joinpath(label)\n",
    "weights = [model_path.joinpath(f) for f in os.listdir(model_path) if f.endswith('.h5')]\n",
    "targets = ['pear', 'zucchini', 'vineyard_real_new', 'lavender_real']"
   ]
  },
  {
   "cell_type": "code",
   "execution_count": 112,
   "id": "91a6b4b1",
   "metadata": {
    "ExecuteTime": {
     "end_time": "2023-06-29T08:46:03.124138Z",
     "start_time": "2023-06-29T08:46:03.109181Z"
    },
    "code_folding": [
     0
    ]
   },
   "outputs": [],
   "source": [
    "class StopExecution(Exception):\n",
    "    def _render_traceback_(self):\n",
    "        pass"
   ]
  },
  {
   "cell_type": "code",
   "execution_count": 113,
   "id": "bdea24b1",
   "metadata": {
    "ExecuteTime": {
     "end_time": "2023-06-29T08:46:03.162726Z",
     "start_time": "2023-06-29T08:46:03.124896Z"
    },
    "code_folding": [
     8
    ]
   },
   "outputs": [
    {
     "name": "stdout",
     "output_type": "stream",
     "text": [
      "Num GPUs: [PhysicalDevice(name='/physical_device:GPU:0', device_type='GPU')]\n"
     ]
    },
    {
     "ename": "RuntimeError",
     "evalue": "Physical devices cannot be modified after being initialized",
     "output_type": "error",
     "traceback": [
      "\u001b[0;31m---------------------------------------------------------------------------\u001b[0m",
      "\u001b[0;31mRuntimeError\u001b[0m                              Traceback (most recent call last)",
      "\u001b[1;32m/home/simone/Agri/AgriSeg/Test_Model.ipynb Cell 6\u001b[0m in \u001b[0;36m<cell line: 9>\u001b[0;34m()\u001b[0m\n\u001b[1;32m      <a href='vscode-notebook-cell://ssh-remote%2B130.192.47.138/home/simone/Agri/AgriSeg/Test_Model.ipynb#W5sdnNjb2RlLXJlbW90ZQ%3D%3D?line=7'>8</a>\u001b[0m devices \u001b[39m=\u001b[39m []\n\u001b[1;32m      <a href='vscode-notebook-cell://ssh-remote%2B130.192.47.138/home/simone/Agri/AgriSeg/Test_Model.ipynb#W5sdnNjb2RlLXJlbW90ZQ%3D%3D?line=8'>9</a>\u001b[0m \u001b[39mfor\u001b[39;00m g \u001b[39min\u001b[39;00m [\u001b[39m0\u001b[39m]:\n\u001b[0;32m---> <a href='vscode-notebook-cell://ssh-remote%2B130.192.47.138/home/simone/Agri/AgriSeg/Test_Model.ipynb#W5sdnNjb2RlLXJlbW90ZQ%3D%3D?line=9'>10</a>\u001b[0m     tf\u001b[39m.\u001b[39;49mconfig\u001b[39m.\u001b[39;49mexperimental\u001b[39m.\u001b[39;49mset_memory_growth(gpus[g], \u001b[39mTrue\u001b[39;49;00m)\n\u001b[1;32m     <a href='vscode-notebook-cell://ssh-remote%2B130.192.47.138/home/simone/Agri/AgriSeg/Test_Model.ipynb#W5sdnNjb2RlLXJlbW90ZQ%3D%3D?line=10'>11</a>\u001b[0m     devices\u001b[39m.\u001b[39mappend(\u001b[39mf\u001b[39m\u001b[39m'\u001b[39m\u001b[39mGPU:\u001b[39m\u001b[39m{\u001b[39;00mg\u001b[39m}\u001b[39;00m\u001b[39m'\u001b[39m)\n",
      "File \u001b[0;32m~/.local/lib/python3.8/site-packages/tensorflow/python/framework/config.py:716\u001b[0m, in \u001b[0;36mset_memory_growth\u001b[0;34m(device, enable)\u001b[0m\n\u001b[1;32m    691\u001b[0m \u001b[39m@tf_export\u001b[39m(\u001b[39m'\u001b[39m\u001b[39mconfig.experimental.set_memory_growth\u001b[39m\u001b[39m'\u001b[39m)\n\u001b[1;32m    692\u001b[0m \u001b[39mdef\u001b[39;00m \u001b[39mset_memory_growth\u001b[39m(device, enable):\n\u001b[1;32m    693\u001b[0m \u001b[39m  \u001b[39m\u001b[39m\"\"\"Set if memory growth should be enabled for a `PhysicalDevice`.\u001b[39;00m\n\u001b[1;32m    694\u001b[0m \n\u001b[1;32m    695\u001b[0m \u001b[39m  If memory growth is enabled for a `PhysicalDevice`, the runtime initialization\u001b[39;00m\n\u001b[0;32m   (...)\u001b[0m\n\u001b[1;32m    714\u001b[0m \u001b[39m    RuntimeError: Runtime is already initialized.\u001b[39;00m\n\u001b[1;32m    715\u001b[0m \u001b[39m  \"\"\"\u001b[39;00m\n\u001b[0;32m--> 716\u001b[0m   context\u001b[39m.\u001b[39;49mcontext()\u001b[39m.\u001b[39;49mset_memory_growth(device, enable)\n",
      "File \u001b[0;32m~/.local/lib/python3.8/site-packages/tensorflow/python/eager/context.py:1643\u001b[0m, in \u001b[0;36mContext.set_memory_growth\u001b[0;34m(self, dev, enable)\u001b[0m\n\u001b[1;32m   1640\u001b[0m   \u001b[39mreturn\u001b[39;00m\n\u001b[1;32m   1642\u001b[0m \u001b[39mif\u001b[39;00m \u001b[39mself\u001b[39m\u001b[39m.\u001b[39m_context_handle \u001b[39mis\u001b[39;00m \u001b[39mnot\u001b[39;00m \u001b[39mNone\u001b[39;00m:\n\u001b[0;32m-> 1643\u001b[0m   \u001b[39mraise\u001b[39;00m \u001b[39mRuntimeError\u001b[39;00m(\n\u001b[1;32m   1644\u001b[0m       \u001b[39m\"\u001b[39m\u001b[39mPhysical devices cannot be modified after being initialized\u001b[39m\u001b[39m\"\u001b[39m)\n\u001b[1;32m   1646\u001b[0m \u001b[39mself\u001b[39m\u001b[39m.\u001b[39m_memory_growth_map[dev] \u001b[39m=\u001b[39m enable\n",
      "\u001b[0;31mRuntimeError\u001b[0m: Physical devices cannot be modified after being initialized"
     ]
    }
   ],
   "source": [
    "physical_devices = tf.config.list_physical_devices('GPU')\n",
    "print(\"Num GPUs:\", physical_devices)\n",
    "\n",
    "#select the working GPU\n",
    "gpus = tf.config.experimental.list_physical_devices('GPU')\n",
    "tf.config.experimental.set_visible_devices(gpus[0], 'GPU')\n",
    "\n",
    "devices = []\n",
    "for g in [0]:\n",
    "    tf.config.experimental.set_memory_growth(gpus[g], True)\n",
    "    devices.append(f'GPU:{g}')\n",
    "#strategy = tf.distribute.MirroredStrategy(devices=devices)"
   ]
  },
  {
   "attachments": {},
   "cell_type": "markdown",
   "id": "1ddf261d",
   "metadata": {},
   "source": [
    "# Test Function"
   ]
  },
  {
   "cell_type": "code",
   "execution_count": 114,
   "id": "8573a242",
   "metadata": {
    "ExecuteTime": {
     "end_time": "2023-06-29T08:49:11.471560Z",
     "start_time": "2023-06-29T08:49:11.455723Z"
    },
    "code_folding": []
   },
   "outputs": [],
   "source": [
    "def test_fn(config,\n",
    "            model_path,\n",
    "            targets,\n",
    "            strategy=None):\n",
    "    \n",
    "    res = []\n",
    "    for model_name in model_path:\n",
    "        print(str(model_name))\n",
    "        for t in targets:\n",
    "            tf.keras.backend.clear_session()\n",
    "            config['TARGET'] = t\n",
    "            \n",
    "            if config['METHOD'] != 'KD':\n",
    "                trainer = Trainer(config, logger=None, strategy=strategy, test=True)\n",
    "            else:\n",
    "                trainer = Distiller(config, logger=None, strategy=strategy, test=True)\n",
    "\n",
    "            # trainer.model.summary()\n",
    "            trainer.model.load_weights(str(model_name))\n",
    "            loss, metric = trainer.evaluate(trainer.ds_test, 'test')\n",
    "            print(metric.numpy())\n",
    "            print('')\n",
    "            res.append(metric.numpy())\n",
    "    return res"
   ]
  },
  {
   "cell_type": "code",
   "execution_count": 115,
   "id": "80a46cf2",
   "metadata": {
    "ExecuteTime": {
     "end_time": "2023-06-29T08:49:11.967578Z",
     "start_time": "2023-06-29T08:49:11.940859Z"
    },
    "code_folding": [
     0
    ]
   },
   "outputs": [],
   "source": [
    "def visualize_fn(config,\n",
    "                 model_path,\n",
    "                 targets,\n",
    "                 strategy=None,\n",
    "                 n=1,\n",
    "                 conf=0.0,\n",
    "                 soft=False,\n",
    "                 save=False):\n",
    "    ts = {}\n",
    "    plt.rcParams['figure.figsize'] = [4, 4]\n",
    "    \n",
    "    for model_name in model_path:\n",
    "        print(str(model_name))\n",
    "#         for t in targets:\n",
    "#             if t in str(model_name):\n",
    "#                 config['TARGET'] = t\n",
    "        config['TARGET'] = targets[0]\n",
    "        tf.keras.backend.clear_session()\n",
    "        trainer = Trainer(config, logger=None, strategy=strategy, test=True)\n",
    "        trainer.model.load_weights(str(model_name))\n",
    "        c = n\n",
    "        for image, y in trainer.ds_test:\n",
    "            i = tf.cast((image[0] * IMN_STD + IMN_MEAN) * 255.0, tf.uint8)\n",
    "            plt.imshow(i, alpha=1.0) \n",
    "            plt.axis('off')\n",
    "            if save:\n",
    "                plt.savefig(f'./demo/Input_{config[\"TARGET\"]}_{c}.pdf',bbox_inches='tight', pad_inches=0)  \n",
    "            plt.show()\n",
    "            plt.imshow(y[0], alpha=1.0) \n",
    "            plt.axis('off')\n",
    "            if save:\n",
    "                plt.savefig(f'./demo/GT_{config[\"TARGET\"]}_{c}.pdf',bbox_inches='tight', pad_inches=0)   \n",
    "            plt.show()   \n",
    "            out = trainer.model.predict(image[:1], verbose=0)[0][0]\n",
    "            out = tf.math.sigmoid(out)\n",
    "\n",
    "            if conf:\n",
    "                if soft:\n",
    "                    plt.imshow(out*tf.cast(out>conf, tf.float32), alpha=1)\n",
    "                else:\n",
    "                    plt.imshow(out>conf, alpha=1)\n",
    "            else:\n",
    "                plt.imshow(out, alpha=1.)\n",
    "            plt.axis('off')\n",
    "\n",
    "            if save:\n",
    "                plt.savefig(f'./demo/{label}_{config[\"TARGET\"]}_{c}.pdf',bbox_inches='tight', pad_inches=0)\n",
    "            \n",
    "            plt.show()\n",
    "\n",
    "            c -= 1\n",
    "            if c < 0:\n",
    "                break"
   ]
  },
  {
   "cell_type": "code",
   "execution_count": 116,
   "id": "74c8dece",
   "metadata": {
    "ExecuteTime": {
     "end_time": "2023-06-29T08:49:14.131661Z",
     "start_time": "2023-06-29T08:49:12.823328Z"
    },
    "scrolled": false
   },
   "outputs": [
    {
     "name": "stdout",
     "output_type": "stream",
     "text": [
      "pear\n",
      "\n",
      "bin/Benchmark/ISW/ISW_vineyard_real_new_ISW_1.h5\n",
      "WARNING:tensorflow:From /home/simone/.local/lib/python3.8/site-packages/tensorflow/python/autograph/pyct/static_analysis/liveness.py:83: Analyzer.lamba_check (from tensorflow.python.autograph.pyct.static_analysis.liveness) is deprecated and will be removed after 2023-09-23.\n",
      "Instructions for updating:\n",
      "Lambda fuctions will be no more assumed to be used in the statement where they are used, or at least in the same block. https://github.com/tensorflow/tensorflow/issues/56089\n",
      "Loaded data: Train 0, Val 0, Test 4800\n",
      "ISW\n",
      "ISW\n",
      "ISW\n",
      "0.39915006078847376\n",
      "\n",
      "bin/Benchmark/ISW/ISW_vineyard_real_new_ISW_2.h5\n",
      "Loaded data: Train 0, Val 0, Test 4800\n",
      "ISW\n",
      "ISW\n",
      "ISW\n",
      "0.38156796548158556\n",
      "\n",
      "bin/Benchmark/ISW/ISW_vineyard_real_new_ISW_3.h5\n",
      "Loaded data: Train 0, Val 0, Test 4800\n",
      "ISW\n",
      "ISW\n",
      "ISW\n",
      "0.6669950928560304\n",
      "\n",
      "bin/Benchmark/ISW/ISW_vineyard_real_new_ISW_4.h5\n",
      "Loaded data: Train 0, Val 0, Test 4800\n",
      "ISW\n",
      "ISW\n",
      "ISW\n",
      "0.6650149816003494\n",
      "\n",
      "bin/Benchmark/ISW/ISW_vineyard_real_new_ISW_5.h5\n",
      "Loaded data: Train 0, Val 0, Test 4800\n",
      "ISW\n",
      "ISW\n",
      "ISW\n",
      "0.45463631778148433\n",
      "\n",
      "pear: 0.5134728837015847\n",
      "\n",
      "zucchini\n",
      "\n",
      "bin/Benchmark/ISW/ISW_vineyard_real_new_ISW_1.h5\n",
      "Loaded data: Train 0, Val 0, Test 4800\n",
      "ISW\n",
      "ISW\n",
      "ISW\n",
      "0.8298028920556055\n",
      "\n",
      "bin/Benchmark/ISW/ISW_vineyard_real_new_ISW_2.h5\n",
      "Loaded data: Train 0, Val 0, Test 4800\n",
      "ISW\n",
      "ISW\n",
      "ISW\n",
      "0.6808800505404929\n",
      "\n",
      "bin/Benchmark/ISW/ISW_vineyard_real_new_ISW_3.h5\n",
      "Loaded data: Train 0, Val 0, Test 4800\n",
      "ISW\n",
      "ISW\n",
      "ISW\n",
      "0.871882298557491\n",
      "\n",
      "bin/Benchmark/ISW/ISW_vineyard_real_new_ISW_4.h5\n",
      "Loaded data: Train 0, Val 0, Test 4800\n",
      "ISW\n",
      "ISW\n",
      "ISW\n",
      "0.8685762002883279\n",
      "\n",
      "bin/Benchmark/ISW/ISW_vineyard_real_new_ISW_5.h5\n",
      "Loaded data: Train 0, Val 0, Test 4800\n",
      "ISW\n",
      "ISW\n",
      "ISW\n",
      "0.7192078202633584\n",
      "\n",
      "zucchini: 0.7940698523410552\n",
      "\n",
      "vineyard_real_new\n",
      "\n",
      "bin/Benchmark/ISW/ISW_vineyard_real_new_ISW_1.h5\n",
      "Loaded data: Train 0, Val 0, Test 197\n",
      "ISW\n",
      "ISW\n",
      "ISW\n",
      "0.09241237812605449\n",
      "\n",
      "bin/Benchmark/ISW/ISW_vineyard_real_new_ISW_2.h5\n",
      "Loaded data: Train 0, Val 0, Test 197\n",
      "ISW\n",
      "ISW\n",
      "ISW\n",
      "WARNING:tensorflow:5 out of the last 83 calls to <function Trainer.evaluate_step at 0x7fb37421c8b0> triggered tf.function retracing. Tracing is expensive and the excessive number of tracings could be due to (1) creating @tf.function repeatedly in a loop, (2) passing tensors with different shapes, (3) passing Python objects instead of tensors. For (1), please define your @tf.function outside of the loop. For (2), @tf.function has reduce_retracing=True option that can avoid unnecessary retracing. For (3), please refer to https://www.tensorflow.org/guide/function#controlling_retracing and https://www.tensorflow.org/api_docs/python/tf/function for  more details.\n",
      "0.0047888327394547455\n",
      "\n",
      "bin/Benchmark/ISW/ISW_vineyard_real_new_ISW_3.h5\n",
      "Loaded data: Train 0, Val 0, Test 197\n",
      "ISW\n",
      "ISW\n",
      "ISW\n",
      "WARNING:tensorflow:6 out of the last 84 calls to <function Trainer.evaluate_step at 0x7fb374cefd30> triggered tf.function retracing. Tracing is expensive and the excessive number of tracings could be due to (1) creating @tf.function repeatedly in a loop, (2) passing tensors with different shapes, (3) passing Python objects instead of tensors. For (1), please define your @tf.function outside of the loop. For (2), @tf.function has reduce_retracing=True option that can avoid unnecessary retracing. For (3), please refer to https://www.tensorflow.org/guide/function#controlling_retracing and https://www.tensorflow.org/api_docs/python/tf/function for  more details.\n",
      "0.20240814741673158\n",
      "\n",
      "bin/Benchmark/ISW/ISW_vineyard_real_new_ISW_4.h5\n",
      "Loaded data: Train 0, Val 0, Test 197\n",
      "ISW\n",
      "ISW\n",
      "ISW\n",
      "0.12939036222715247\n",
      "\n",
      "bin/Benchmark/ISW/ISW_vineyard_real_new_ISW_5.h5\n",
      "Loaded data: Train 0, Val 0, Test 197\n",
      "ISW\n",
      "ISW\n",
      "ISW\n",
      "0.001711736385841\n",
      "\n",
      "vineyard_real_new: 0.08614229137904686\n",
      "\n",
      "lavender_real\n",
      "\n",
      "bin/Benchmark/ISW/ISW_vineyard_real_new_ISW_1.h5\n",
      "Loaded data: Train 0, Val 0, Test 86\n",
      "ISW\n",
      "ISW\n",
      "ISW\n",
      "7.666307103130689e-05\n",
      "\n",
      "bin/Benchmark/ISW/ISW_vineyard_real_new_ISW_2.h5\n",
      "Loaded data: Train 0, Val 0, Test 86\n",
      "ISW\n",
      "ISW\n",
      "ISW\n",
      "0.0\n",
      "\n",
      "bin/Benchmark/ISW/ISW_vineyard_real_new_ISW_3.h5\n",
      "Loaded data: Train 0, Val 0, Test 86\n",
      "ISW\n",
      "ISW\n",
      "ISW\n",
      "0.0002527283718529417\n",
      "\n",
      "bin/Benchmark/ISW/ISW_vineyard_real_new_ISW_4.h5\n",
      "Loaded data: Train 0, Val 0, Test 86\n",
      "ISW\n",
      "ISW\n",
      "ISW\n",
      "0.0\n",
      "\n",
      "bin/Benchmark/ISW/ISW_vineyard_real_new_ISW_5.h5\n",
      "Loaded data: Train 0, Val 0, Test 86\n",
      "ISW\n",
      "ISW\n",
      "ISW\n",
      "0.0\n",
      "\n",
      "lavender_real: 6.587828857684972e-05\n",
      "\n"
     ]
    }
   ],
   "source": [
    "for target in targets:\n",
    "    print(f'{target}\\n')\n",
    "    res = test_fn(config,\n",
    "                  weights,\n",
    "                  [target],\n",
    "                  strategy=None)\n",
    "    print(f'{target}: {np.mean(res)}\\n')"
   ]
  },
  {
   "cell_type": "code",
   "execution_count": null,
   "id": "573da53f",
   "metadata": {
    "ExecuteTime": {
     "end_time": "2023-06-29T08:46:05.071768Z",
     "start_time": "2023-06-29T08:46:05.071762Z"
    }
   },
   "outputs": [],
   "source": [
    "raise StopExecution"
   ]
  },
  {
   "cell_type": "code",
   "execution_count": null,
   "id": "bbe1be96",
   "metadata": {
    "ExecuteTime": {
     "end_time": "2023-06-29T08:49:12.292336Z",
     "start_time": "2023-06-29T08:49:12.278667Z"
    },
    "code_folding": [
     0
    ]
   },
   "outputs": [],
   "source": [
    "ls = visualize_fn(config,\n",
    "             weights,\n",
    "             targets,\n",
    "             strategy=None,\n",
    "             conf=0.0,\n",
    "             soft=False,\n",
    "             save=True)"
   ]
  },
  {
   "attachments": {},
   "cell_type": "markdown",
   "id": "d5a7adda",
   "metadata": {
    "heading_collapsed": true
   },
   "source": [
    "# Development"
   ]
  },
  {
   "cell_type": "code",
   "execution_count": null,
   "id": "fbabdb61",
   "metadata": {
    "ExecuteTime": {
     "end_time": "2023-06-29T08:46:05.072476Z",
     "start_time": "2023-06-29T08:46:05.072470Z"
    },
    "hidden": true
   },
   "outputs": [],
   "source": [
    "config = read_yaml('utils/config.yaml')\n",
    "\n",
    "config['NAME'] = 'test'\n",
    "config['ID'] = 0\n",
    "config['BATCH_SIZE'] = 64\n",
    "\n",
    "config['TARGET'] = 'pero'\n",
    "config['METHOD'] = 'ISW'\n",
    "config['WHITEN_LAYERS'] = [0,1,2]\n",
    "\n",
    "model_name = 'bin/Benchmark/test_isw_bieta_ISW_0.h5'"
   ]
  },
  {
   "cell_type": "code",
   "execution_count": null,
   "id": "265a94a9",
   "metadata": {
    "ExecuteTime": {
     "end_time": "2023-06-29T08:46:05.072877Z",
     "start_time": "2023-06-29T08:46:05.072872Z"
    },
    "hidden": true
   },
   "outputs": [],
   "source": [
    "IMN_STD = [0.229, 0.224, 0.225]\n",
    "IMN_MEAN = [0.485, 0.456, 0.406]\n",
    "\n",
    "def predict_some_samples(trainer, n=1, conf=0.0, save=False):\n",
    "    for image, _ in trainer.ds_test:\n",
    "        \n",
    "        out = trainer.model.predict(image[:1], verbose=0)[0][0]\n",
    "        print(out.shape)\n",
    "        print(np.min(out), np.max(out))\n",
    "        out = tf.math.sigmoid(out)\n",
    "        if conf:\n",
    "            plt.imshow(out>conf, alpha=0.8)\n",
    "        else:\n",
    "            plt.imshow(out, alpha=0.8)\n",
    "        i = tf.cast((image[0] * IMN_STD + IMN_MEAN) * 255.0, tf.uint8)\n",
    "        plt.imshow(i, alpha=0.6) \n",
    "        \n",
    "        if save:\n",
    "            plt.savefig(f'./demo/{n-1}.png')\n",
    "        \n",
    "        plt.show()\n",
    "    \n",
    "        n -= 1\n",
    "        if n < 0:\n",
    "            break"
   ]
  },
  {
   "cell_type": "code",
   "execution_count": null,
   "id": "1a4d3306",
   "metadata": {
    "ExecuteTime": {
     "end_time": "2023-06-29T08:46:05.073398Z",
     "start_time": "2023-06-29T08:46:05.073393Z"
    },
    "hidden": true,
    "scrolled": true
   },
   "outputs": [],
   "source": [
    "trainer = Trainer(config, logger=None, strategy=None, test=True)\n",
    "trainer.model.load_weights(model_name)\n",
    "predict_some_samples(trainer, n=5, conf=0., save=False)\n",
    "trainer.evaluate(trainer.ds_test, 'test')"
   ]
  },
  {
   "attachments": {},
   "cell_type": "markdown",
   "id": "3f10f207",
   "metadata": {},
   "source": [
    "# TFLIite Conversion"
   ]
  },
  {
   "cell_type": "code",
   "execution_count": null,
   "id": "596c35aa",
   "metadata": {
    "ExecuteTime": {
     "end_time": "2023-06-29T08:46:05.073781Z",
     "start_time": "2023-06-29T08:46:05.073776Z"
    }
   },
   "outputs": [],
   "source": [
    "raise"
   ]
  },
  {
   "cell_type": "code",
   "execution_count": null,
   "id": "fefc12b9",
   "metadata": {
    "ExecuteTime": {
     "end_time": "2023-06-29T08:46:05.074237Z",
     "start_time": "2023-06-29T08:46:05.074232Z"
    }
   },
   "outputs": [],
   "source": [
    "converter = tf.lite.TFLiteConverter.from_keras_model(trainer.model)\n",
    "converter.experimental_new_converter = True\n",
    "tflite_model = converter.convert()\n",
    "\n",
    "name_model_tflite = 'lavanda.tflite'\n",
    "tflite_model_file = Path(config['MODEL_PATH']).joinpath(name_model_tflite)                          \n",
    "tflite_model_file.write_bytes(tflite_model)"
   ]
  },
  {
   "cell_type": "code",
   "execution_count": null,
   "id": "8bb45330",
   "metadata": {
    "ExecuteTime": {
     "end_time": "2023-06-29T08:46:05.074635Z",
     "start_time": "2023-06-29T08:46:05.074630Z"
    }
   },
   "outputs": [],
   "source": [
    "# Load the TFLite model and allocate tensors.\n",
    "interpreter = tf.lite.Interpreter(model_path=\"bin/lavanda.tflite\")\n",
    "interpreter.allocate_tensors()\n",
    "\n",
    "# Get input and output tensors.\n",
    "input_details = interpreter.get_input_details()\n",
    "output_details = interpreter.get_output_details()"
   ]
  },
  {
   "cell_type": "code",
   "execution_count": null,
   "id": "a4db90c0",
   "metadata": {
    "ExecuteTime": {
     "end_time": "2023-06-29T08:46:05.075003Z",
     "start_time": "2023-06-29T08:46:05.074998Z"
    }
   },
   "outputs": [],
   "source": [
    "output_details[0]"
   ]
  },
  {
   "attachments": {},
   "cell_type": "markdown",
   "id": "f3b0717c",
   "metadata": {
    "heading_collapsed": true
   },
   "source": [
    "# XDED"
   ]
  },
  {
   "cell_type": "code",
   "execution_count": null,
   "id": "108df2c8",
   "metadata": {
    "ExecuteTime": {
     "end_time": "2023-06-29T08:46:05.075422Z",
     "start_time": "2023-06-29T08:46:05.075418Z"
    },
    "hidden": true
   },
   "outputs": [],
   "source": [
    "import tensorflow as tf"
   ]
  },
  {
   "cell_type": "code",
   "execution_count": null,
   "id": "927af9f4",
   "metadata": {
    "ExecuteTime": {
     "end_time": "2023-06-29T08:46:05.075845Z",
     "start_time": "2023-06-29T08:46:05.075840Z"
    },
    "hidden": true
   },
   "outputs": [],
   "source": [
    "class pixelwise_XDEDLoss(tf.keras.losses.Loss):\n",
    "    def __init__(self, temp_factor=2.0):\n",
    "        super(pixelwise_XDEDLoss, self).__init__()\n",
    "        self.temp_factor = temp_factor\n",
    "        self.kl_div = tf.keras.losses.KLDivergence(reduction=tf.keras.losses.Reduction.SUM)\n",
    "        self.CLASS_NUM = 1\n",
    "\n",
    "    def xded_loss(self, input, target):\n",
    "        \n",
    "        loss = self.kl_div(tf.nn.softmax(input/self.temp_factor, axis=-1),\n",
    "                           tf.nn.softmax(target/self.temp_factor, axis=-1)) * (self.temp_factor**2)/input.shape[0]\n",
    "        return loss\n",
    "\n",
    "    def call(self, main_out, gts):\n",
    "        # main_out.shape : [batch, 1, 768, 768]\n",
    "        # gts.shape : [batch, 768, 768]\n",
    "\n",
    "        batch_size = main_out.shape[0]\n",
    "        print(batch_size)\n",
    "        flat_gts = tf.reshape(gts,[-1,1]) # [batch*768*768]\n",
    "        flat_out = tf.reshape(main_out,(-1, self.CLASS_NUM))\n",
    "        not_flat_out = not flat_out\n",
    "\n",
    "        flat_targets = tf.reshape(main_out,(-1, self.CLASS_NUM))\n",
    "        # [batch*768*768, 1]\n",
    "\n",
    "        cur_gt_idx = flat_gts == 1 # [False, True, ...]\n",
    "        not_cur_gt_idx = flat_gts == 0 # [True, False, ...]\n",
    "        print(cur_gt_idx.shape)\n",
    "        \n",
    "        x = tf.boolean_mask(flat_out,cur_gt_idx)\n",
    "        not_x = tf.boolean_mask(flat_out,not_cur_gt_idx)\n",
    "        \n",
    "        flat_targets = tf.reduce_mean(x) * tf.cast(cur_gt_idx,tf.float32)\n",
    "        not_flat_targets = tf.reduce_mean(not_x) * tf.cast(not_cur_gt_idx,tf.float32)\n",
    "        print(flat_out.shape, not_flat_out.shape)\n",
    "        print(flat_targets.shape, not_flat_targets.shape)\n",
    "        \n",
    "        \n",
    "        \n",
    "        return self.xded_loss(flat_out, flat_targets)"
   ]
  },
  {
   "cell_type": "code",
   "execution_count": null,
   "id": "51097cc7",
   "metadata": {
    "ExecuteTime": {
     "end_time": "2023-06-29T08:46:05.076211Z",
     "start_time": "2023-06-29T08:46:05.076206Z"
    },
    "hidden": true
   },
   "outputs": [],
   "source": [
    "ys = tf.random.uniform((64,224,224,1))*10\n",
    "y  = tf.cast(tf.random.uniform((64,224,224,1),maxval=2,dtype=tf.int32), tf.float32)"
   ]
  },
  {
   "cell_type": "code",
   "execution_count": null,
   "id": "7bb37f29",
   "metadata": {
    "ExecuteTime": {
     "end_time": "2023-06-29T08:46:05.076634Z",
     "start_time": "2023-06-29T08:46:05.076630Z"
    },
    "hidden": true
   },
   "outputs": [],
   "source": [
    "print(np.min(ys), np.max(ys))\n",
    "print(np.min(y), np.max(y))"
   ]
  },
  {
   "cell_type": "code",
   "execution_count": null,
   "id": "27df79fa",
   "metadata": {
    "ExecuteTime": {
     "end_time": "2023-06-29T08:46:05.077082Z",
     "start_time": "2023-06-29T08:46:05.077077Z"
    },
    "hidden": true
   },
   "outputs": [],
   "source": [
    "@tf.function\n",
    "def loss(y_pred,y):\n",
    "    l = pixelwise_XDEDLoss()\n",
    "    return l(y_pred,y)"
   ]
  },
  {
   "cell_type": "code",
   "execution_count": null,
   "id": "48da023a",
   "metadata": {
    "ExecuteTime": {
     "end_time": "2023-06-29T08:46:05.077473Z",
     "start_time": "2023-06-29T08:46:05.077468Z"
    },
    "hidden": true
   },
   "outputs": [],
   "source": [
    "loss(ys,y)"
   ]
  },
  {
   "cell_type": "code",
   "execution_count": null,
   "id": "0e633cc4",
   "metadata": {
    "ExecuteTime": {
     "end_time": "2023-06-29T08:46:05.077853Z",
     "start_time": "2023-06-29T08:46:05.077848Z"
    },
    "hidden": true
   },
   "outputs": [],
   "source": [
    "import torch\n",
    "from torch.nn import functional as F"
   ]
  },
  {
   "cell_type": "code",
   "execution_count": null,
   "id": "9d6129f5",
   "metadata": {
    "ExecuteTime": {
     "end_time": "2023-06-29T08:46:05.078262Z",
     "start_time": "2023-06-29T08:46:05.078257Z"
    },
    "hidden": true
   },
   "outputs": [],
   "source": [
    "class pixelwise_XDEDLoss(torch.nn.Module):\n",
    "    def __init__(self, temp_factor=2.0):\n",
    "        super(pixelwise_XDEDLoss, self).__init__()\n",
    "        self.temp_factor = temp_factor\n",
    "        self.kl_div = torch.nn.KLDivLoss(reduction=\"sum\")\n",
    "        self.CLASS_NUM = 1\n",
    "\n",
    "    def xded_loss(self, input, target):\n",
    "        log_p = torch.log_softmax(input/self.temp_factor, dim=0)\n",
    "        q = torch.softmax(target/self.temp_factor, dim=0)\n",
    "        loss = self.kl_div(log_p, q)*(self.temp_factor**2)/input.size(0)\n",
    "        return loss\n",
    "\n",
    "    def forward(self, main_out, gts):\n",
    "        # main_out.shape : [batch, 19, 768, 768]\n",
    "        # gts.shape : [batch, 768, 768]\n",
    "\n",
    "        batch_size = main_out.shape[0]\n",
    "\n",
    "        flat_gts = gts.reshape(-1) # [batch*768*768]\n",
    "        flat_out = main_out.reshape(-1, self.CLASS_NUM)\n",
    "\n",
    "        flat_targets = main_out.clone().detach().reshape(-1, self.CLASS_NUM)\n",
    "        # [batch*768*768, 19]\n",
    "\n",
    "        flat_gt_set = flat_gts.unique().tolist()\n",
    "        ensemble_dict= {}\n",
    "\n",
    "        for f_gt in flat_gt_set:\n",
    "            if f_gt == 255:\n",
    "                continue\n",
    "            cur_gt_idx = flat_gts == f_gt # [False, True, ...]\n",
    "            flat_targets[cur_gt_idx, :] = flat_out[cur_gt_idx].mean(0).detach()\n",
    "\n",
    "        return self.xded_loss(flat_out, flat_targets)"
   ]
  },
  {
   "cell_type": "code",
   "execution_count": null,
   "id": "b283a4bb",
   "metadata": {
    "ExecuteTime": {
     "end_time": "2023-06-29T08:46:05.078658Z",
     "start_time": "2023-06-29T08:46:05.078653Z"
    },
    "hidden": true
   },
   "outputs": [],
   "source": [
    "ys = torch.rand((64,1,224,224))\n",
    "y = torch.randint(size=(64,224,224),high=2)"
   ]
  },
  {
   "cell_type": "code",
   "execution_count": null,
   "id": "bf021116",
   "metadata": {
    "ExecuteTime": {
     "end_time": "2023-06-29T08:46:05.078971Z",
     "start_time": "2023-06-29T08:46:05.078967Z"
    },
    "hidden": true
   },
   "outputs": [],
   "source": [
    "l = pixelwise_XDEDLoss()"
   ]
  },
  {
   "cell_type": "code",
   "execution_count": null,
   "id": "4e930465",
   "metadata": {
    "ExecuteTime": {
     "end_time": "2023-06-29T08:46:05.079378Z",
     "start_time": "2023-06-29T08:46:05.079373Z"
    },
    "hidden": true
   },
   "outputs": [],
   "source": [
    "l(ys,y)"
   ]
  },
  {
   "cell_type": "code",
   "execution_count": null,
   "id": "389fc499",
   "metadata": {
    "hidden": true
   },
   "outputs": [],
   "source": []
  }
 ],
 "metadata": {
  "kernelspec": {
   "display_name": "tensorflow",
   "language": "python",
   "name": "tensorflow"
  },
  "language_info": {
   "codemirror_mode": {
    "name": "ipython",
    "version": 3
   },
   "file_extension": ".py",
   "mimetype": "text/x-python",
   "name": "python",
   "nbconvert_exporter": "python",
   "pygments_lexer": "ipython3",
   "version": "3.8.10"
  },
  "toc": {
   "base_numbering": 1,
   "nav_menu": {},
   "number_sections": true,
   "sideBar": true,
   "skip_h1_title": false,
   "title_cell": "Table of Contents",
   "title_sidebar": "Contents",
   "toc_cell": false,
   "toc_position": {},
   "toc_section_display": true,
   "toc_window_display": false
  },
  "varInspector": {
   "cols": {
    "lenName": 16,
    "lenType": 16,
    "lenVar": 40
   },
   "kernels_config": {
    "python": {
     "delete_cmd_postfix": "",
     "delete_cmd_prefix": "del ",
     "library": "var_list.py",
     "varRefreshCmd": "print(var_dic_list())"
    },
    "r": {
     "delete_cmd_postfix": ") ",
     "delete_cmd_prefix": "rm(",
     "library": "var_list.r",
     "varRefreshCmd": "cat(var_dic_list()) "
    }
   },
   "types_to_exclude": [
    "module",
    "function",
    "builtin_function_or_method",
    "instance",
    "_Feature"
   ],
   "window_display": false
  }
 },
 "nbformat": 4,
 "nbformat_minor": 5
}
