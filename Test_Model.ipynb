{
 "cells": [
  {
   "cell_type": "markdown",
   "id": "c6130acb",
   "metadata": {},
   "source": [
    "# Imports"
   ]
  },
  {
   "cell_type": "code",
   "execution_count": null,
   "id": "7806728f",
   "metadata": {
    "ExecuteTime": {
     "end_time": "2023-04-03T09:32:25.254601Z",
     "start_time": "2023-04-03T09:32:23.863673Z"
    }
   },
   "outputs": [],
   "source": [
    "%matplotlib inline\n",
    "%load_ext autoreload\n",
    "%autoreload 2\n",
    "%config Completer.use_jedi = False"
   ]
  },
  {
   "cell_type": "code",
   "execution_count": null,
   "id": "3df3d98e",
   "metadata": {
    "ExecuteTime": {
     "end_time": "2023-04-03T09:32:25.389832Z",
     "start_time": "2023-04-03T09:32:25.346052Z"
    }
   },
   "outputs": [],
   "source": [
    "import os\n",
    "os.environ['TF_CPP_MIN_LOG_LEVEL'] = '3' \n",
    "\n",
    "import absl.logging\n",
    "absl.logging.set_verbosity(absl.logging.ERROR)\n",
    "\n",
    "import glob\n",
    "import math\n",
    "import random\n",
    "from pathlib import Path\n",
    "\n",
    "import numpy as np\n",
    "import matplotlib.pyplot as plt\n",
    "from tqdm.notebook import tqdm as tqdm\n",
    "\n",
    "import tensorflow as tf\n",
    "import tensorflow_addons as tfa\n",
    "\n",
    "import deepdish as dd\n",
    "\n",
    "from utils.train import Trainer\n",
    "from utils.distiller import Distiller\n",
    "from utils.tools import *\n",
    "from utils.preprocess import *\n",
    "from utils.visualize import *\n",
    "from utils.training_tools import *\n",
    "from utils.models import build_model_multi, build_model_binary\n",
    "from utils.cityscapes_utils import CityscapesDataset\n",
    "from utils.mobilenet_v3 import MobileNetV3Large \n",
    "\n",
    "IMN_STD = [0.229, 0.224, 0.225]\n",
    "IMN_MEAN = [0.485, 0.456, 0.406]"
   ]
  },
  {
   "cell_type": "code",
   "execution_count": null,
   "id": "bdea24b1",
   "metadata": {
    "ExecuteTime": {
     "end_time": "2023-04-03T09:32:25.427890Z",
     "start_time": "2023-04-03T09:32:25.410387Z"
    }
   },
   "outputs": [],
   "source": [
    "physical_devices = tf.config.list_physical_devices('GPU')\n",
    "print(\"Num GPUs:\", physical_devices)\n",
    "\n",
    "#select the working GPU\n",
    "gpus = tf.config.experimental.list_physical_devices('GPU')\n",
    "tf.config.experimental.set_visible_devices(gpus[0], 'GPU')\n",
    "\n",
    "devices = []\n",
    "for g in [0]:\n",
    "    tf.config.experimental.set_memory_growth(gpus[g], True)\n",
    "    devices.append(f'GPU:{g}')\n",
    "#strategy = tf.distribute.MirroredStrategy(devices=devices)"
   ]
  },
  {
   "cell_type": "markdown",
   "id": "1ddf261d",
   "metadata": {},
   "source": [
    "# Test Function"
   ]
  },
  {
   "cell_type": "code",
   "execution_count": null,
   "id": "8573a242",
   "metadata": {
    "ExecuteTime": {
     "end_time": "2023-04-03T09:32:26.705504Z",
     "start_time": "2023-04-03T09:32:26.665378Z"
    }
   },
   "outputs": [],
   "source": [
    "def test_fn(config,\n",
    "            model_path,\n",
    "            targets,\n",
    "            strategy=None):\n",
    "    \n",
    "    for model_name in model_path:\n",
    "        print(str(model_name))\n",
    "        for t in targets:\n",
    "            tf.keras.backend.clear_session()\n",
    "            config['TARGET'] = t\n",
    "            trainer = Trainer(config, logger=None, strategy=strategy, test=True)\n",
    "            trainer.model.load_weights(str(model_name))\n",
    "            loss, metric = trainer.evaluate(trainer.ds_test, 'test')\n",
    "            print(metric.numpy())\n",
    "            print('')"
   ]
  },
  {
   "cell_type": "code",
   "execution_count": null,
   "id": "80a46cf2",
   "metadata": {
    "ExecuteTime": {
     "end_time": "2023-04-03T09:32:27.215615Z",
     "start_time": "2023-04-03T09:32:27.163211Z"
    }
   },
   "outputs": [],
   "source": [
    "def visualize_fn(config,\n",
    "                 model_path,\n",
    "                 targets,\n",
    "                 strategy=None,\n",
    "                 n=1,\n",
    "                 conf=0.0,\n",
    "                 soft=False,\n",
    "                 save=False):\n",
    "    ts = {}\n",
    "    plt.rcParams['figure.figsize'] = [4, 4]\n",
    "    \n",
    "    for model_name in model_path:\n",
    "        print(str(model_name))\n",
    "#         for t in targets:\n",
    "#             if t in str(model_name):\n",
    "#                 config['TARGET'] = t\n",
    "        config['TARGET'] = targets[1]\n",
    "        tf.keras.backend.clear_session()\n",
    "        trainer = Trainer(config, logger=None, strategy=strategy, test=True)\n",
    "        trainer.model.load_weights(str(model_name))\n",
    "        c = n\n",
    "        for image, y in trainer.ds_test:\n",
    "            i = tf.cast((image[0] * IMN_STD + IMN_MEAN) * 255.0, tf.uint8)\n",
    "            plt.imshow(i, alpha=1.0) \n",
    "            plt.axis('off')\n",
    "            if save:\n",
    "                plt.savefig(f'./demo/Input_{config[\"TARGET\"]}_{c}.pdf',bbox_inches='tight', pad_inches=0)  \n",
    "            plt.show()\n",
    "            plt.imshow(y[0], alpha=1.0) \n",
    "            plt.axis('off')\n",
    "            if save:\n",
    "                plt.savefig(f'./demo/GT_{config[\"TARGET\"]}_{c}.pdf',bbox_inches='tight', pad_inches=0)   \n",
    "            plt.show()   \n",
    "            out = trainer.model.predict(image[:1], verbose=0)[0][0]\n",
    "            out = tf.math.sigmoid(out)\n",
    "\n",
    "            if conf:\n",
    "                if soft:\n",
    "                    plt.imshow(out*tf.cast(out>conf, tf.float32), alpha=1)\n",
    "                else:\n",
    "                    plt.imshow(out>conf, alpha=1)\n",
    "            else:\n",
    "                plt.imshow(out, alpha=1.)\n",
    "            plt.axis('off')\n",
    "\n",
    "            if save:\n",
    "                plt.savefig(f'./demo/{label}_{config[\"TARGET\"]}_{c}.pdf',bbox_inches='tight', pad_inches=0)\n",
    "            \n",
    "            plt.show()\n",
    "\n",
    "            c -= 1\n",
    "            if c < 0:\n",
    "                break"
   ]
  },
  {
   "cell_type": "code",
   "execution_count": null,
   "id": "5d9f8b9b",
   "metadata": {
    "ExecuteTime": {
     "end_time": "2023-04-03T09:32:28.134926Z",
     "start_time": "2023-04-03T09:32:28.075779Z"
    }
   },
   "outputs": [],
   "source": [
    "config = read_yaml('utils/config.yaml')\n",
    "\n",
    "config['ID'] = 0\n",
    "config['SEED'] = 43\n",
    "config['METHOD'] = 'IN'\n",
    "config['UNISTYLE'] = True\n",
    "config['WHITEN_LAYERS'] = [0,1,2]\n",
    "\n",
    "model_root= Path('bin/Benchmark/')\n",
    "label = 'IBN'\n",
    "model_path = model_root.joinpath(label)\n",
    "weights = [model_path.joinpath(f) for f in os.listdir(model_path) if f.endswith('.h5') and '1' in f]\n",
    "targets = ['albero','vite_reale','vite']"
   ]
  },
  {
   "cell_type": "code",
   "execution_count": null,
   "id": "bbe1be96",
   "metadata": {
    "ExecuteTime": {
     "end_time": "2023-04-03T09:32:34.957396Z",
     "start_time": "2023-04-03T09:32:28.706842Z"
    },
    "scrolled": false
   },
   "outputs": [],
   "source": [
    "ls = visualize_fn(config,\n",
    "             weights,\n",
    "             targets,\n",
    "             strategy=None,\n",
    "             conf=0.0,\n",
    "             soft=False,\n",
    "             save=True)"
   ]
  },
  {
   "cell_type": "code",
   "execution_count": null,
   "id": "80a714f2",
   "metadata": {
    "ExecuteTime": {
     "end_time": "2023-04-02T09:51:39.313278Z",
     "start_time": "2023-04-02T09:51:39.291077Z"
    }
   },
   "outputs": [],
   "source": [
    "ls.keys()"
   ]
  },
  {
   "cell_type": "code",
   "execution_count": null,
   "id": "aa76ac14",
   "metadata": {
    "ExecuteTime": {
     "end_time": "2023-04-02T09:51:40.955602Z",
     "start_time": "2023-04-02T09:51:40.928158Z"
    }
   },
   "outputs": [],
   "source": [
    "len(ls.values())"
   ]
  },
  {
   "cell_type": "code",
   "execution_count": null,
   "id": "6043a140",
   "metadata": {
    "ExecuteTime": {
     "end_time": "2023-04-02T09:57:17.267372Z",
     "start_time": "2023-04-02T09:57:17.096970Z"
    },
    "scrolled": true
   },
   "outputs": [],
   "source": [
    "e = e = tf.zeros((224,224,1))\n",
    "for key in ls:\n",
    "    if 'vite' not in key:\n",
    "        e += ls[key]\n",
    "        plt.imshow(ls[key], alpha=1.)\n",
    "        plt.axis('off')\n",
    "        plt.show()\n",
    "e = e/3\n",
    "plt.imshow(e, alpha=1.)\n",
    "plt.axis('off')\n",
    "plt.savefig(f'./demo/ens.png',bbox_inches='tight', pad_inches=0)\n",
    "plt.show()\n"
   ]
  },
  {
   "cell_type": "code",
   "execution_count": null,
   "id": "9435fc96",
   "metadata": {
    "ExecuteTime": {
     "end_time": "2023-04-02T09:45:34.042182Z",
     "start_time": "2023-04-02T09:45:34.042177Z"
    }
   },
   "outputs": [],
   "source": [
    "raise"
   ]
  },
  {
   "cell_type": "code",
   "execution_count": null,
   "id": "74c8dece",
   "metadata": {
    "ExecuteTime": {
     "end_time": "2023-04-02T09:45:34.042581Z",
     "start_time": "2023-04-02T09:45:34.042575Z"
    }
   },
   "outputs": [],
   "source": [
    "test_fn(config,\n",
    "        weights,\n",
    "        targets,\n",
    "        strategy=None)"
   ]
  },
  {
   "cell_type": "markdown",
   "id": "d5a7adda",
   "metadata": {
    "heading_collapsed": true
   },
   "source": [
    "# Development"
   ]
  },
  {
   "cell_type": "code",
   "execution_count": null,
   "id": "fbabdb61",
   "metadata": {
    "ExecuteTime": {
     "end_time": "2023-04-02T09:45:34.043052Z",
     "start_time": "2023-04-02T09:45:34.043048Z"
    },
    "hidden": true
   },
   "outputs": [],
   "source": [
    "config = read_yaml('utils/config.yaml')\n",
    "\n",
    "config['NAME'] = 'test'\n",
    "config['ID'] = 0\n",
    "config['BATCH_SIZE'] = 64\n",
    "\n",
    "config['TARGET'] = 'pero'\n",
    "config['METHOD'] = 'ISW'\n",
    "config['WHITEN_LAYERS'] = [0,1,2]\n",
    "\n",
    "model_name = 'bin/Benchmark/test_isw_bieta_ISW_0.h5'"
   ]
  },
  {
   "cell_type": "code",
   "execution_count": null,
   "id": "265a94a9",
   "metadata": {
    "ExecuteTime": {
     "end_time": "2023-04-02T09:45:34.043484Z",
     "start_time": "2023-04-02T09:45:34.043479Z"
    },
    "hidden": true
   },
   "outputs": [],
   "source": [
    "IMN_STD = [0.229, 0.224, 0.225]\n",
    "IMN_MEAN = [0.485, 0.456, 0.406]\n",
    "\n",
    "def predict_some_samples(trainer, n=1, conf=0.0, save=False):\n",
    "    for image, _ in trainer.ds_test:\n",
    "        \n",
    "        out = trainer.model.predict(image[:1], verbose=0)[0][0]\n",
    "        print(out.shape)\n",
    "        print(np.min(out), np.max(out))\n",
    "        out = tf.math.sigmoid(out)\n",
    "        if conf:\n",
    "            plt.imshow(out>conf, alpha=0.8)\n",
    "        else:\n",
    "            plt.imshow(out, alpha=0.8)\n",
    "        i = tf.cast((image[0] * IMN_STD + IMN_MEAN) * 255.0, tf.uint8)\n",
    "        plt.imshow(i, alpha=0.6) \n",
    "        \n",
    "        if save:\n",
    "            plt.savefig(f'./demo/{n-1}.png')\n",
    "        \n",
    "        plt.show()\n",
    "    \n",
    "        n -= 1\n",
    "        if n < 0:\n",
    "            break"
   ]
  },
  {
   "cell_type": "code",
   "execution_count": null,
   "id": "1a4d3306",
   "metadata": {
    "ExecuteTime": {
     "end_time": "2023-04-02T09:45:34.043903Z",
     "start_time": "2023-04-02T09:45:34.043899Z"
    },
    "hidden": true,
    "scrolled": true
   },
   "outputs": [],
   "source": [
    "trainer = Trainer(config, logger=None, strategy=strategy, test=True)\n",
    "trainer.model.load_weights(model_name)\n",
    "predict_some_samples(trainer, n=5, conf=0., save=False)\n",
    "trainer.evaluate(trainer.ds_test, 'test')"
   ]
  },
  {
   "cell_type": "markdown",
   "id": "3f10f207",
   "metadata": {
    "heading_collapsed": true
   },
   "source": [
    "# TFLIite Conversion"
   ]
  },
  {
   "cell_type": "code",
   "execution_count": null,
   "id": "596c35aa",
   "metadata": {
    "ExecuteTime": {
     "end_time": "2023-04-02T09:45:34.044334Z",
     "start_time": "2023-04-02T09:45:34.044330Z"
    },
    "hidden": true
   },
   "outputs": [],
   "source": [
    "raise"
   ]
  },
  {
   "cell_type": "code",
   "execution_count": null,
   "id": "fefc12b9",
   "metadata": {
    "ExecuteTime": {
     "end_time": "2023-04-02T09:45:34.044851Z",
     "start_time": "2023-04-02T09:45:34.044846Z"
    },
    "hidden": true
   },
   "outputs": [],
   "source": [
    "converter = tf.lite.TFLiteConverter.from_keras_model(trainer.model)\n",
    "converter.experimental_new_converter = True\n",
    "tflite_model = converter.convert()\n",
    "\n",
    "name_model_tflite = 'lavanda.tflite'\n",
    "tflite_model_file = Path(config['MODEL_PATH']).joinpath(name_model_tflite)                          \n",
    "tflite_model_file.write_bytes(tflite_model)"
   ]
  },
  {
   "cell_type": "code",
   "execution_count": null,
   "id": "8bb45330",
   "metadata": {
    "ExecuteTime": {
     "end_time": "2023-04-02T09:45:34.045444Z",
     "start_time": "2023-04-02T09:45:34.045439Z"
    },
    "hidden": true
   },
   "outputs": [],
   "source": [
    "# Load the TFLite model and allocate tensors.\n",
    "interpreter = tf.lite.Interpreter(model_path=\"bin/lavanda.tflite\")\n",
    "interpreter.allocate_tensors()\n",
    "\n",
    "# Get input and output tensors.\n",
    "input_details = interpreter.get_input_details()\n",
    "output_details = interpreter.get_output_details()"
   ]
  },
  {
   "cell_type": "code",
   "execution_count": null,
   "id": "a4db90c0",
   "metadata": {
    "ExecuteTime": {
     "end_time": "2023-04-02T09:45:34.045885Z",
     "start_time": "2023-04-02T09:45:34.045881Z"
    },
    "hidden": true
   },
   "outputs": [],
   "source": [
    "output_details[0]"
   ]
  },
  {
   "cell_type": "markdown",
   "id": "f3b0717c",
   "metadata": {
    "heading_collapsed": true
   },
   "source": [
    "# XDED"
   ]
  },
  {
   "cell_type": "code",
   "execution_count": null,
   "id": "108df2c8",
   "metadata": {
    "ExecuteTime": {
     "end_time": "2023-04-02T09:45:34.046319Z",
     "start_time": "2023-04-02T09:45:34.046314Z"
    },
    "hidden": true
   },
   "outputs": [],
   "source": [
    "import tensorflow as tf"
   ]
  },
  {
   "cell_type": "code",
   "execution_count": null,
   "id": "927af9f4",
   "metadata": {
    "ExecuteTime": {
     "end_time": "2023-04-02T09:45:34.046756Z",
     "start_time": "2023-04-02T09:45:34.046751Z"
    },
    "hidden": true
   },
   "outputs": [],
   "source": [
    "class pixelwise_XDEDLoss(tf.keras.losses.Loss):\n",
    "    def __init__(self, temp_factor=2.0):\n",
    "        super(pixelwise_XDEDLoss, self).__init__()\n",
    "        self.temp_factor = temp_factor\n",
    "        self.kl_div = tf.keras.losses.KLDivergence(reduction=tf.keras.losses.Reduction.SUM)\n",
    "        self.CLASS_NUM = 1\n",
    "\n",
    "    def xded_loss(self, input, target):\n",
    "        \n",
    "        loss = self.kl_div(tf.nn.softmax(input/self.temp_factor, axis=-1),\n",
    "                           tf.nn.softmax(target/self.temp_factor, axis=-1)) * (self.temp_factor**2)/input.shape[0]\n",
    "        return loss\n",
    "\n",
    "    def call(self, main_out, gts):\n",
    "        # main_out.shape : [batch, 1, 768, 768]\n",
    "        # gts.shape : [batch, 768, 768]\n",
    "\n",
    "        batch_size = main_out.shape[0]\n",
    "        print(batch_size)\n",
    "        flat_gts = tf.reshape(gts,[-1,1]) # [batch*768*768]\n",
    "        flat_out = tf.reshape(main_out,(-1, self.CLASS_NUM))\n",
    "        not_flat_out = !flat_out\n",
    "\n",
    "        flat_targets = tf.reshape(main_out,(-1, self.CLASS_NUM))\n",
    "        # [batch*768*768, 1]\n",
    "\n",
    "        cur_gt_idx = flat_gts == 1 # [False, True, ...]\n",
    "        not_cur_gt_idx = flat_gts == 0 # [True, False, ...]\n",
    "        print(cur_gt_idx.shape)\n",
    "        \n",
    "        x = tf.boolean_mask(flat_out,cur_gt_idx)\n",
    "        not_x = tf.boolean_mask(flat_out,not_cur_gt_idx)\n",
    "        \n",
    "        flat_targets = tf.reduce_mean(x) * tf.cast(cur_gt_idx,tf.float32)\n",
    "        not_flat_targets = tf.reduce_mean(not_x) * tf.cast(not_cur_gt_idx,tf.float32)\n",
    "        print(flat_out.shape, not_flat_out.shape)\n",
    "        print(flat_targets.shape, not_flat_targets.shape)\n",
    "        \n",
    "        \n",
    "        \n",
    "        return self.xded_loss(flat_out, flat_targets)"
   ]
  },
  {
   "cell_type": "code",
   "execution_count": null,
   "id": "51097cc7",
   "metadata": {
    "ExecuteTime": {
     "end_time": "2023-04-02T09:45:34.047191Z",
     "start_time": "2023-04-02T09:45:34.047186Z"
    },
    "hidden": true
   },
   "outputs": [],
   "source": [
    "ys = tf.random.uniform((64,224,224,1))*10\n",
    "y  = tf.cast(tf.random.uniform((64,224,224,1),maxval=2,dtype=tf.int32), tf.float32)"
   ]
  },
  {
   "cell_type": "code",
   "execution_count": null,
   "id": "7bb37f29",
   "metadata": {
    "ExecuteTime": {
     "end_time": "2023-04-02T09:45:34.047674Z",
     "start_time": "2023-04-02T09:45:34.047670Z"
    },
    "hidden": true
   },
   "outputs": [],
   "source": [
    "print(np.min(ys), np.max(ys))\n",
    "print(np.min(y), np.max(y))"
   ]
  },
  {
   "cell_type": "code",
   "execution_count": null,
   "id": "27df79fa",
   "metadata": {
    "ExecuteTime": {
     "end_time": "2023-04-02T09:45:34.048106Z",
     "start_time": "2023-04-02T09:45:34.048101Z"
    },
    "hidden": true
   },
   "outputs": [],
   "source": [
    "@tf.function\n",
    "def loss(y_pred,y):\n",
    "    l = pixelwise_XDEDLoss()\n",
    "    return l(y_pred,y)"
   ]
  },
  {
   "cell_type": "code",
   "execution_count": null,
   "id": "48da023a",
   "metadata": {
    "ExecuteTime": {
     "end_time": "2023-04-02T09:45:34.048567Z",
     "start_time": "2023-04-02T09:45:34.048562Z"
    },
    "hidden": true
   },
   "outputs": [],
   "source": [
    "loss(ys,y)"
   ]
  },
  {
   "cell_type": "code",
   "execution_count": null,
   "id": "0e633cc4",
   "metadata": {
    "ExecuteTime": {
     "end_time": "2023-04-02T09:45:34.049021Z",
     "start_time": "2023-04-02T09:45:34.049016Z"
    },
    "hidden": true
   },
   "outputs": [],
   "source": [
    "import torch\n",
    "from torch.nn import functional as F"
   ]
  },
  {
   "cell_type": "code",
   "execution_count": null,
   "id": "9d6129f5",
   "metadata": {
    "ExecuteTime": {
     "end_time": "2023-04-02T09:45:34.049524Z",
     "start_time": "2023-04-02T09:45:34.049519Z"
    },
    "hidden": true
   },
   "outputs": [],
   "source": [
    "class pixelwise_XDEDLoss(torch.nn.Module):\n",
    "    def __init__(self, temp_factor=2.0):\n",
    "        super(pixelwise_XDEDLoss, self).__init__()\n",
    "        self.temp_factor = temp_factor\n",
    "        self.kl_div = torch.nn.KLDivLoss(reduction=\"sum\")\n",
    "        self.CLASS_NUM = 1\n",
    "\n",
    "    def xded_loss(self, input, target):\n",
    "        log_p = torch.log_softmax(input/self.temp_factor, dim=0)\n",
    "        q = torch.softmax(target/self.temp_factor, dim=0)\n",
    "        loss = self.kl_div(log_p, q)*(self.temp_factor**2)/input.size(0)\n",
    "        return loss\n",
    "\n",
    "    def forward(self, main_out, gts):\n",
    "        # main_out.shape : [batch, 19, 768, 768]\n",
    "        # gts.shape : [batch, 768, 768]\n",
    "\n",
    "        batch_size = main_out.shape[0]\n",
    "\n",
    "        flat_gts = gts.reshape(-1) # [batch*768*768]\n",
    "        flat_out = main_out.reshape(-1, self.CLASS_NUM)\n",
    "\n",
    "        flat_targets = main_out.clone().detach().reshape(-1, self.CLASS_NUM)\n",
    "        # [batch*768*768, 19]\n",
    "\n",
    "        flat_gt_set = flat_gts.unique().tolist()\n",
    "        ensemble_dict= {}\n",
    "\n",
    "        for f_gt in flat_gt_set:\n",
    "            if f_gt == 255:\n",
    "                continue\n",
    "            cur_gt_idx = flat_gts == f_gt # [False, True, ...]\n",
    "            flat_targets[cur_gt_idx, :] = flat_out[cur_gt_idx].mean(0).detach()\n",
    "\n",
    "        return self.xded_loss(flat_out, flat_targets)"
   ]
  },
  {
   "cell_type": "code",
   "execution_count": null,
   "id": "b283a4bb",
   "metadata": {
    "ExecuteTime": {
     "end_time": "2023-04-02T09:45:34.049956Z",
     "start_time": "2023-04-02T09:45:34.049951Z"
    },
    "hidden": true
   },
   "outputs": [],
   "source": [
    "ys = torch.rand((64,1,224,224))\n",
    "y = torch.randint(size=(64,224,224),high=2)"
   ]
  },
  {
   "cell_type": "code",
   "execution_count": null,
   "id": "bf021116",
   "metadata": {
    "ExecuteTime": {
     "end_time": "2023-04-02T09:45:34.050286Z",
     "start_time": "2023-04-02T09:45:34.050282Z"
    },
    "hidden": true
   },
   "outputs": [],
   "source": [
    "l = pixelwise_XDEDLoss()"
   ]
  },
  {
   "cell_type": "code",
   "execution_count": null,
   "id": "4e930465",
   "metadata": {
    "ExecuteTime": {
     "end_time": "2023-04-02T09:45:34.050780Z",
     "start_time": "2023-04-02T09:45:34.050775Z"
    },
    "hidden": true
   },
   "outputs": [],
   "source": [
    "l(ys,y)"
   ]
  },
  {
   "cell_type": "code",
   "execution_count": null,
   "id": "389fc499",
   "metadata": {
    "hidden": true
   },
   "outputs": [],
   "source": []
  }
 ],
 "metadata": {
  "kernelspec": {
   "display_name": "agrivol",
   "language": "python",
   "name": "agrivol"
  },
  "language_info": {
   "codemirror_mode": {
    "name": "ipython",
    "version": 3
   },
   "file_extension": ".py",
   "mimetype": "text/x-python",
   "name": "python",
   "nbconvert_exporter": "python",
   "pygments_lexer": "ipython3",
   "version": "3.8.10"
  },
  "toc": {
   "base_numbering": 1,
   "nav_menu": {},
   "number_sections": true,
   "sideBar": true,
   "skip_h1_title": false,
   "title_cell": "Table of Contents",
   "title_sidebar": "Contents",
   "toc_cell": false,
   "toc_position": {},
   "toc_section_display": true,
   "toc_window_display": false
  },
  "varInspector": {
   "cols": {
    "lenName": 16,
    "lenType": 16,
    "lenVar": 40
   },
   "kernels_config": {
    "python": {
     "delete_cmd_postfix": "",
     "delete_cmd_prefix": "del ",
     "library": "var_list.py",
     "varRefreshCmd": "print(var_dic_list())"
    },
    "r": {
     "delete_cmd_postfix": ") ",
     "delete_cmd_prefix": "rm(",
     "library": "var_list.r",
     "varRefreshCmd": "cat(var_dic_list()) "
    }
   },
   "types_to_exclude": [
    "module",
    "function",
    "builtin_function_or_method",
    "instance",
    "_Feature"
   ],
   "window_display": false
  }
 },
 "nbformat": 4,
 "nbformat_minor": 5
}
