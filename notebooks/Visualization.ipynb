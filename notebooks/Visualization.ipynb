{
 "cells": [
  {
   "cell_type": "code",
   "execution_count": null,
   "id": "6173de3b",
   "metadata": {
    "ExecuteTime": {
     "end_time": "2023-04-17T07:43:53.943787Z",
     "start_time": "2023-04-17T07:43:53.791437Z"
    }
   },
   "outputs": [],
   "source": [
    "import numpy as np\n",
    "import matplotlib.pyplot as plt"
   ]
  },
  {
   "cell_type": "code",
   "execution_count": null,
   "id": "ff9d5cbb",
   "metadata": {
    "ExecuteTime": {
     "end_time": "2023-04-17T07:43:56.877952Z",
     "start_time": "2023-04-17T07:43:56.869936Z"
    }
   },
   "outputs": [],
   "source": [
    "coord = {\n",
    "\"initial_pose\": [0.0, 18.0],\n",
    "\"goals\": [0.0, -2.0],\n",
    "\"plants_row1\": np.array([[4.06, 18.786],\n",
    "                [4.1, 13.25],\n",
    "                [3.74, 8.096],\n",
    "                [3.61, 3.27],\n",
    "                [3.73, -2.31],\n",
    "                [3.85, -7.77],\n",
    "                [3.35, -13.41],\n",
    "                [3.97, -18.19]]),\n",
    "\"plants_row2\": np.array([[-3.47, 18.425],\n",
    "                [-3.44, 13.24],\n",
    "                [-3.44, 7.96],\n",
    "                [-3.74, 2.71],\n",
    "                [-3.65, -2.336],\n",
    "                [-3.25, -8.05],\n",
    "                [-3.55, -13.67],\n",
    "                [-4.05, -18.68]]),\n",
    "\"plants_row3\": np.array([[-1.1369385234313862, -11.080319365420111],\n",
    "                [-0.8644572925408824, -9.93029210103936],\n",
    "                [-1.115042126006718, -8.856068931498909],\n",
    "                [-0.8541056318171747, -7.995266571479213],\n",
    "                [-1.0050905847501796, -6.985578568759601 ],\n",
    "                [-0.9517193566263398, -5.816365453554966 ],\n",
    "                [-1.1097147019836553, -4.95022545397924 ],\n",
    "                [-1.0301929645006078, -4.021959288023347],\n",
    "                [-1.0301929645006078, -3.021959288023347 ],\n",
    "                [-1.1939808761895692, -1.992474133626474],\n",
    "                [-1.1179000804935264, -0.9878934820602444],\n",
    "                [-0.9689487845746906, 0.18013546688203375],\n",
    "                [-0.8880424155010905, 0.9101693516476658],\n",
    "                [-0.9383755524190621, 1.9804813983698373],\n",
    "                [-0.9279089562758237, 2.922914199147719],\n",
    "                [-1.0273598002283364, 4.114887269898162],\n",
    "                [-0.8726015179635107, 4.968895928048274],\n",
    "                [-0.9312645101308538, 6.006191349544762],\n",
    "                [-1.1150262077222564, 6.809408907940206],\n",
    "                [-1.0868961665653663, 8.019563718021963],\n",
    "                [-1.1525941378139073, 8.854444643569254],\n",
    "                [-1.0050119723936184, 9.82052461780538],\n",
    "                [-0.9193581951774455, 10.713516973361767]]),\n",
    "\"plants_row4\": np.array([[0.8898385077401845, -10.880108181536874],\n",
    "                [0.8051781468075642, -9.978387317231299],\n",
    "                [0.8362026970230134, -8.883237629483745],\n",
    "                [1.052483808356639, -7.772988545243403],\n",
    "                [1.0663040050392862, -6.912328556803076],\n",
    "                [1.1156369249407279, -5.927663065138604],\n",
    "                [1.0198643716781413, -4.961877738998215],\n",
    "                [1.0573128097704185, -4.0548486085401505],\n",
    "                [0.9608336540622129, -3.160833554045873],\n",
    "                [0.9818901095940279, -2.0679992514319028],\n",
    "                [0.9908683595314239, -0.8792209918206714],\n",
    "                [0.9218887656484381, -0.012591967067298038],\n",
    "                [1.0253414462460926, 0.9172598488056841],\n",
    "                [0.9928705155979819, 2.0377174571602925],\n",
    "                [1.0388094788407976, 3.054002653494076],\n",
    "                [0.8318970277378263, 3.955449659544903],\n",
    "                [1.006569449646887, 4.97908940714222],\n",
    "                [0.9759078907175327, 5.943769283130855],\n",
    "                [1.0776208679019765, 6.9331776659802715],\n",
    "                [0.9547369797991625, 8.069952314158575],\n",
    "                [1.0118104119116034, 8.988873814171795],\n",
    "                [0.9774703384044351, 9.927794898818464],\n",
    "                [0.9993405548423028, 10.732136763245665]])\n",
    "}\n",
    "\n",
    "test = ['Segmentation_min20230414_135246.949712_jackal_ugv_trees/robot_poses_ep0.npy',\n",
    "        'Segmentation_tree20230414_140215.284920_jackal_ugv_trees/robot_poses_ep0.npy']\n",
    "\n",
    "test_2 = ['Segmentation_min20230415_135849.566040_jackal_ugv_pear_medium/robot_poses_ep0.npy',\n",
    "          'Segmentation_tree20230415_140940.626224_jackal_ugv_pear_medium/robot_poses_ep0.npy']"
   ]
  },
  {
   "cell_type": "code",
   "execution_count": null,
   "id": "40cfb473",
   "metadata": {
    "ExecuteTime": {
     "end_time": "2023-04-17T07:44:24.763389Z",
     "start_time": "2023-04-17T07:44:24.758095Z"
    }
   },
   "outputs": [],
   "source": [
    "traj = np.stack([np.load(e)[:,:-1] for e in test])"
   ]
  },
  {
   "cell_type": "code",
   "execution_count": null,
   "id": "9b06eaac",
   "metadata": {
    "ExecuteTime": {
     "end_time": "2023-04-17T07:44:25.221220Z",
     "start_time": "2023-04-17T07:44:25.215822Z"
    }
   },
   "outputs": [],
   "source": [
    "mean = (coord['plants_row1'] + coord['plants_row2']) / 2"
   ]
  },
  {
   "cell_type": "code",
   "execution_count": null,
   "id": "7e41da7e",
   "metadata": {
    "ExecuteTime": {
     "end_time": "2023-04-17T07:44:25.663899Z",
     "start_time": "2023-04-17T07:44:25.659063Z"
    }
   },
   "outputs": [],
   "source": [
    "m = np.interp(traj[0,:,1], mean[:,1], mean[:,0])"
   ]
  },
  {
   "cell_type": "code",
   "execution_count": null,
   "id": "72a24bc0",
   "metadata": {
    "ExecuteTime": {
     "end_time": "2023-04-17T09:35:00.742304Z",
     "start_time": "2023-04-17T09:35:00.483329Z"
    },
    "scrolled": false
   },
   "outputs": [],
   "source": [
    "plt.gca().set_aspect('equal')\n",
    "plt.rcParams['figure.figsize'] = [15, 15]\n",
    "\n",
    "plt.scatter(coord['plants_row1'][:,1], coord['plants_row1'][:,0],\n",
    "            c='tab:green', alpha=0.1, s=8e4, facecolors='tab:green')\n",
    "plt.scatter(coord['plants_row2'][:,1], coord['plants_row2'][:,0],\n",
    "            c='tab:green', alpha=0.1, s=8e4, facecolors='tab:green')\n",
    "\n",
    "plt.scatter(coord['plants_row1'][:,1], coord['plants_row1'][:,0],\n",
    "            c='tab:brown', alpha=0.6, s=1e3)\n",
    "plt.scatter(coord['plants_row2'][:,1], coord['plants_row2'][:,0],\n",
    "            c='tab:brown', alpha=0.6, s=1e3)\n",
    "\n",
    "plt.scatter(traj[0,:,1], m, c='tab:blue', s=10, alpha=1, label='GT')\n",
    "plt.scatter(traj[0,:,1], traj[0,:,0], c='tab:red', s=10, alpha=1, label='SegMin')\n",
    "plt.scatter(traj[1,:,1], traj[1,:,0], c='tab:orange', s=10, alpha=1, label='SegMinD')\n",
    "\n",
    "plt.xlim(-2.5, 18.6)\n",
    "plt.ylim(-5, 5.5)\n",
    "plt.xticks(np.arange(-2.5, 18.6, step=1), fontsize=12)\n",
    "plt.yticks(np.arange(-5, 5.5, step=1), fontsize=12)\n",
    "\n",
    "plt.gca().invert_yaxis()\n",
    "\n",
    "plt.grid(alpha=0.3, which='both')\n",
    "lgnd = plt.legend(loc=\"lower right\", scatterpoints=1, fontsize=16)\n",
    "lgnd.legendHandles[0]._sizes = [50]\n",
    "lgnd.legendHandles[1]._sizes = [50]\n",
    "lgnd.legendHandles[2]._sizes = [50]\n",
    "\n",
    "plt.savefig('trajectories.pdf', bbox_inches='tight')\n",
    "plt.show()"
   ]
  },
  {
   "cell_type": "code",
   "execution_count": null,
   "id": "99ddad0a",
   "metadata": {
    "ExecuteTime": {
     "end_time": "2023-04-17T07:44:01.701866Z",
     "start_time": "2023-04-17T07:44:01.695754Z"
    }
   },
   "outputs": [],
   "source": [
    "t1 = np.load(test_2[0])[:-1,:-1]\n",
    "t2 = np.load(test_2[1])[:,:-1]\n",
    "traj = np.stack((t1,t2))"
   ]
  },
  {
   "cell_type": "code",
   "execution_count": null,
   "id": "6ab7f5d3",
   "metadata": {
    "ExecuteTime": {
     "end_time": "2023-04-17T07:44:03.399958Z",
     "start_time": "2023-04-17T07:44:03.396072Z"
    }
   },
   "outputs": [],
   "source": [
    "mean = (coord['plants_row3'] + coord['plants_row4']) / 2"
   ]
  },
  {
   "cell_type": "code",
   "execution_count": null,
   "id": "c2ca4786",
   "metadata": {
    "ExecuteTime": {
     "end_time": "2023-04-17T07:44:03.908347Z",
     "start_time": "2023-04-17T07:44:03.903839Z"
    }
   },
   "outputs": [],
   "source": [
    "m = np.interp(traj[0,:,1], mean[:,1], mean[:,0])"
   ]
  },
  {
   "cell_type": "code",
   "execution_count": null,
   "id": "83dce2f8",
   "metadata": {
    "ExecuteTime": {
     "end_time": "2023-04-17T07:44:09.907387Z",
     "start_time": "2023-04-17T07:44:09.722306Z"
    },
    "scrolled": false
   },
   "outputs": [],
   "source": [
    "plt.gca().set_aspect('equal')\n",
    "plt.rcParams['figure.figsize'] = [15, 15]\n",
    "\n",
    "plt.scatter(coord['plants_row3'][:,1], coord['plants_row3'][:,0],\n",
    "            c='tab:green', alpha=0.1, s=5e3, facecolors='tab:green')\n",
    "plt.scatter(coord['plants_row4'][:,1], coord['plants_row4'][:,0],\n",
    "            c='tab:green', alpha=0.1, s=5e3, facecolors='tab:green')\n",
    "\n",
    "plt.scatter(coord['plants_row3'][:,1], coord['plants_row3'][:,0],\n",
    "            c='tab:brown', alpha=0.6, s=2e2)\n",
    "plt.scatter(coord['plants_row4'][:,1], coord['plants_row4'][:,0],\n",
    "            c='tab:brown', alpha=0.6, s=2e2)\n",
    "\n",
    "plt.scatter(traj[0,:,1], m, c='tab:blue', s=10, alpha=1, label='GT')\n",
    "plt.scatter(traj[0,:,1], traj[0,:,0], c='tab:red', s=10, alpha=1, label='SegMin')\n",
    "plt.scatter(traj[1,:,1], traj[1,:,0], c='tab:orange', s=10, alpha=1, label='SegMinD')\n",
    "\n",
    "plt.xlim(-9.5, 11)\n",
    "plt.ylim(-2, 2)\n",
    "plt.xticks(np.arange(-9.5, 11, step=1), fontsize=12)\n",
    "plt.yticks(np.arange(-2, 2, step=1), fontsize=12)\n",
    "\n",
    "plt.gca().invert_yaxis()\n",
    "\n",
    "plt.grid(alpha=0.3, which='both')\n",
    "#lgnd = plt.legend(loc=\"lower right\", scatterpoints=1, fontsize=16)\n",
    "#lgnd.legendHandles[0]._sizes = [50]\n",
    "#lgnd.legendHandles[1]._sizes = [50]\n",
    "#lgnd.legendHandles[2]._sizes = [50]\n",
    "\n",
    "plt.savefig('trajectories_2.pdf', bbox_inches='tight')\n",
    "plt.show()"
   ]
  },
  {
   "cell_type": "code",
   "execution_count": null,
   "id": "0c861624",
   "metadata": {},
   "outputs": [],
   "source": [
    "res = np.array([\n",
    "    [1E-03, 1,\t64.96, 1.41],\n",
    "    [1E-03, 2,\t62.19, 6.72],\n",
    "    [1E-03, 3,\t64.59, 2.47],\n",
    "    [1E-02, 1,\t67.30, 6.48],\n",
    "    [1E-02, 2,\t67.66, 1.16],\n",
    "    [1E-02, 3,\t65.49, 3.99],\n",
    "    [1E-01, 1,\t67.40, 1.03],\n",
    "    [1E-01, 2,\t63.82, 3.66],\n",
    "    [1E-01, 3,\t63.85, 5.69]\n",
    "    ])"
   ]
  },
  {
   "cell_type": "code",
   "execution_count": null,
   "id": "e5c55196",
   "metadata": {},
   "outputs": [],
   "source": [
    "plt.plot(res[:3,1], res[:3,2], 'r', label=r'$\\lambda=10^{-3}$')\n",
    "plt.plot(res[3:6,1], res[3:6,2], 'g', label=r'$\\lambda=10^{-2}$')\n",
    "plt.plot(res[6:9,1], res[6:9,2], 'b', label=r'$\\lambda=10^{-1}$')\n",
    "plt.xlabel(r'$\\tau$')\n",
    "plt.ylabel('mIoU [%]')\n",
    "plt.gca().set_xticks([1,2,3])\n",
    "plt.legend()\n",
    "plt.savefig('T.pdf', bbox_inches='tight')\n",
    "plt.show()"
   ]
  },
  {
   "cell_type": "code",
   "execution_count": null,
   "id": "39e08fa4",
   "metadata": {},
   "outputs": [],
   "source": [
    "plt.plot(res[[0,3,6],0], res[[0,3,6],2], 'r', label=r'$\\tau=1$')\n",
    "plt.plot(res[[1,4,7],0], res[[1,4,7],2], 'g', label=r'$\\tau=2$')\n",
    "plt.plot(res[[2,5,8],0], res[[2,5,8],2], 'b', label=r'$\\tau=3$')\n",
    "plt.semilogx()\n",
    "plt.xlabel(r'$\\lambda$')\n",
    "plt.ylabel('mIoU [%]')\n",
    "plt.legend()\n",
    "plt.savefig('alpha.pdf', bbox_inches='tight')\n",
    "plt.show()"
   ]
  },
  {
   "cell_type": "code",
   "execution_count": null,
   "id": "417422d1",
   "metadata": {},
   "outputs": [],
   "source": []
  }
 ],
 "metadata": {
  "kernelspec": {
   "display_name": "tensorflow",
   "language": "python",
   "name": "python3"
  },
  "language_info": {
   "codemirror_mode": {
    "name": "ipython",
    "version": 3
   },
   "file_extension": ".py",
   "mimetype": "text/x-python",
   "name": "python",
   "nbconvert_exporter": "python",
   "pygments_lexer": "ipython3",
   "version": "3.8.10"
  },
  "toc": {
   "base_numbering": 1,
   "nav_menu": {},
   "number_sections": true,
   "sideBar": true,
   "skip_h1_title": false,
   "title_cell": "Table of Contents",
   "title_sidebar": "Contents",
   "toc_cell": false,
   "toc_position": {},
   "toc_section_display": true,
   "toc_window_display": false
  },
  "varInspector": {
   "cols": {
    "lenName": 16,
    "lenType": 16,
    "lenVar": 40
   },
   "kernels_config": {
    "python": {
     "delete_cmd_postfix": "",
     "delete_cmd_prefix": "del ",
     "library": "var_list.py",
     "varRefreshCmd": "print(var_dic_list())"
    },
    "r": {
     "delete_cmd_postfix": ") ",
     "delete_cmd_prefix": "rm(",
     "library": "var_list.r",
     "varRefreshCmd": "cat(var_dic_list()) "
    }
   },
   "types_to_exclude": [
    "module",
    "function",
    "builtin_function_or_method",
    "instance",
    "_Feature"
   ],
   "window_display": false
  }
 },
 "nbformat": 4,
 "nbformat_minor": 5
}
