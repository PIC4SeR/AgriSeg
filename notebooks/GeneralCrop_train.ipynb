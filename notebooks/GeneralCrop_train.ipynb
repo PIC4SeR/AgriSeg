{
 "cells": [
  {
   "cell_type": "markdown",
   "metadata": {},
   "source": [
    "# Vineyards Navigation with Semantic Segmentation - All Crops\n",
    "\n",
    "Using semantic segmentation for a proportional controller along the vineyard rows.\n",
    "\n",
    "\n",
    "\n",
    "\n",
    "- This notebook contains scripts to create, train, and test a deep learning network to perform fast semantic segmentation on platform with mobile CPUs and low memory capabilities\n",
    "\n",
    "- The implemented architecture is a MobileNetV3 with a customized LR-ASPP"
   ]
  },
  {
   "cell_type": "code",
   "execution_count": null,
   "metadata": {
    "ExecuteTime": {
     "end_time": "2023-03-21T11:39:51.903083Z",
     "start_time": "2023-03-21T11:39:51.640299Z"
    }
   },
   "outputs": [],
   "source": [
    "%matplotlib inline\n",
    "%load_ext autoreload\n",
    "%autoreload 2\n",
    "%cfg Completer.use_jedi = False"
   ]
  },
  {
   "cell_type": "code",
   "execution_count": null,
   "metadata": {
    "ExecuteTime": {
     "end_time": "2023-03-21T11:39:54.720194Z",
     "start_time": "2023-03-21T11:39:52.265788Z"
    }
   },
   "outputs": [],
   "source": [
    "# Libraries\n",
    "import os\n",
    "os.environ['TF_CPP_MIN_LOG_LEVEL'] = '2' \n",
    "\n",
    "import absl.logging\n",
    "absl.logging.set_verbosity(absl.logging.ERROR)\n",
    "\n",
    "import glob\n",
    "import math\n",
    "import random\n",
    "from pathlib import Path\n",
    "\n",
    "#import cv2\n",
    "import numpy as np\n",
    "import matplotlib.pyplot as plt\n",
    "from tqdm.notebook import tqdm as tqdm\n",
    "\n",
    "import tensorflow as tf\n",
    "import tensorflow_addons as tfa\n",
    "\n",
    "from utils.tools import *\n",
    "from utils.preprocess import *\n",
    "from utils.visualize import *\n",
    "from utils.training_tools import *\n",
    "from utils.models import build_model_multi, build_model_binary\n",
    "from utils.cityscapes_utils import CityscapesDataset\n",
    "from utils.mobilenet_v3 import MobileNetV3Large "
   ]
  },
  {
   "cell_type": "code",
   "execution_count": null,
   "metadata": {
    "ExecuteTime": {
     "end_time": "2023-03-21T11:39:54.781315Z",
     "start_time": "2023-03-21T11:39:54.733197Z"
    }
   },
   "outputs": [],
   "source": [
    "physical_devices = tf.config.list_physical_devices('GPU')\n",
    "print(\"Num GPUs:\", physical_devices)\n",
    "\n",
    "#select the working GPU\n",
    "gpus = tf.config.experimental.list_physical_devices('GPU')\n",
    "tf.config.experimental.set_visible_devices(gpus[0], 'GPU')\n",
    "#tf.config.experimental.set_memory_growth(gpus[0], True)\n",
    "tf.config.experimental.set_memory_growth(gpus[0], True)\n",
    "#mirrored_strategy = tf.distribute.MirroredStrategy(devices=['GPU:0','GPU:1'])"
   ]
  },
  {
   "cell_type": "code",
   "execution_count": null,
   "metadata": {
    "ExecuteTime": {
     "end_time": "2023-03-21T11:39:55.989222Z",
     "start_time": "2023-03-21T11:39:55.975890Z"
    }
   },
   "outputs": [],
   "source": [
    "# define dataset import paths\n",
    "ROOT = Path('datasets/')\n",
    "CROPS = ['dataset_lattuga', 'dataset_zucchini', 'dataset_bieta', 'dataset_pero']\n",
    "\n",
    "DATASETS = sorted([ROOT.joinpath(d) for d in CROPS])"
   ]
  },
  {
   "cell_type": "code",
   "execution_count": null,
   "metadata": {
    "ExecuteTime": {
     "end_time": "2023-03-21T11:39:56.805482Z",
     "start_time": "2023-03-21T11:39:56.792814Z"
    }
   },
   "outputs": [],
   "source": [
    "DATASETS"
   ]
  },
  {
   "cell_type": "code",
   "execution_count": null,
   "metadata": {
    "ExecuteTime": {
     "end_time": "2023-03-21T11:39:57.706895Z",
     "start_time": "2023-03-21T11:39:57.678130Z"
    }
   },
   "outputs": [],
   "source": [
    "# define some variables and read cfg\n",
    "config_path = 'utils/cfg.yaml'\n",
    "model_dir = Path('bin/')\n",
    "logs_dir = Path('logs')\n",
    "cfg = read_yaml(config_path)\n",
    "\n",
    "cfg"
   ]
  },
  {
   "cell_type": "markdown",
   "metadata": {},
   "source": [
    "# Pre-process the dataset"
   ]
  },
  {
   "cell_type": "code",
   "execution_count": null,
   "metadata": {
    "ExecuteTime": {
     "end_time": "2023-03-21T11:40:00.882061Z",
     "start_time": "2023-03-21T11:40:00.861764Z"
    }
   },
   "outputs": [],
   "source": [
    "def load_subdataset(root, cfg):\n",
    "    img_ds = tf.keras.preprocessing.image_dataset_from_directory(\n",
    "        directory=root.joinpath('images'),\n",
    "        labels=None,\n",
    "        label_mode=None,\n",
    "        class_names=None,\n",
    "        color_mode=\"rgb\",\n",
    "        batch_size=1, # cannot set None in TF 2.6!\n",
    "        image_size=(cfg['IMG_SIZE'], cfg['IMG_SIZE']),\n",
    "        shuffle=False,\n",
    "        seed=None,\n",
    "        interpolation=\"bilinear\",\n",
    "        follow_links=False)\n",
    "\n",
    "    img_ds = img_ds.map(normalize_imagenet)\n",
    "\n",
    "    mask_ds = tf.keras.preprocessing.image_dataset_from_directory(\n",
    "        directory=root.joinpath('masks'),\n",
    "        labels=None,\n",
    "        label_mode=None,\n",
    "        class_names=None,\n",
    "        color_mode=\"grayscale\",\n",
    "        batch_size=1, # cannot set None in TF 2.6!\n",
    "        image_size=(cfg['IMG_SIZE'], cfg['IMG_SIZE']),\n",
    "        shuffle=False,\n",
    "        seed=None,\n",
    "        interpolation=\"bilinear\",\n",
    "        follow_links=False)\n",
    "    \n",
    "    mask_ds = mask_ds.map(normalize)\n",
    "    \n",
    "    return tf.data.Dataset.zip((img_ds, mask_ds))"
   ]
  },
  {
   "cell_type": "code",
   "execution_count": null,
   "metadata": {
    "ExecuteTime": {
     "end_time": "2023-03-21T11:40:01.526215Z",
     "start_time": "2023-03-21T11:40:01.496535Z"
    }
   },
   "outputs": [],
   "source": [
    "def load_dataset(root, cfg):\n",
    "    for f in sorted([root.joinpath(d) for d in os.listdir(root) if not d.startswith('.')]):\n",
    "        print(f)\n",
    "        if 'ds' in locals():\n",
    "            ds = ds.concatenate(load_subdataset(f, cfg))\n",
    "        else:\n",
    "            ds = load_subdataset(f, cfg)\n",
    "    return ds"
   ]
  },
  {
   "cell_type": "code",
   "execution_count": null,
   "metadata": {
    "ExecuteTime": {
     "end_time": "2023-03-21T11:40:02.668123Z",
     "start_time": "2023-03-21T11:40:02.646862Z"
    }
   },
   "outputs": [],
   "source": [
    "def load_datasets(datasets, cfg):\n",
    "    for crop in datasets:\n",
    "        if 'ds' in locals():\n",
    "            ds = ds.concatenate(load_dataset(crop, cfg))\n",
    "        else:\n",
    "            ds = load_dataset(crop, cfg)\n",
    "    return ds"
   ]
  },
  {
   "cell_type": "code",
   "execution_count": null,
   "metadata": {
    "ExecuteTime": {
     "end_time": "2023-03-21T11:40:12.968963Z",
     "start_time": "2023-03-21T11:40:03.167175Z"
    }
   },
   "outputs": [],
   "source": [
    "ds = load_datasets(DATASETS, cfg)"
   ]
  },
  {
   "cell_type": "code",
   "execution_count": null,
   "metadata": {
    "ExecuteTime": {
     "end_time": "2023-03-09T17:08:52.013864Z",
     "start_time": "2023-03-09T17:08:52.011144Z"
    }
   },
   "outputs": [],
   "source": [
    "ds_len = len(ds)\n",
    "test_len = math.floor(ds_len*0.2)\n",
    "val_len = math.floor(test_len*0.2)\n",
    "train_len = ds_len - test_len - val_len"
   ]
  },
  {
   "cell_type": "code",
   "execution_count": null,
   "metadata": {
    "ExecuteTime": {
     "end_time": "2023-03-09T17:08:52.036642Z",
     "start_time": "2023-03-09T17:08:52.029387Z"
    }
   },
   "outputs": [],
   "source": [
    "ds = ds.unbatch()\n",
    "ds = ds.shuffle(ds_len)\n",
    "\n",
    "ds_test = ds.take(val_len)\n",
    "ds_train = ds.skip(val_len)\n",
    "\n",
    "ds_val = ds_train.take(val_len)\n",
    "ds_train = ds_train.skip(val_len)"
   ]
  },
  {
   "cell_type": "code",
   "execution_count": null,
   "metadata": {
    "ExecuteTime": {
     "end_time": "2023-03-09T17:08:52.126571Z",
     "start_time": "2023-03-09T17:08:52.052620Z"
    }
   },
   "outputs": [],
   "source": [
    "ds_train = ds_train.cache()\n",
    "ds_train = ds_train.shuffle(train_len)\n",
    "ds_train = ds_train.map(data_aug)\n",
    "ds_train = ds_train.batch(cfg['BATCH_SIZE'])\n",
    "ds_train = ds_train.prefetch(tf.data.experimental.AUTOTUNE)\n",
    "\n",
    "ds_val = ds_val.cache()\n",
    "ds_val = ds_val.batch(cfg['BATCH_SIZE'])\n",
    "ds_val = ds_val.prefetch(tf.data.experimental.AUTOTUNE)\n",
    "\n",
    "ds_test = ds_test.cache()\n",
    "ds_test = ds_test.batch(cfg['BATCH_SIZE'])\n",
    "ds_test = ds_test.prefetch(tf.data.experimental.AUTOTUNE)"
   ]
  },
  {
   "cell_type": "markdown",
   "metadata": {
    "heading_collapsed": true
   },
   "source": [
    "# VISUALIZE"
   ]
  },
  {
   "cell_type": "code",
   "execution_count": null,
   "metadata": {
    "ExecuteTime": {
     "end_time": "2023-01-20T10:10:16.270570Z",
     "start_time": "2023-01-20T10:08:12.082720Z"
    },
    "hidden": true
   },
   "outputs": [],
   "source": [
    "n_images = 1\n",
    "\n",
    "for img, gt in list(ds_test.unbatch().take(n_images)):\n",
    "    visualize_images(img, gt, pred=None, denormalize=True, vineyard=True, imagenet=True)"
   ]
  },
  {
   "cell_type": "markdown",
   "metadata": {},
   "source": [
    "# Create Mobilenet-v3 with LR-ASPP"
   ]
  },
  {
   "cell_type": "code",
   "execution_count": null,
   "metadata": {
    "ExecuteTime": {
     "end_time": "2023-03-21T11:40:14.496733Z",
     "start_time": "2023-03-21T11:40:12.982637Z"
    }
   },
   "outputs": [],
   "source": [
    "#base model mobile net\n",
    "\n",
    "#with mirrored_strategy.scope():\n",
    "backbone = MobileNetV3Large(input_shape=(cfg['IMG_SIZE'], cfg['IMG_SIZE'], 3),\n",
    "                            alpha=1.0,\n",
    "                            minimalistic=False,\n",
    "                            include_top=False,\n",
    "                            weights='imagenet',\n",
    "                            input_tensor=None,\n",
    "                            classes=cfg['N_CLASSES'],\n",
    "                            pooling='avg',\n",
    "                            dropout_rate=0,\n",
    "                            backend=tf.keras.backend, \n",
    "                            layers=tf.keras.layers, \n",
    "                            models=tf.keras.models, \n",
    "                            utils=tf.keras.utils)\n",
    "\n",
    "model = build_model_binary(backbone, 0, 1)"
   ]
  },
  {
   "cell_type": "code",
   "execution_count": null,
   "metadata": {
    "ExecuteTime": {
     "end_time": "2023-03-21T17:41:19.235900Z",
     "start_time": "2023-03-21T17:41:18.934977Z"
    },
    "jupyter": {
     "outputs_hidden": true
    },
    "tags": []
   },
   "outputs": [],
   "source": [
    "model.summary()"
   ]
  },
  {
   "cell_type": "markdown",
   "metadata": {},
   "source": [
    "# Train the model"
   ]
  },
  {
   "cell_type": "code",
   "execution_count": null,
   "metadata": {
    "ExecuteTime": {
     "end_time": "2023-03-10T18:42:17.445087Z",
     "start_time": "2023-03-10T18:42:17.430477Z"
    }
   },
   "outputs": [],
   "source": [
    "name_model = 'lr_aspp_multicrop_sgd8_b'+str(cfg['BATCH_SIZE'])+'_binary_cityscapes.h5'"
   ]
  },
  {
   "cell_type": "code",
   "execution_count": null,
   "metadata": {
    "ExecuteTime": {
     "end_time": "2023-03-10T18:33:57.662795Z",
     "start_time": "2023-03-10T18:33:57.639685Z"
    }
   },
   "outputs": [],
   "source": [
    "checkpointer = tf.keras.callbacks.ModelCheckpoint(filepath=model_dir, \n",
    "                               monitor = 'val_loss',\n",
    "                               verbose=1, \n",
    "                               save_best_only=True)\n",
    "\n",
    "total_update_steps = cfg['N_EPOCHS'] * (train_len) // cfg['BATCH_SIZE']\n",
    "\n",
    "lr_schedule = tf.keras.optimizers.schedules.PolynomialDecay(initial_learning_rate=1e-3, \n",
    "                                                            decay_steps=total_update_steps, \n",
    "                                                            end_learning_rate=1e-6, power=0.96)"
   ]
  },
  {
   "cell_type": "code",
   "execution_count": null,
   "metadata": {
    "ExecuteTime": {
     "end_time": "2023-03-10T18:42:19.126959Z",
     "start_time": "2023-03-10T18:42:18.976431Z"
    }
   },
   "outputs": [],
   "source": [
    "adam_w = tfa.optimizers.AdamW(learning_rate=lr_schedule, weight_decay=1e-5)\n",
    "sgd = tf.keras.optimizers.SGD(learning_rate=1e-6, momentum=0.99, nesterov=False)\n",
    "adam = tf.keras.optimizers.Adam(learning_rate=3e-4)"
   ]
  },
  {
   "cell_type": "code",
   "execution_count": null,
   "metadata": {
    "ExecuteTime": {
     "end_time": "2023-03-21T11:40:15.091911Z",
     "start_time": "2023-03-21T11:40:15.068434Z"
    }
   },
   "outputs": [],
   "source": [
    "model.compile(optimizer=tf.keras.optimizers.Adam(learning_rate=3e-4),\n",
    "              loss=tf.losses.BinaryCrossentropy(),\n",
    "              metrics = [mIoU])"
   ]
  },
  {
   "cell_type": "code",
   "execution_count": null,
   "metadata": {
    "ExecuteTime": {
     "end_time": "2023-03-10T18:42:20.217793Z",
     "start_time": "2023-03-10T18:42:20.198140Z"
    },
    "scrolled": true
   },
   "outputs": [],
   "source": [
    "# train the model on the new data for a few epochs\n",
    "history = model.fit(ds_train, validation_data=ds_val,\n",
    "                    epochs=cfg['N_EPOCHS'],\n",
    "                    callbacks=[])  "
   ]
  },
  {
   "cell_type": "code",
   "execution_count": null,
   "metadata": {
    "ExecuteTime": {
     "end_time": "2023-01-20T10:48:19.491843Z",
     "start_time": "2023-01-20T10:48:19.274870Z"
    },
    "scrolled": true
   },
   "outputs": [],
   "source": [
    "plot_history(history, metric='metric_IoU')"
   ]
  },
  {
   "cell_type": "code",
   "execution_count": null,
   "metadata": {
    "ExecuteTime": {
     "end_time": "2023-01-20T10:48:19.890433Z",
     "start_time": "2023-01-20T10:48:19.492737Z"
    }
   },
   "outputs": [],
   "source": [
    "model.save(model_dir.joinpath(name_model))"
   ]
  },
  {
   "cell_type": "markdown",
   "metadata": {},
   "source": [
    "# Test the Model"
   ]
  },
  {
   "cell_type": "markdown",
   "metadata": {},
   "source": [
    "## Test on test set with training metrics"
   ]
  },
  {
   "cell_type": "code",
   "execution_count": null,
   "metadata": {
    "ExecuteTime": {
     "end_time": "2023-03-21T11:40:37.305351Z",
     "start_time": "2023-03-21T11:40:36.937309Z"
    }
   },
   "outputs": [],
   "source": [
    "name_model = 'multicrop_pero_KD.h5'\n",
    "model.load_weights(model_dir.joinpath(name_model))"
   ]
  },
  {
   "cell_type": "code",
   "execution_count": null,
   "metadata": {
    "ExecuteTime": {
     "end_time": "2023-03-21T11:40:37.896284Z",
     "start_time": "2023-03-21T11:40:37.869906Z"
    }
   },
   "outputs": [],
   "source": [
    "model.evaluate(ds_test)"
   ]
  },
  {
   "cell_type": "markdown",
   "metadata": {},
   "source": [
    "## Test on some samples"
   ]
  },
  {
   "cell_type": "code",
   "execution_count": null,
   "metadata": {
    "ExecuteTime": {
     "end_time": "2023-03-09T17:06:35.707858Z",
     "start_time": "2023-03-09T17:06:35.686606Z"
    },
    "scrolled": true
   },
   "outputs": [],
   "source": [
    "n_images = 5\n",
    "\n",
    "for img, gt in list(ds_test.unbatch().take(n_images)):\n",
    "    #print(img.shape)\n",
    "    #print(gt)\n",
    "    pred = predict_model_binary(model, img, 0.5).astype(float)\n",
    "    visualize_images(img, gt, pred[0,...,0], denormalize=True, vineyard=True, imagenet=True)"
   ]
  },
  {
   "cell_type": "markdown",
   "metadata": {},
   "source": [
    "# Optimize and save tflite model"
   ]
  },
  {
   "cell_type": "code",
   "execution_count": null,
   "metadata": {
    "ExecuteTime": {
     "end_time": "2023-01-20T10:50:56.339567Z",
     "start_time": "2023-01-20T10:50:56.180397Z"
    }
   },
   "outputs": [],
   "source": [
    "raise"
   ]
  },
  {
   "cell_type": "code",
   "execution_count": null,
   "metadata": {
    "ExecuteTime": {
     "end_time": "2023-03-10T18:42:55.545325Z",
     "start_time": "2023-03-10T18:42:55.529380Z"
    }
   },
   "outputs": [],
   "source": [
    "model_path = model_dir.joinpath(name_model)"
   ]
  },
  {
   "cell_type": "code",
   "execution_count": null,
   "metadata": {
    "ExecuteTime": {
     "end_time": "2023-03-10T18:42:56.043764Z",
     "start_time": "2023-03-10T18:42:56.027585Z"
    }
   },
   "outputs": [],
   "source": [
    "model_path"
   ]
  },
  {
   "cell_type": "code",
   "execution_count": null,
   "metadata": {
    "ExecuteTime": {
     "end_time": "2023-03-10T18:43:08.769010Z",
     "start_time": "2023-03-10T18:42:56.651189Z"
    }
   },
   "outputs": [],
   "source": [
    "from utils.mobilenet_v3 import *\n",
    "\n",
    "model.load_weights(str(model_path))\n",
    "converter = tf.lite.TFLiteConverter.from_keras_model(model)\n",
    "tflite_model = converter.convert()\n",
    "open(\"segmentation.tflite\", \"wb\").write(tflite_model)"
   ]
  },
  {
   "cell_type": "code",
   "execution_count": null,
   "metadata": {
    "ExecuteTime": {
     "end_time": "2023-03-10T18:43:18.723471Z",
     "start_time": "2023-03-10T18:43:18.707661Z"
    }
   },
   "outputs": [],
   "source": [
    "#define functions to import and use tflite model\n",
    "def input_tensor(interpreter):\n",
    "    \"\"\"Returns input tensor view as numpy array of shape (height, width, 3).\"\"\"\n",
    "    tensor_index = interpreter.get_input_details()[0]['index']\n",
    "    return interpreter.tensor(tensor_index)()[0]\n",
    "\n",
    "def output_tensor(interpreter):\n",
    "    \"\"\"Returns dequantized output tensor.\"\"\"\n",
    "    output_details = interpreter.get_output_details()[0]\n",
    "    output_data = interpreter.tensor(output_details['index'])()\n",
    "    return output_data\n",
    "\n",
    "def setInput(interpreter, data):\n",
    "    \"\"\"Copies data to input tensor.\"\"\"\n",
    "    input_tensor(interpreter)[:, :] = data"
   ]
  },
  {
   "cell_type": "code",
   "execution_count": null,
   "metadata": {
    "ExecuteTime": {
     "end_time": "2023-03-10T18:43:19.269616Z",
     "start_time": "2023-03-10T18:43:19.248326Z"
    }
   },
   "outputs": [],
   "source": [
    "interpreter = tf.lite.Interpreter('segmentation.tflite')\n",
    "interpreter.allocate_tensors()"
   ]
  },
  {
   "cell_type": "code",
   "execution_count": null,
   "metadata": {
    "ExecuteTime": {
     "end_time": "2023-01-10T17:31:47.254872Z",
     "start_time": "2023-01-10T17:31:47.254864Z"
    },
    "deletable": false,
    "editable": false,
    "run_control": {
     "frozen": true
    }
   },
   "outputs": [],
   "source": [
    "n_images = 10\n",
    "\n",
    "for img, gt in list(ds_test.unbatch().take(n_images)):\n",
    "    #print(img.shape)\n",
    "    #print(gt.shape)\n",
    "    #model input\n",
    "    setInput(interpreter, img[None,...])\n",
    "    # invoke interpreter\n",
    "    interpreter.invoke()\n",
    "    y_pred = output_tensor(interpreter)[0]\n",
    "    y_pred = (y_pred > 0.5)\n",
    "    #print(y_pred.shape)\n",
    "    visualize_images(img, gt, y_pred, denormalize=False, vineyard=True)"
   ]
  },
  {
   "cell_type": "markdown",
   "metadata": {},
   "source": [
    "# Test"
   ]
  },
  {
   "cell_type": "code",
   "execution_count": null,
   "metadata": {
    "ExecuteTime": {
     "end_time": "2023-03-21T11:40:44.498882Z",
     "start_time": "2023-03-21T11:40:44.482318Z"
    }
   },
   "outputs": [],
   "source": [
    "import h5py"
   ]
  },
  {
   "cell_type": "code",
   "execution_count": null,
   "metadata": {
    "ExecuteTime": {
     "end_time": "2023-03-14T16:37:34.503167Z",
     "start_time": "2023-03-14T16:37:34.366311Z"
    }
   },
   "outputs": [],
   "source": [
    "model.load_weights('bin/multicrop_baseline_zucchini_None.h5')"
   ]
  },
  {
   "cell_type": "code",
   "execution_count": null,
   "metadata": {
    "ExecuteTime": {
     "end_time": "2023-02-02T14:55:53.898127Z",
     "start_time": "2023-02-02T14:55:53.875952Z"
    },
    "scrolled": true
   },
   "outputs": [],
   "source": [
    "model.weights[0]"
   ]
  },
  {
   "cell_type": "code",
   "execution_count": null,
   "metadata": {
    "ExecuteTime": {
     "end_time": "2023-03-14T16:38:27.517339Z",
     "start_time": "2023-03-14T16:38:27.447082Z"
    }
   },
   "outputs": [],
   "source": [
    "model.load_weights('bin/multicrop_miou_zucchini_PADAIN.h5')"
   ]
  },
  {
   "cell_type": "code",
   "execution_count": null,
   "metadata": {
    "ExecuteTime": {
     "end_time": "2023-02-02T14:55:55.007844Z",
     "start_time": "2023-02-02T14:55:54.985403Z"
    },
    "jupyter": {
     "outputs_hidden": true
    },
    "tags": []
   },
   "outputs": [],
   "source": [
    "model.weights[0]"
   ]
  },
  {
   "cell_type": "markdown",
   "metadata": {},
   "source": [
    "# Contrastive Loss"
   ]
  },
  {
   "cell_type": "code",
   "execution_count": null,
   "metadata": {
    "ExecuteTime": {
     "end_time": "2023-03-27T16:52:49.832496Z",
     "start_time": "2023-03-27T16:52:49.024920Z"
    },
    "tags": []
   },
   "outputs": [],
   "source": [
    "import tensorflow as tf\n",
    "# from utils.training_tools import ContrastiveLoss\n",
    "from utils.models import build_model_binary\n",
    "from utils.mobilenet_v3 import MobileNetV3Large "
   ]
  },
  {
   "cell_type": "code",
   "execution_count": null,
   "metadata": {
    "ExecuteTime": {
     "end_time": "2023-03-27T16:52:49.841477Z",
     "start_time": "2023-03-27T16:52:49.840281Z"
    },
    "tags": []
   },
   "outputs": [],
   "source": [
    "BS = 8"
   ]
  },
  {
   "cell_type": "code",
   "execution_count": null,
   "metadata": {
    "ExecuteTime": {
     "end_time": "2023-03-27T16:52:51.491110Z",
     "start_time": "2023-03-27T16:52:50.032526Z"
    }
   },
   "outputs": [],
   "source": [
    "backbone = MobileNetV3Large(input_shape=(224, 224, 3),\n",
    "                            alpha=1.0,\n",
    "                            minimalistic=False,\n",
    "                            include_top=False,\n",
    "                            weights=None,\n",
    "                            input_tensor=None,\n",
    "                            classes=1,\n",
    "                            pooling='avg',\n",
    "                            dropout_rate=False,\n",
    "                            inst_norm='ISW', \n",
    "                            p=0,\n",
    "                            eps=1e-5,\n",
    "                            whiten_layers=[0,1,2],\n",
    "                            backend=tf.keras.backend, layers=tf.keras.layers, models=tf.keras.models, \n",
    "                            utils=tf.keras.utils)"
   ]
  },
  {
   "cell_type": "code",
   "execution_count": null,
   "metadata": {
    "ExecuteTime": {
     "end_time": "2023-03-27T16:52:56.658365Z",
     "start_time": "2023-03-27T16:52:56.541096Z"
    },
    "scrolled": true,
    "tags": []
   },
   "outputs": [],
   "source": [
    "backbone.summary()"
   ]
  },
  {
   "cell_type": "code",
   "execution_count": null,
   "metadata": {
    "ExecuteTime": {
     "end_time": "2023-03-27T16:53:28.776391Z",
     "start_time": "2023-03-27T16:53:28.774533Z"
    },
    "tags": []
   },
   "outputs": [],
   "source": [
    "ls = ['instance_normalization',\n",
    "      'instance_normalization_1',\n",
    "      'instance_normalization_2']"
   ]
  },
  {
   "cell_type": "code",
   "execution_count": null,
   "metadata": {
    "ExecuteTime": {
     "end_time": "2023-03-27T16:53:30.538088Z",
     "start_time": "2023-03-27T16:53:30.528916Z"
    },
    "scrolled": true
   },
   "outputs": [],
   "source": [
    "print(backbone.get_layer('Conv').weights)"
   ]
  },
  {
   "cell_type": "code",
   "execution_count": null,
   "metadata": {
    "ExecuteTime": {
     "end_time": "2023-03-27T15:51:53.875359Z",
     "start_time": "2023-03-27T15:51:53.871044Z"
    }
   },
   "outputs": [],
   "source": [
    "print(backbone.get_layer('Conv').weights)"
   ]
  },
  {
   "cell_type": "code",
   "execution_count": null,
   "metadata": {
    "ExecuteTime": {
     "end_time": "2023-03-27T15:53:00.726417Z",
     "start_time": "2023-03-27T15:53:00.721219Z"
    }
   },
   "outputs": [],
   "source": [
    "print(backbone.get_layer('Conv').weights)"
   ]
  },
  {
   "cell_type": "code",
   "execution_count": null,
   "metadata": {
    "ExecuteTime": {
     "end_time": "2023-03-27T16:53:38.367244Z",
     "start_time": "2023-03-27T16:53:38.363737Z"
    },
    "scrolled": true,
    "tags": []
   },
   "outputs": [],
   "source": [
    "for l in ls:\n",
    "    print(backbone.get_layer(l).output)"
   ]
  },
  {
   "cell_type": "code",
   "execution_count": null,
   "metadata": {
    "ExecuteTime": {
     "end_time": "2023-02-09T14:48:38.058876Z",
     "start_time": "2023-02-09T14:48:37.980545Z"
    }
   },
   "outputs": [],
   "source": [
    "model = build_model_binary(backbone, 0.2, 1, dg='PADAIN')"
   ]
  },
  {
   "cell_type": "code",
   "execution_count": null,
   "metadata": {
    "ExecuteTime": {
     "end_time": "2023-02-09T14:48:39.828634Z",
     "start_time": "2023-02-09T14:48:39.794418Z"
    },
    "scrolled": true
   },
   "outputs": [],
   "source": [
    "model.summary()"
   ]
  },
  {
   "cell_type": "code",
   "execution_count": null,
   "metadata": {
    "ExecuteTime": {
     "end_time": "2023-02-09T14:49:51.487640Z",
     "start_time": "2023-02-09T14:49:50.819480Z"
    }
   },
   "outputs": [],
   "source": [
    "inp = tf.random.uniform((BS,224,224,3))\n",
    "y, f = model(inp, training=True)\n",
    "y_b, f_b = model(inp, training=False)"
   ]
  },
  {
   "cell_type": "code",
   "execution_count": null,
   "metadata": {
    "ExecuteTime": {
     "end_time": "2023-02-09T14:50:16.029162Z",
     "start_time": "2023-02-09T14:50:16.026616Z"
    }
   },
   "outputs": [],
   "source": [
    "y.shape, f.shape\n",
    "y_b.shape, f_b.shape"
   ]
  },
  {
   "cell_type": "code",
   "execution_count": null,
   "metadata": {
    "ExecuteTime": {
     "end_time": "2023-02-09T14:50:16.806013Z",
     "start_time": "2023-02-09T14:50:16.797130Z"
    }
   },
   "outputs": [],
   "source": [
    "class ContrastiveLoss(tf.keras.losses.Loss):\n",
    "    \"\"\"\n",
    "    Constrastive loss for features-matching clustering ispired by ArXiv:2002.05709\n",
    "    \"\"\"\n",
    "    def __init__(self, batch_size, weight=0.1, name='cluster_loss'):\n",
    "        super().__init__(name=name)\n",
    "        self.contrastive_labels = tf.range(batch_size)\n",
    "        self.weight = weight\n",
    "        self.temperature = 0.1\n",
    "        \n",
    "    def call(self, y_pred, y_pred_):\n",
    "        B, H, W, C = y_pred.shape\n",
    "        y_pred = tf.reshape(y_pred, (B, H*W*C))\n",
    "        y_pred_ = tf.reshape(y_pred_, (B, H*W*C))\n",
    "        projections_1 = tf.math.l2_normalize(y_pred, axis=1)\n",
    "        projections_2 = tf.math.l2_normalize(y_pred_, axis=1)\n",
    "        similarities = (\n",
    "            tf.matmul(projections_1, projections_2, transpose_b=True) / self.temperature\n",
    "        )\n",
    "        print(similarities.shape)\n",
    "        # The temperature-scaled similarities are used as logits for cross-entropy\n",
    "        # a symmetrized version of the loss is used here\n",
    "        loss_1_2 = tf.keras.losses.sparse_categorical_crossentropy(\n",
    "            self.contrastive_labels, similarities, from_logits=True\n",
    "        )\n",
    "        loss_2_1 = tf.keras.losses.sparse_categorical_crossentropy(\n",
    "            self.contrastive_labels, tf.transpose(similarities), from_logits=True\n",
    "        )\n",
    "        return (loss_1_2 + loss_2_1) / 2 * self.weight"
   ]
  },
  {
   "cell_type": "code",
   "execution_count": null,
   "metadata": {
    "ExecuteTime": {
     "end_time": "2023-02-09T14:50:17.586872Z",
     "start_time": "2023-02-09T14:50:17.584533Z"
    }
   },
   "outputs": [],
   "source": [
    "cl = ContrastiveLoss(BS, weight=0.1)"
   ]
  },
  {
   "cell_type": "code",
   "execution_count": null,
   "metadata": {
    "ExecuteTime": {
     "end_time": "2023-02-09T14:50:18.546460Z",
     "start_time": "2023-02-09T14:50:18.528205Z"
    }
   },
   "outputs": [],
   "source": [
    "cl(f,f_b)"
   ]
  },
  {
   "cell_type": "code",
   "execution_count": null,
   "metadata": {
    "ExecuteTime": {
     "end_time": "2023-02-09T14:50:24.331268Z",
     "start_time": "2023-02-09T14:50:24.327707Z"
    },
    "scrolled": true
   },
   "outputs": [],
   "source": [
    "print(f[0,...,0])"
   ]
  },
  {
   "cell_type": "code",
   "execution_count": null,
   "metadata": {
    "ExecuteTime": {
     "end_time": "2023-02-09T14:50:24.763955Z",
     "start_time": "2023-02-09T14:50:24.760060Z"
    },
    "scrolled": true
   },
   "outputs": [],
   "source": [
    "print(f_b[0,...,0])"
   ]
  },
  {
   "cell_type": "markdown",
   "metadata": {},
   "source": [
    "# Test Inference"
   ]
  },
  {
   "cell_type": "code",
   "execution_count": null,
   "metadata": {
    "ExecuteTime": {
     "end_time": "2023-03-27T13:11:39.849461Z",
     "start_time": "2023-03-27T13:11:38.854203Z"
    }
   },
   "outputs": [],
   "source": [
    "import tensorflow as tf\n",
    "from pathlib import Path\n",
    "# from utils.training_tools import ContrastiveLoss\n",
    "from utils.models import build_model_binary\n",
    "from utils.mobilenet_v3 import MobileNetV3Large \n",
    "import os\n",
    "from PIL import Image \n",
    "import numpy as np\n",
    "from utils.data import normalize_imagenet\n",
    "import matplotlib.pyplot as plt\n",
    "\n",
    "from utils.tools import read_yaml\n",
    "from utils.data import load_multi_dataset\n",
    "\n",
    "from utils.visualize import *\n"
   ]
  },
  {
   "cell_type": "code",
   "execution_count": null,
   "metadata": {
    "ExecuteTime": {
     "end_time": "2023-03-14T16:30:46.821960Z",
     "start_time": "2023-03-14T16:30:46.819758Z"
    }
   },
   "outputs": [],
   "source": [
    "#select CPU\n",
    "#os.environ['CUDA_VISIBLE_DEVICES'] = '-1'"
   ]
  },
  {
   "cell_type": "code",
   "execution_count": null,
   "metadata": {
    "ExecuteTime": {
     "end_time": "2023-03-27T13:11:42.046440Z",
     "start_time": "2023-03-27T13:11:42.040133Z"
    }
   },
   "outputs": [],
   "source": [
    "%cfg Completer.use_jedi = False"
   ]
  },
  {
   "cell_type": "code",
   "execution_count": null,
   "metadata": {
    "ExecuteTime": {
     "end_time": "2023-03-27T13:11:48.926868Z",
     "start_time": "2023-03-27T13:11:48.911293Z"
    }
   },
   "outputs": [],
   "source": [
    "cfg = read_yaml('utils/cfg.yaml')\n",
    "cfg['TARGET'] = 'albero'"
   ]
  },
  {
   "cell_type": "code",
   "execution_count": null,
   "metadata": {
    "ExecuteTime": {
     "end_time": "2023-03-27T13:11:59.734810Z",
     "start_time": "2023-03-27T13:11:59.054520Z"
    },
    "scrolled": true
   },
   "outputs": [],
   "source": [
    "target_dataset = Path('datasets/').joinpath(f\"dataset_{cfg['TARGET']}\")\n",
    "\n",
    "ds_source, ds_target = load_multi_dataset([target_dataset], target_dataset, cfg)"
   ]
  },
  {
   "cell_type": "code",
   "execution_count": null,
   "metadata": {
    "ExecuteTime": {
     "end_time": "2023-03-21T11:40:58.997203Z",
     "start_time": "2023-03-21T11:40:58.984748Z"
    }
   },
   "outputs": [],
   "source": [
    "ds_source"
   ]
  },
  {
   "cell_type": "code",
   "execution_count": null,
   "metadata": {
    "ExecuteTime": {
     "end_time": "2023-03-21T11:51:33.763639Z",
     "start_time": "2023-03-21T11:51:33.388337Z"
    }
   },
   "outputs": [],
   "source": [
    "name_model = 'baselines/multicrop_baseline_aug_lattuga_None.h5'\n",
    "model.load_weights(model_dir.joinpath(name_model))"
   ]
  },
  {
   "cell_type": "code",
   "execution_count": null,
   "metadata": {
    "ExecuteTime": {
     "end_time": "2023-03-21T11:51:34.737059Z",
     "start_time": "2023-03-21T11:51:34.525401Z"
    }
   },
   "outputs": [],
   "source": [
    "n_images = 1\n",
    "\n",
    "for img, gt in list(ds_source[0].unbatch().take(n_images)):\n",
    "    print(np.min(img), np.max(img))\n",
    "    visualize_images(img, gt, pred=None, denormalize=True, vineyard=True, imagenet=True)"
   ]
  },
  {
   "cell_type": "code",
   "execution_count": null,
   "metadata": {
    "ExecuteTime": {
     "end_time": "2023-03-21T11:51:35.203217Z",
     "start_time": "2023-03-21T11:51:35.186001Z"
    }
   },
   "outputs": [],
   "source": [
    "def predict_image(img):\n",
    "    i = Image.open(img)\n",
    "    i = np.array(i)    \n",
    "    if i.shape[-1] > 3:\n",
    "        i = i[...,:-1]\n",
    "        \n",
    "    i_sq = tf.image.resize(i,(224,224))\n",
    "    i = tf.keras.applications.imagenet_utils.preprocess_input(i, mode='torch')\n",
    "    i = tf.image.resize(i, [224, 224])\n",
    "    out = model.predict(i[None,...])[0][0]\n",
    "    \n",
    "    plt.imshow(out, alpha=0.7)\n",
    "    plt.imshow(i_sq/255.0, alpha=0.5) \n",
    "    plt.show()"
   ]
  },
  {
   "cell_type": "code",
   "execution_count": null,
   "metadata": {
    "ExecuteTime": {
     "end_time": "2023-03-21T11:51:36.157967Z",
     "start_time": "2023-03-21T11:51:35.991928Z"
    }
   },
   "outputs": [],
   "source": [
    "s = 0.5\n",
    "\n",
    "ROOT_I = Path('datasets/dataset_bieta/dataset_bieta_1/images/Image1/')\n",
    "LRI = [str(ROOT_I.joinpath(f)) for f in os.listdir(ROOT_I)]\n",
    "    \n",
    "for j in range(5):\n",
    "    predict_image(LRI[j])\n",
    "    break"
   ]
  },
  {
   "cell_type": "code",
   "execution_count": null,
   "metadata": {
    "ExecuteTime": {
     "end_time": "2023-03-21T11:51:37.708017Z",
     "start_time": "2023-03-21T11:51:37.513997Z"
    }
   },
   "outputs": [],
   "source": [
    "Image.open('datasets/test/lavanda/filare_largo/frame0.png')"
   ]
  },
  {
   "cell_type": "code",
   "execution_count": null,
   "metadata": {
    "ExecuteTime": {
     "end_time": "2023-03-21T11:51:38.822679Z",
     "start_time": "2023-03-21T11:51:38.625625Z"
    }
   },
   "outputs": [],
   "source": [
    "predict_image('datasets/test/lavanda/filare_largo/frame1800.png')"
   ]
  },
  {
   "cell_type": "code",
   "execution_count": null,
   "metadata": {
    "ExecuteTime": {
     "end_time": "2023-03-21T11:51:41.279836Z",
     "start_time": "2023-03-21T11:51:41.243931Z"
    }
   },
   "outputs": [],
   "source": [
    "img_list = [\n",
    "    'datasets/dataset_zucchini/dataset_zucchini_1/images/Image1/Image0001.png',\n",
    "    'datasets/dataset_bieta/dataset_bieta_1/images/Image1010/Image0001.png',\n",
    "    'datasets/dataset_lattuga/dataset_lattuga_1/images/Image1010/Image0001.png',\n",
    "    'datasets/dataset_pero/dataset_pero_1/images/Image1010/Image0001.png',\n",
    "    'datasets/dataset_albero/dataset_albero_1/images/Image1/rgb0.png',\n",
    "    'datasets/dataset_vite/dataset_vite_1/images/Image1/Image0001.png'\n",
    "]"
   ]
  },
  {
   "cell_type": "code",
   "execution_count": null,
   "metadata": {
    "ExecuteTime": {
     "end_time": "2023-03-21T11:51:43.674474Z",
     "start_time": "2023-03-21T11:51:42.449823Z"
    }
   },
   "outputs": [],
   "source": [
    "for i in img_list:\n",
    "    predict_image(i)"
   ]
  },
  {
   "cell_type": "code",
   "execution_count": null,
   "metadata": {
    "ExecuteTime": {
     "end_time": "2023-03-21T11:43:35.716298Z",
     "start_time": "2023-03-21T11:43:35.681668Z"
    }
   },
   "outputs": [],
   "source": [
    "i = Image.open('datasets/dataset_zucchini/zucchini_dataset2/images/Image1001/Image0001.png')"
   ]
  },
  {
   "cell_type": "code",
   "execution_count": null,
   "metadata": {
    "ExecuteTime": {
     "end_time": "2023-03-21T11:42:06.019761Z",
     "start_time": "2023-03-21T11:42:06.003666Z"
    }
   },
   "outputs": [],
   "source": [
    "i = np.array(i)"
   ]
  },
  {
   "cell_type": "code",
   "execution_count": null,
   "metadata": {
    "ExecuteTime": {
     "end_time": "2023-02-17T11:32:15.333316Z",
     "start_time": "2023-02-17T11:32:15.225529Z"
    },
    "scrolled": true
   },
   "outputs": [],
   "source": [
    "plt.imshow(i)\n",
    "plt.show()"
   ]
  },
  {
   "cell_type": "code",
   "execution_count": null,
   "metadata": {
    "ExecuteTime": {
     "end_time": "2023-02-17T11:32:16.172445Z",
     "start_time": "2023-02-17T11:32:16.170113Z"
    }
   },
   "outputs": [],
   "source": [
    "i_sq = tf.image.resize(i,(224,224))"
   ]
  },
  {
   "cell_type": "code",
   "execution_count": null,
   "metadata": {
    "ExecuteTime": {
     "end_time": "2023-02-17T11:32:16.675302Z",
     "start_time": "2023-02-17T11:32:16.670527Z"
    }
   },
   "outputs": [],
   "source": [
    "i = normalize_imagenet(i[...,:-1])"
   ]
  },
  {
   "cell_type": "code",
   "execution_count": null,
   "metadata": {
    "ExecuteTime": {
     "end_time": "2023-02-17T11:32:17.254058Z",
     "start_time": "2023-02-17T11:32:17.150799Z"
    }
   },
   "outputs": [],
   "source": [
    "plt.imshow(np.round(i).astype('uint8'))\n",
    "plt.show()"
   ]
  },
  {
   "cell_type": "code",
   "execution_count": null,
   "metadata": {
    "ExecuteTime": {
     "end_time": "2023-02-17T11:32:17.797487Z",
     "start_time": "2023-02-17T11:32:17.790655Z"
    }
   },
   "outputs": [],
   "source": [
    "i = tf.image.resize(i, [224, 224])"
   ]
  },
  {
   "cell_type": "code",
   "execution_count": null,
   "metadata": {
    "ExecuteTime": {
     "end_time": "2023-02-17T11:32:18.548017Z",
     "start_time": "2023-02-17T11:32:18.457736Z"
    }
   },
   "outputs": [],
   "source": [
    "plt.imshow(np.round(i).astype('uint8'))\n",
    "plt.show()"
   ]
  },
  {
   "cell_type": "code",
   "execution_count": null,
   "metadata": {
    "ExecuteTime": {
     "end_time": "2023-03-21T11:41:58.399909Z",
     "start_time": "2023-03-21T11:41:58.372364Z"
    }
   },
   "outputs": [],
   "source": [
    "out = model.predict(i[None,...])[0][0]"
   ]
  },
  {
   "cell_type": "code",
   "execution_count": null,
   "metadata": {
    "ExecuteTime": {
     "end_time": "2023-02-17T11:32:19.885808Z",
     "start_time": "2023-02-17T11:32:19.883027Z"
    }
   },
   "outputs": [],
   "source": [
    "out.shape"
   ]
  },
  {
   "cell_type": "code",
   "execution_count": null,
   "metadata": {
    "ExecuteTime": {
     "end_time": "2023-02-17T11:32:20.567928Z",
     "start_time": "2023-02-17T11:32:20.467017Z"
    },
    "scrolled": true
   },
   "outputs": [],
   "source": [
    "plt.imshow(out, alpha=0.6)\n",
    "plt.imshow(i_sq/255.0, alpha=0.5) "
   ]
  },
  {
   "cell_type": "markdown",
   "metadata": {},
   "source": [
    "# TFLite Conversion"
   ]
  },
  {
   "cell_type": "code",
   "execution_count": null,
   "metadata": {
    "ExecuteTime": {
     "end_time": "2023-03-27T13:11:30.692864Z",
     "start_time": "2023-03-27T13:11:30.619258Z"
    }
   },
   "outputs": [],
   "source": [
    "model.load_weights('bin/lavanda_some_albero_None.h5')"
   ]
  },
  {
   "cell_type": "code",
   "execution_count": null,
   "metadata": {
    "ExecuteTime": {
     "end_time": "2023-03-03T11:56:11.723621Z",
     "start_time": "2023-03-03T11:55:59.749397Z"
    }
   },
   "outputs": [],
   "source": [
    "converter = tf.lite.TFLiteConverter.from_keras_model(model)\n",
    "converter.experimental_new_converter = True\n",
    "tflite_model = converter.convert()\n",
    "\n",
    "name_model_tflite = 'zucchini.tflite'\n",
    "tflite_model_file = Path(cfg['MODEL_PATH']).joinpath(name_model_tflite)                          \n",
    "tflite_model_file.write_bytes(tflite_model)"
   ]
  },
  {
   "cell_type": "markdown",
   "metadata": {},
   "source": [
    "# Test"
   ]
  },
  {
   "cell_type": "code",
   "execution_count": null,
   "metadata": {
    "ExecuteTime": {
     "end_time": "2023-03-02T10:40:36.803657Z",
     "start_time": "2023-03-02T10:40:36.801574Z"
    }
   },
   "outputs": [],
   "source": [
    "r = list(range(10))"
   ]
  },
  {
   "cell_type": "code",
   "execution_count": null,
   "metadata": {
    "ExecuteTime": {
     "end_time": "2023-03-02T10:40:37.133482Z",
     "start_time": "2023-03-02T10:40:37.124014Z"
    }
   },
   "outputs": [],
   "source": [
    "r"
   ]
  },
  {
   "cell_type": "code",
   "execution_count": null,
   "metadata": {
    "ExecuteTime": {
     "end_time": "2023-03-02T10:40:41.760947Z",
     "start_time": "2023-03-02T10:40:41.755731Z"
    }
   },
   "outputs": [],
   "source": [
    "r[::2]"
   ]
  },
  {
   "cell_type": "code",
   "execution_count": null,
   "metadata": {
    "ExecuteTime": {
     "end_time": "2023-03-02T15:54:34.805064Z",
     "start_time": "2023-03-02T15:54:34.795110Z"
    }
   },
   "outputs": [],
   "source": [
    "(12960+1440)/3"
   ]
  },
  {
   "cell_type": "code",
   "execution_count": null,
   "metadata": {
    "ExecuteTime": {
     "end_time": "2023-03-15T09:52:44.188999Z",
     "start_time": "2023-03-15T09:52:44.184380Z"
    }
   },
   "outputs": [],
   "source": [
    "kd_loss_fn = tf.keras.losses.KLDivergence(reduction=tf.keras.losses.Reduction.NONE)\n",
    "T = 4"
   ]
  },
  {
   "cell_type": "code",
   "execution_count": null,
   "metadata": {
    "ExecuteTime": {
     "end_time": "2023-03-15T09:52:52.254502Z",
     "start_time": "2023-03-15T09:52:52.248466Z"
    }
   },
   "outputs": [],
   "source": [
    "pred_t = tf.random.uniform((32,224,224,1))*10\n",
    "pred = tf.random.uniform((32,224,224,1))*10"
   ]
  },
  {
   "cell_type": "code",
   "execution_count": null,
   "metadata": {
    "ExecuteTime": {
     "end_time": "2023-03-15T09:52:52.656957Z",
     "start_time": "2023-03-15T09:52:52.647240Z"
    }
   },
   "outputs": [],
   "source": [
    "pred_t = tf.reshape(pred_t,(32,-1))\n",
    "pred = tf.reshape(pred,(32,-1))"
   ]
  },
  {
   "cell_type": "code",
   "execution_count": null,
   "metadata": {
    "ExecuteTime": {
     "end_time": "2023-03-15T09:52:53.051295Z",
     "start_time": "2023-03-15T09:52:53.044336Z"
    }
   },
   "outputs": [],
   "source": [
    "aux_loss = kd_loss_fn(tf.nn.softmax(pred_t / T, axis=-1),\n",
    "                      tf.nn.softmax(pred / T, axis=-1))* T**2"
   ]
  },
  {
   "cell_type": "code",
   "execution_count": null,
   "metadata": {
    "ExecuteTime": {
     "end_time": "2023-03-15T09:52:53.451409Z",
     "start_time": "2023-03-15T09:52:53.446034Z"
    }
   },
   "outputs": [],
   "source": [
    "aux_loss.shape"
   ]
  },
  {
   "cell_type": "code",
   "execution_count": null,
   "metadata": {
    "ExecuteTime": {
     "end_time": "2023-03-15T09:52:54.182770Z",
     "start_time": "2023-03-15T09:52:54.170086Z"
    }
   },
   "outputs": [],
   "source": [
    "tf.reduce_mean(aux_loss)"
   ]
  }
 ],
 "metadata": {
  "kernelspec": {
   "display_name": "tf",
   "language": "python",
   "name": "python3"
  },
  "language_info": {
   "codemirror_mode": {
    "name": "ipython",
    "version": 3
   },
   "file_extension": ".py",
   "mimetype": "text/x-python",
   "name": "python",
   "nbconvert_exporter": "python",
   "pygments_lexer": "ipython3",
   "version": "3.9.18"
  },
  "toc": {
   "base_numbering": 1,
   "nav_menu": {},
   "number_sections": true,
   "sideBar": true,
   "skip_h1_title": false,
   "title_cell": "Table of Contents",
   "title_sidebar": "Contents",
   "toc_cell": false,
   "toc_position": {
    "height": "calc(100% - 180px)",
    "left": "10px",
    "top": "150px",
    "width": "305px"
   },
   "toc_section_display": true,
   "toc_window_display": false
  },
  "varInspector": {
   "cols": {
    "lenName": 16,
    "lenType": 16,
    "lenVar": 40
   },
   "kernels_config": {
    "python": {
     "delete_cmd_postfix": "",
     "delete_cmd_prefix": "del ",
     "library": "var_list.py",
     "varRefreshCmd": "print(var_dic_list())"
    },
    "r": {
     "delete_cmd_postfix": ") ",
     "delete_cmd_prefix": "rm(",
     "library": "var_list.r",
     "varRefreshCmd": "cat(var_dic_list()) "
    }
   },
   "types_to_exclude": [
    "module",
    "function",
    "builtin_function_or_method",
    "instance",
    "_Feature"
   ],
   "window_display": false
  }
 },
 "nbformat": 4,
 "nbformat_minor": 4
}
