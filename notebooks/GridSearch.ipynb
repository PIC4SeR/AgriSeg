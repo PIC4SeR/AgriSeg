{
 "cells": [
  {
   "cell_type": "code",
   "execution_count": null,
   "id": "fe44e2f2",
   "metadata": {
    "ExecuteTime": {
     "end_time": "2023-03-25T07:13:49.758390Z",
     "start_time": "2023-03-25T07:13:49.737448Z"
    }
   },
   "outputs": [],
   "source": [
    "import optuna\n",
    "import joblib"
   ]
  },
  {
   "cell_type": "markdown",
   "id": "b9e00128",
   "metadata": {},
   "source": [
    "# Single Study"
   ]
  },
  {
   "cell_type": "code",
   "execution_count": null,
   "id": "1b2a70af",
   "metadata": {
    "ExecuteTime": {
     "end_time": "2023-03-26T16:55:08.184706Z",
     "start_time": "2023-03-26T16:55:08.171647Z"
    }
   },
   "outputs": [],
   "source": [
    "study = joblib.load(\"../trials/hp_search_hp_new_['tree_2', 'chard', 'lettuce', 'vineyard'].pkl\")\n",
    "print(f\"Best trial until now ({len(study.trials)} trials):\")\n",
    "print(\" Value: \", study.best_trial.value)\n",
    "print(\" Params: \")\n",
    "for key, value in study.best_trial.params.items():\n",
    "    print(f\"   {key}: {value}\")"
   ]
  },
  {
   "cell_type": "code",
   "execution_count": null,
   "id": "7d8f2a8e",
   "metadata": {
    "ExecuteTime": {
     "end_time": "2023-03-26T16:55:13.532773Z",
     "start_time": "2023-03-26T16:55:13.521322Z"
    }
   },
   "outputs": [],
   "source": [
    "fig = optuna.visualization.plot_parallel_coordinate(study)\n",
    "fig.show()"
   ]
  },
  {
   "cell_type": "code",
   "execution_count": null,
   "id": "e593bc9b",
   "metadata": {
    "ExecuteTime": {
     "end_time": "2023-03-26T16:55:13.731378Z",
     "start_time": "2023-03-26T16:55:13.654938Z"
    }
   },
   "outputs": [],
   "source": [
    "fig = optuna.visualization.plot_param_importances(study)\n",
    "fig.show()"
   ]
  },
  {
   "cell_type": "code",
   "execution_count": null,
   "id": "629624a1",
   "metadata": {
    "ExecuteTime": {
     "end_time": "2023-03-26T16:53:35.470064Z",
     "start_time": "2023-03-26T16:53:35.444995Z"
    }
   },
   "outputs": [],
   "source": [
    "fig = optuna.visualization.plot_intermediate_values(study)\n",
    "fig.show()"
   ]
  },
  {
   "cell_type": "code",
   "execution_count": null,
   "id": "100700a8",
   "metadata": {
    "ExecuteTime": {
     "end_time": "2023-03-26T16:53:37.425352Z",
     "start_time": "2023-03-26T16:53:37.423200Z"
    },
    "scrolled": true
   },
   "outputs": [],
   "source": [
    "df = study.trials_dataframe()"
   ]
  },
  {
   "cell_type": "code",
   "execution_count": null,
   "id": "a1fc0382",
   "metadata": {
    "ExecuteTime": {
     "end_time": "2023-03-26T16:53:38.254880Z",
     "start_time": "2023-03-26T16:53:38.227009Z"
    }
   },
   "outputs": [],
   "source": [
    "df.sort_values(\"value\", ascending=False)[['value', 'params_LR', 'params_ALPHA', 'params_T']]"
   ]
  },
  {
   "cell_type": "code",
   "execution_count": null,
   "id": "f79da8c2",
   "metadata": {},
   "outputs": [],
   "source": []
  },
  {
   "cell_type": "code",
   "execution_count": null,
   "id": "9835ef5d",
   "metadata": {},
   "outputs": [],
   "source": []
  }
 ],
 "metadata": {
  "kernelspec": {
   "display_name": "tf",
   "language": "python",
   "name": "python3"
  },
  "language_info": {
   "codemirror_mode": {
    "name": "ipython",
    "version": 3
   },
   "file_extension": ".py",
   "mimetype": "text/x-python",
   "name": "python",
   "nbconvert_exporter": "python",
   "pygments_lexer": "ipython3",
   "version": "3.9.18"
  },
  "toc": {
   "base_numbering": 1,
   "nav_menu": {},
   "number_sections": true,
   "sideBar": true,
   "skip_h1_title": false,
   "title_cell": "Table of Contents",
   "title_sidebar": "Contents",
   "toc_cell": false,
   "toc_position": {},
   "toc_section_display": true,
   "toc_window_display": false
  },
  "varInspector": {
   "cols": {
    "lenName": 16,
    "lenType": 16,
    "lenVar": 40
   },
   "kernels_config": {
    "python": {
     "delete_cmd_postfix": "",
     "delete_cmd_prefix": "del ",
     "library": "var_list.py",
     "varRefreshCmd": "print(var_dic_list())"
    },
    "r": {
     "delete_cmd_postfix": ") ",
     "delete_cmd_prefix": "rm(",
     "library": "var_list.r",
     "varRefreshCmd": "cat(var_dic_list()) "
    }
   },
   "types_to_exclude": [
    "module",
    "function",
    "builtin_function_or_method",
    "instance",
    "_Feature"
   ],
   "window_display": false
  }
 },
 "nbformat": 4,
 "nbformat_minor": 5
}
