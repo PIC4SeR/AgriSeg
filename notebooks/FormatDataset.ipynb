{
 "cells": [
  {
   "cell_type": "markdown",
   "id": "44078a6c",
   "metadata": {
    "heading_collapsed": true
   },
   "source": [
    "# Format Dataset"
   ]
  },
  {
   "cell_type": "code",
   "execution_count": null,
   "id": "8f525ff1",
   "metadata": {
    "ExecuteTime": {
     "end_time": "2023-06-08T13:27:57.195444Z",
     "start_time": "2023-06-08T13:27:57.186971Z"
    },
    "hidden": true
   },
   "outputs": [],
   "source": [
    "%matplotlib inline\n",
    "%load_ext autoreload\n",
    "%autoreload 2\n",
    "%config Completer.use_jedi = False"
   ]
  },
  {
   "cell_type": "code",
   "execution_count": null,
   "id": "9495bc0a",
   "metadata": {
    "ExecuteTime": {
     "end_time": "2023-06-08T13:27:58.542079Z",
     "start_time": "2023-06-08T13:27:57.539276Z"
    },
    "hidden": true
   },
   "outputs": [],
   "source": [
    "# Libraries\n",
    "import os\n",
    "import glob\n",
    "import matplotlib.pyplot as plt\n",
    "os.environ[\"OPENCV_IO_ENABLE_OPENEXR\"]=\"1\"\n",
    "import cv2\n",
    "import numpy as np\n",
    "from tqdm.notebook import tqdm as tqdm\n",
    "import tensorflow as tf\n",
    "import random\n",
    "from pathlib import Path\n",
    "\n",
    "from utils.tools import *\n",
    "from utils.preprocess import *\n",
    "from utils.visualize import *\n",
    "from utils.data import *"
   ]
  },
  {
   "cell_type": "code",
   "execution_count": null,
   "id": "76099bac",
   "metadata": {
    "ExecuteTime": {
     "end_time": "2023-06-08T13:27:58.765907Z",
     "start_time": "2023-06-08T13:27:58.746421Z"
    },
    "hidden": true
   },
   "outputs": [],
   "source": [
    "physical_devices = tf.config.list_physical_devices('GPU')\n",
    "print(\"Num GPUs:\", physical_devices)\n",
    "\n",
    "#select the working GPU\n",
    "gpus = tf.config.experimental.list_physical_devices('GPU')\n",
    "tf.config.experimental.set_visible_devices(gpus[0], 'GPU')\n",
    "tf.config.experimental.set_memory_growth(gpus[0], True)"
   ]
  },
  {
   "cell_type": "code",
   "execution_count": null,
   "id": "0ecc462d",
   "metadata": {
    "ExecuteTime": {
     "end_time": "2023-06-08T13:27:59.661585Z",
     "start_time": "2023-06-08T13:27:59.648931Z"
    },
    "hidden": true
   },
   "outputs": [],
   "source": [
    "## define dataset import paths\n",
    "ROOT = Path('../AgriSeg_Dataset/misc/')\n",
    "DATASETS = sorted([ROOT.joinpath(d) for d in os.listdir(ROOT)\n",
    "                   if not d.startswith('.') and not d.endswith('.yaml')])"
   ]
  },
  {
   "cell_type": "code",
   "execution_count": null,
   "id": "9c65d2b5",
   "metadata": {
    "ExecuteTime": {
     "end_time": "2023-06-08T13:28:02.760648Z",
     "start_time": "2023-06-08T13:28:02.744809Z"
    },
    "hidden": true,
    "scrolled": true
   },
   "outputs": [],
   "source": [
    "# define some variables and read config\n",
    "config_path = 'utils/config.yaml'\n",
    "model_dir = Path('bin')\n",
    "logs_dir = Path('logs')\n",
    "config = read_yaml(config_path)\n",
    "config"
   ]
  },
  {
   "cell_type": "code",
   "execution_count": null,
   "id": "0f12efb0",
   "metadata": {
    "ExecuteTime": {
     "end_time": "2023-06-08T13:28:19.158321Z",
     "start_time": "2023-06-08T13:28:19.145466Z"
    },
    "hidden": true
   },
   "outputs": [],
   "source": [
    "DATASETS"
   ]
  },
  {
   "cell_type": "code",
   "execution_count": null,
   "id": "2eca1474",
   "metadata": {},
   "outputs": [],
   "source": [
    "D = DATASETS[0]\n",
    "\n",
    "ROOT_I = D.joinpath('images')\n",
    "ROOT_M = D.joinpath('masks')\n",
    "try:\n",
    "    os.mkdir(ROOT_I)\n",
    "    os.mkdir(ROOT_M)\n",
    "except:\n",
    "    pass\n",
    "\n",
    "LRM = sorted([str(ROOT_M.joinpath(f)) for f in os.listdir(ROOT_M) if f.startswith('image')])\n",
    "LRI = sorted([str(ROOT_I.joinpath(f)) for f in os.listdir(ROOT_I) if f.startswith('image')])"
   ]
  },
  {
   "cell_type": "code",
   "execution_count": null,
   "id": "1beb2940",
   "metadata": {},
   "outputs": [],
   "source": [
    "len(LRI), len(LRM)"
   ]
  },
  {
   "cell_type": "code",
   "execution_count": null,
   "id": "91624ade",
   "metadata": {
    "ExecuteTime": {
     "end_time": "2023-06-08T10:08:16.299454Z",
     "start_time": "2023-06-08T10:08:16.286046Z"
    },
    "hidden": true
   },
   "outputs": [],
   "source": [
    "def format_subdataset(D):\n",
    "    ROOT_I = D.joinpath('images')\n",
    "    ROOT_M = D.joinpath('masks')\n",
    "    try:\n",
    "        os.mkdir(ROOT_I)\n",
    "        os.mkdir(ROOT_M)\n",
    "    except:\n",
    "        pass\n",
    "\n",
    "    LRM = sorted([str(D.joinpath(f)) for f in os.listdir(ROOT_M) if f.startswith('img')])\n",
    "    LRI = sorted([str(D.joinpath(f)) for f in os.listdir(ROOT_I) if f.startswith('img')])\n",
    "\n",
    "    # LRM = sorted([str(D.joinpath(f).joinpath(os.listdir(D.joinpath(f))[2]))\n",
    "    #               for f in os.listdir(D) if not f.endswith('.json')])\n",
    "    # LRI = sorted([str(D.joinpath(f).joinpath(os.listdir(D.joinpath(f))[3]))\n",
    "    #               for f in os.listdir(D)if not f.endswith('.json')])\n",
    "    print(LRM)\n",
    "    print(LRI)\n",
    "    #move_files(l=LRM, root=ROOT_M)\n",
    "    #move_files(l=LRI, root=ROOT_I)"
   ]
  },
  {
   "cell_type": "code",
   "execution_count": null,
   "id": "632d1dc4",
   "metadata": {
    "ExecuteTime": {
     "end_time": "2023-06-08T13:28:21.474222Z",
     "start_time": "2023-06-08T13:28:21.455132Z"
    },
    "hidden": true
   },
   "outputs": [],
   "source": [
    "D = DATASETS[0]\n",
    "[str(D.joinpath(f).joinpath(os.listdir(D.joinpath(f))[0])) for f in os.listdir(D) if not f.endswith('.json') and not f.startswith('.')]"
   ]
  },
  {
   "cell_type": "code",
   "execution_count": null,
   "id": "8a3cd039",
   "metadata": {
    "ExecuteTime": {
     "end_time": "2023-06-08T10:08:17.824422Z",
     "start_time": "2023-06-08T10:08:17.811851Z"
    },
    "hidden": true
   },
   "outputs": [],
   "source": [
    "def move_files(l, root):\n",
    "    for i, f in enumerate(sorted(l)):\n",
    "        fname = f.split('/')[-1]\n",
    "        print(fname)\n",
    "        destf = root.joinpath(f'Image{i+1}')\n",
    "        os.mkdir(destf)\n",
    "        print(destf)\n",
    "        os.replace(f, destf.joinpath(fname))\n",
    "        print(f, destf.joinpath(fname))\n",
    "        #break"
   ]
  },
  {
   "cell_type": "code",
   "execution_count": null,
   "id": "21fc3107",
   "metadata": {},
   "outputs": [],
   "source": [
    "move_files(l=LRI, root=ROOT_I)"
   ]
  },
  {
   "cell_type": "code",
   "execution_count": null,
   "id": "e7e05b9e",
   "metadata": {
    "ExecuteTime": {
     "end_time": "2023-06-08T10:08:18.740414Z",
     "start_time": "2023-06-08T10:08:18.715334Z"
    },
    "collapsed": true,
    "hidden": true
   },
   "outputs": [],
   "source": [
    "for d in DATASETS:\n",
    "    format_subdataset(d)"
   ]
  },
  {
   "cell_type": "code",
   "execution_count": null,
   "id": "b40e8c3b",
   "metadata": {
    "ExecuteTime": {
     "end_time": "2023-03-14T11:46:37.151610Z",
     "start_time": "2023-03-14T11:46:37.139554Z"
    },
    "hidden": true
   },
   "outputs": [],
   "source": [
    "### DANGER ###\n",
    "\n",
    "# for i in LRM+LRI:\n",
    "#     os.remove(i)"
   ]
  },
  {
   "cell_type": "markdown",
   "id": "77e9acfa",
   "metadata": {
    "heading_collapsed": true
   },
   "source": [
    "# Display some Images"
   ]
  },
  {
   "cell_type": "code",
   "execution_count": null,
   "id": "788e5e54",
   "metadata": {
    "ExecuteTime": {
     "end_time": "2023-02-21T15:07:26.063924Z",
     "start_time": "2023-02-21T15:07:26.047404Z"
    },
    "hidden": true
   },
   "outputs": [],
   "source": [
    "import os \n",
    "from PIL import Image\n",
    "from pathlib import Path"
   ]
  },
  {
   "cell_type": "code",
   "execution_count": null,
   "id": "ef532554",
   "metadata": {
    "ExecuteTime": {
     "end_time": "2023-02-21T15:07:26.537807Z",
     "start_time": "2023-02-21T15:07:26.486052Z"
    },
    "hidden": true
   },
   "outputs": [],
   "source": [
    "def display_samples(dataset='zucchini', i=0, n=5, s=0.25):\n",
    "    \n",
    "    init = 'z' if dataset == 'zucchini' else 'd'\n",
    "    \n",
    "    ROOT = Path(f'Agrivol_datasets/dataset_{dataset}/')\n",
    "    DATASETS = sorted([ROOT.joinpath(d) for d in os.listdir(ROOT) if d.startswith(init)])\n",
    "    \n",
    "    D = DATASETS[i]\n",
    "    ROOT_I = D.joinpath('images')\n",
    "\n",
    "    LRI = [str(ROOT_I.joinpath(f).joinpath(os.listdir(ROOT_I.joinpath(f))[0])) for f in os.listdir(ROOT_I)]\n",
    "    \n",
    "    for j in range(n):\n",
    "        im = Image.open(LRI[j])\n",
    "        display(im.resize((int(im.width*s),int(im.height*s))))"
   ]
  },
  {
   "cell_type": "code",
   "execution_count": null,
   "id": "dcbf4800",
   "metadata": {
    "ExecuteTime": {
     "end_time": "2023-02-21T12:17:01.040892Z",
     "start_time": "2023-02-21T12:17:00.807466Z"
    },
    "hidden": true,
    "scrolled": true
   },
   "outputs": [],
   "source": [
    "display_samples('zucchini',i=0)"
   ]
  },
  {
   "cell_type": "markdown",
   "id": "8424937d",
   "metadata": {
    "heading_collapsed": true
   },
   "source": [
    "# Format Tree Dataset"
   ]
  },
  {
   "cell_type": "code",
   "execution_count": null,
   "id": "bd8dd195",
   "metadata": {
    "ExecuteTime": {
     "end_time": "2023-03-14T10:59:34.309108Z",
     "start_time": "2023-03-14T10:59:34.284473Z"
    },
    "hidden": true
   },
   "outputs": [],
   "source": [
    "import os \n",
    "from PIL import Image\n",
    "from pathlib import Path"
   ]
  },
  {
   "cell_type": "code",
   "execution_count": null,
   "id": "dac805d7",
   "metadata": {
    "ExecuteTime": {
     "end_time": "2023-03-14T10:59:44.747718Z",
     "start_time": "2023-03-14T10:59:44.724215Z"
    },
    "hidden": true
   },
   "outputs": [],
   "source": [
    "s = 0.5\n",
    "\n",
    "ROOT_I = Path('datasets/dataset_vite/dataset_vite_1/images/')\n",
    "ROOT_M = Path('datasets/dataset_vite/dataset_vite_1/masks/')\n",
    "LRI = [str(ROOT_I.joinpath(f)) for f in os.listdir(ROOT_I)]\n",
    "LRM = [str(ROOT_M.joinpath(f)) for f in os.listdir(ROOT_M)]\n",
    "    \n",
    "# for j in range(5):\n",
    "#     im = Image.open(LRI[j])\n",
    "#     #display(im.resize((int(im.width*s),int(im.height*s))))\n",
    "#     im = np.array(im)\n",
    "#     print(im.min(), im.max())\n",
    "#     plt.imshow(im)\n",
    "#     plt.show()"
   ]
  },
  {
   "cell_type": "code",
   "execution_count": null,
   "id": "391ab7b4",
   "metadata": {
    "ExecuteTime": {
     "end_time": "2023-03-14T10:59:46.769285Z",
     "start_time": "2023-03-14T10:59:46.745637Z"
    },
    "hidden": true
   },
   "outputs": [],
   "source": [
    "sorted(LRM)"
   ]
  },
  {
   "cell_type": "code",
   "execution_count": null,
   "id": "3b82f359",
   "metadata": {
    "ExecuteTime": {
     "end_time": "2023-03-03T09:57:31.324692Z",
     "start_time": "2023-03-03T09:57:31.286858Z"
    },
    "hidden": true
   },
   "outputs": [],
   "source": [
    "for i, f in enumerate(sorted(LRI)):\n",
    "    fname = f.split('/')[-1]\n",
    "    #print(fname)\n",
    "    destf = ROOT_I.joinpath(f'Image{i+1}')\n",
    "    os.mkdir(destf)\n",
    "    #print(destf)\n",
    "    os.replace(f, destf.joinpath(fname))\n",
    "    #print(f, destf.joinpath(fname))\n",
    "    #break"
   ]
  },
  {
   "cell_type": "code",
   "execution_count": null,
   "id": "23f1649d",
   "metadata": {
    "ExecuteTime": {
     "end_time": "2023-03-03T09:57:18.609123Z",
     "start_time": "2023-03-03T09:57:18.561093Z"
    },
    "hidden": true
   },
   "outputs": [],
   "source": [
    "ROOT_I"
   ]
  },
  {
   "cell_type": "code",
   "execution_count": null,
   "id": "6db80176",
   "metadata": {
    "ExecuteTime": {
     "end_time": "2023-03-03T09:59:47.009058Z",
     "start_time": "2023-03-03T09:59:46.871431Z"
    },
    "hidden": true
   },
   "outputs": [],
   "source": [
    "img_ds = tf.keras.preprocessing.image_dataset_from_directory(\n",
    "    directory=ROOT_I,\n",
    "    label_mode=None,\n",
    "    class_names=None,\n",
    "    color_mode=\"rgb\",\n",
    "    batch_size=128,\n",
    "    image_size=(224, 224),\n",
    "    shuffle=False,\n",
    "    seed=None,\n",
    "    #validation_split=0,\n",
    "    #subset=train,\n",
    "    interpolation=\"bilinear\",\n",
    "    follow_links=False)"
   ]
  },
  {
   "cell_type": "markdown",
   "id": "591345ac",
   "metadata": {},
   "source": [
    "# Load Datasets"
   ]
  },
  {
   "cell_type": "code",
   "execution_count": null,
   "id": "d42edaf3",
   "metadata": {
    "ExecuteTime": {
     "end_time": "2023-06-08T13:28:31.530244Z",
     "start_time": "2023-06-08T13:28:31.517139Z"
    }
   },
   "outputs": [],
   "source": [
    "ROOT_I = D.joinpath('images')\n",
    "ROOT_M = D.joinpath('masks')"
   ]
  },
  {
   "cell_type": "code",
   "execution_count": null,
   "id": "ea070b1d",
   "metadata": {
    "ExecuteTime": {
     "end_time": "2023-06-08T13:28:32.991189Z",
     "start_time": "2023-06-08T13:28:32.311947Z"
    }
   },
   "outputs": [],
   "source": [
    "img_ds = tf.keras.preprocessing.image_dataset_from_directory(\n",
    "    directory=ROOT_I,\n",
    "    label_mode=None,\n",
    "    class_names=None,\n",
    "    color_mode=\"rgb\",\n",
    "    batch_size=128,\n",
    "    image_size=(224, 224),\n",
    "    shuffle=False,\n",
    "    seed=None,\n",
    "    #validation_split=0,\n",
    "    #subset=train,\n",
    "    interpolation=\"bilinear\",\n",
    "    follow_links=False)"
   ]
  },
  {
   "cell_type": "code",
   "execution_count": null,
   "id": "ac11ad5a",
   "metadata": {
    "ExecuteTime": {
     "end_time": "2023-06-08T13:28:36.476003Z",
     "start_time": "2023-06-08T13:28:36.450037Z"
    }
   },
   "outputs": [],
   "source": [
    "mask_ds = tf.keras.preprocessing.image_dataset_from_directory(\n",
    "    directory=ROOT_M,\n",
    "    label_mode=None,\n",
    "    class_names=None,\n",
    "    color_mode=\"grayscale\",\n",
    "    batch_size=128,\n",
    "    image_size=(224, 224),\n",
    "    shuffle=False,\n",
    "    seed=None,\n",
    "    #validation_split=0,\n",
    "    #subset=train,\n",
    "    interpolation=\"bilinear\",\n",
    "    follow_links=False)"
   ]
  },
  {
   "cell_type": "code",
   "execution_count": null,
   "id": "81557b81",
   "metadata": {
    "ExecuteTime": {
     "end_time": "2023-06-08T10:16:28.340736Z",
     "start_time": "2023-06-08T10:16:28.321470Z"
    }
   },
   "outputs": [],
   "source": [
    "if 'albero' in str(ROOT_M):\n",
    "    mask_ds = mask_ds.map(binarize_mask)\n",
    "else:\n",
    "    mask_ds = mask_ds.map(normalize)"
   ]
  },
  {
   "cell_type": "code",
   "execution_count": null,
   "id": "ee327969",
   "metadata": {
    "ExecuteTime": {
     "end_time": "2023-06-08T10:16:28.790242Z",
     "start_time": "2023-06-08T10:16:28.777529Z"
    }
   },
   "outputs": [],
   "source": [
    "#img_ds = img_ds.map(lambda x: tf.keras.applications.imagenet_utils.preprocess_input(x, mode='torch'))"
   ]
  },
  {
   "cell_type": "code",
   "execution_count": null,
   "id": "a4217a58",
   "metadata": {
    "ExecuteTime": {
     "end_time": "2023-06-08T13:28:57.190400Z",
     "start_time": "2023-06-08T13:28:56.616369Z"
    },
    "scrolled": false
   },
   "outputs": [],
   "source": [
    "for i in img_ds:\n",
    "    for n, j in enumerate(i):\n",
    "        #print(j)\n",
    "        print(np.min(j), np.max(j))\n",
    "        plt.imshow(j/255.0)\n",
    "        plt.show()\n",
    "        if n >= 3:\n",
    "            break\n",
    "    break"
   ]
  },
  {
   "cell_type": "code",
   "execution_count": null,
   "id": "4241321c",
   "metadata": {
    "ExecuteTime": {
     "end_time": "2023-06-08T13:29:01.296210Z",
     "start_time": "2023-06-08T13:29:00.827580Z"
    }
   },
   "outputs": [],
   "source": [
    "for i in mask_ds:\n",
    "    for n, j in enumerate(i):\n",
    "        #print(j)\n",
    "        print(np.min(j), np.max(j))\n",
    "        plt.imshow(j/255.0)\n",
    "        plt.show()\n",
    "        if n >= 2:\n",
    "            break\n",
    "    break"
   ]
  },
  {
   "cell_type": "code",
   "execution_count": null,
   "id": "271ad79d",
   "metadata": {
    "ExecuteTime": {
     "end_time": "2023-03-14T11:35:55.859196Z",
     "start_time": "2023-03-14T11:35:55.847274Z"
    }
   },
   "outputs": [],
   "source": [
    "ds1 = tf.data.Dataset.zip((img_ds, mask_ds))"
   ]
  },
  {
   "cell_type": "code",
   "execution_count": null,
   "id": "03bc28dd",
   "metadata": {
    "ExecuteTime": {
     "end_time": "2023-03-14T11:35:57.906332Z",
     "start_time": "2023-03-14T11:35:56.451136Z"
    },
    "scrolled": false
   },
   "outputs": [],
   "source": [
    "for i, (x, y) in enumerate(ds1):\n",
    "    plt.imshow(x[0]/255.0, alpha=.8)\n",
    "    plt.imshow(y[0]/255.0, alpha=.2)\n",
    "    plt.show()\n",
    "    \n",
    "    x_, y_ = random_resize_crop(x[0], y[0], 0.7)\n",
    "    print(x_.shape, y_.shape)\n",
    "    \n",
    "    plt.imshow(x_/255.0, alpha=.8)\n",
    "    plt.imshow(y_/255.0, alpha=.2)\n",
    "    plt.show()\n",
    "    \n",
    "    if i > 3:\n",
    "        break"
   ]
  },
  {
   "cell_type": "code",
   "execution_count": null,
   "id": "614356fd",
   "metadata": {
    "ExecuteTime": {
     "end_time": "2023-03-14T11:36:02.999100Z",
     "start_time": "2023-03-14T11:36:02.957520Z"
    },
    "scrolled": true
   },
   "outputs": [],
   "source": [
    "np.mean(y_), np.std(y_)"
   ]
  },
  {
   "cell_type": "code",
   "execution_count": null,
   "id": "d4308711",
   "metadata": {
    "ExecuteTime": {
     "end_time": "2023-03-14T11:36:07.176376Z",
     "start_time": "2023-03-14T11:36:05.816808Z"
    },
    "scrolled": true
   },
   "outputs": [],
   "source": [
    "plt.hist(y_)"
   ]
  },
  {
   "cell_type": "code",
   "execution_count": null,
   "id": "3dfc5675",
   "metadata": {
    "ExecuteTime": {
     "end_time": "2023-01-23T16:04:02.491667Z",
     "start_time": "2023-01-23T16:04:02.477776Z"
    }
   },
   "outputs": [],
   "source": [
    "y_ = y_/255.0"
   ]
  },
  {
   "cell_type": "code",
   "execution_count": null,
   "id": "3c0f930a",
   "metadata": {
    "ExecuteTime": {
     "end_time": "2023-01-23T16:04:02.529627Z",
     "start_time": "2023-01-23T16:04:02.515056Z"
    },
    "scrolled": true
   },
   "outputs": [],
   "source": [
    "np.mean(y_), np.std(y_)"
   ]
  },
  {
   "cell_type": "code",
   "execution_count": null,
   "id": "543afedc",
   "metadata": {
    "ExecuteTime": {
     "end_time": "2023-01-23T16:04:05.029509Z",
     "start_time": "2023-01-23T16:04:02.552439Z"
    }
   },
   "outputs": [],
   "source": [
    "plt.hist(y_)"
   ]
  },
  {
   "cell_type": "code",
   "execution_count": null,
   "id": "8330dd1b",
   "metadata": {
    "ExecuteTime": {
     "end_time": "2023-01-23T16:04:05.066631Z",
     "start_time": "2023-01-23T16:04:05.053120Z"
    }
   },
   "outputs": [],
   "source": [
    "y_ = tf.math.round(y_)"
   ]
  },
  {
   "cell_type": "code",
   "execution_count": null,
   "id": "d15cae6e",
   "metadata": {
    "ExecuteTime": {
     "end_time": "2023-01-23T16:04:05.104055Z",
     "start_time": "2023-01-23T16:04:05.089838Z"
    }
   },
   "outputs": [],
   "source": [
    "np.mean(y_), np.std(y_)"
   ]
  },
  {
   "cell_type": "code",
   "execution_count": null,
   "id": "93aef1aa",
   "metadata": {
    "ExecuteTime": {
     "end_time": "2023-01-23T16:04:07.728464Z",
     "start_time": "2023-01-23T16:04:05.126583Z"
    }
   },
   "outputs": [],
   "source": [
    "plt.hist(y_)"
   ]
  },
  {
   "cell_type": "markdown",
   "id": "fc9b1990",
   "metadata": {
    "heading_collapsed": true
   },
   "source": [
    "# Annotations"
   ]
  },
  {
   "cell_type": "code",
   "execution_count": null,
   "id": "b383b993",
   "metadata": {
    "ExecuteTime": {
     "end_time": "2023-06-09T08:29:47.408530Z",
     "start_time": "2023-06-09T08:29:47.403582Z"
    },
    "hidden": true
   },
   "outputs": [],
   "source": [
    "import os\n",
    "from matplotlib import image\n",
    "from pathlib import Path\n",
    "import numpy as np\n",
    "import matplotlib.pyplot as plt\n",
    "import re\n",
    "import shutil\n",
    "from pathlib import Path"
   ]
  },
  {
   "cell_type": "code",
   "execution_count": null,
   "id": "51530945",
   "metadata": {
    "ExecuteTime": {
     "end_time": "2023-06-09T08:29:49.859499Z",
     "start_time": "2023-06-09T08:29:49.803681Z"
    },
    "hidden": true
   },
   "outputs": [],
   "source": [
    "if not os.path.exists(\"masks\"):\n",
    "    os.makedirs(\"masks\")\n",
    "    \n",
    "root = \"../AgriSeg_Dataset/misc/misc_1/\"\n",
    "annFile = root + \"annotations.json\"\n",
    "masks = root + \"masks/\"\n",
    "images = root + \"images/\"\n",
    "\n",
    "old = Path(\"../AgriSeg_Dataset/vineyard_real/vineyard_real_1/images/\")\n",
    "\n",
    "coco = COCO(annFile)\n",
    "\n",
    "catIds = coco.getCatIds()\n",
    "imgIds = coco.getImgIds()\n",
    "annsIds = coco.getAnnIds()"
   ]
  },
  {
   "cell_type": "code",
   "execution_count": null,
   "id": "11cab065",
   "metadata": {
    "ExecuteTime": {
     "end_time": "2023-06-09T08:29:51.954831Z",
     "start_time": "2023-06-09T08:29:51.947126Z"
    },
    "hidden": true
   },
   "outputs": [],
   "source": [
    "annsIds"
   ]
  },
  {
   "cell_type": "code",
   "execution_count": null,
   "id": "571f0360",
   "metadata": {
    "ExecuteTime": {
     "end_time": "2023-06-09T08:30:28.738294Z",
     "start_time": "2023-06-09T08:29:54.028025Z"
    },
    "hidden": true
   },
   "outputs": [],
   "source": [
    "%matplotlib inline\n",
    "\n",
    "for aid in annsIds:\n",
    "    if aid >= 500:\n",
    "        break\n",
    "    img = coco.loadImgs(aid)[0]\n",
    "    print(img)\n",
    "    \n",
    "    annIds = coco.getAnnIds(imgIds=img['id'], catIds=catIds, iscrowd=None)\n",
    "    anns = coco.loadAnns(annIds)\n",
    "    img_id = re.split(r'[/.]',img[\"file_name\"])[-2]\n",
    "    \n",
    "    if anns:\n",
    "        mask = np.zeros(coco.annToMask(anns[0]).shape) \n",
    "        for ann in anns:\n",
    "            mask += coco.annToMask(ann)\n",
    "    \n",
    "        mask[mask >= 1] = 1\n",
    "        image.imsave(masks + img_id + \".png\", mask, cmap='gray')\n",
    "    \n",
    "        for i in list(old.rglob(\"*\")):\n",
    "            if str(i).endswith(f\"{img_id}.jpg\"):\n",
    "                print(i)\n",
    "                shutil.copyfile(i, images+f\"{img_id}.jpg\")"
   ]
  },
  {
   "cell_type": "code",
   "execution_count": null,
   "id": "eeefae9c",
   "metadata": {
    "hidden": true
   },
   "outputs": [],
   "source": [
    "len(annsIds)"
   ]
  },
  {
   "cell_type": "markdown",
   "id": "14c8b5b5",
   "metadata": {
    "heading_collapsed": true
   },
   "source": [
    "# Dataset Check"
   ]
  },
  {
   "cell_type": "code",
   "execution_count": null,
   "id": "bd219209",
   "metadata": {
    "ExecuteTime": {
     "end_time": "2023-06-27T15:55:51.698738Z",
     "start_time": "2023-06-27T15:55:51.449828Z"
    },
    "hidden": true
   },
   "outputs": [],
   "source": [
    "%matplotlib inline\n",
    "%load_ext autoreload\n",
    "%autoreload 2\n",
    "%config Completer.use_jedi = False"
   ]
  },
  {
   "cell_type": "code",
   "execution_count": null,
   "id": "413f7cc1",
   "metadata": {
    "ExecuteTime": {
     "end_time": "2023-06-27T15:56:29.540149Z",
     "start_time": "2023-06-27T15:56:29.501329Z"
    },
    "hidden": true
   },
   "outputs": [],
   "source": [
    "# Libraries\n",
    "import os\n",
    "import glob\n",
    "import matplotlib.pyplot as plt\n",
    "os.environ[\"OPENCV_IO_ENABLE_OPENEXR\"]=\"1\"\n",
    "import cv2\n",
    "import numpy as np\n",
    "from tqdm.notebook import tqdm as tqdm\n",
    "import tensorflow as tf\n",
    "import random\n",
    "from pathlib import Path\n",
    "\n",
    "from utils.tools import *\n",
    "from utils.preprocess import *\n",
    "from utils.visualize import *\n",
    "from utils.data import *"
   ]
  },
  {
   "cell_type": "code",
   "execution_count": null,
   "id": "ecb57778",
   "metadata": {
    "ExecuteTime": {
     "end_time": "2023-06-27T15:56:30.674388Z",
     "start_time": "2023-06-27T15:56:30.604204Z"
    },
    "hidden": true
   },
   "outputs": [],
   "source": [
    "physical_devices = tf.config.list_physical_devices('GPU')\n",
    "print(\"Num GPUs:\", physical_devices)\n",
    "\n",
    "#select the working GPU\n",
    "gpus = tf.config.experimental.list_physical_devices('GPU')\n",
    "tf.config.experimental.set_visible_devices(gpus[0], 'GPU')\n",
    "tf.config.experimental.set_memory_growth(gpus[0], True)"
   ]
  },
  {
   "cell_type": "code",
   "execution_count": null,
   "id": "d132fa60",
   "metadata": {
    "ExecuteTime": {
     "end_time": "2023-06-27T15:56:33.132462Z",
     "start_time": "2023-06-27T15:56:33.116267Z"
    },
    "hidden": true,
    "scrolled": true
   },
   "outputs": [],
   "source": [
    "# define some variables and read config\n",
    "config_path = 'utils/config.yaml'\n",
    "data_dir = Path('../AgriSeg_Dataset/')\n",
    "model_dir = Path('bin')\n",
    "logs_dir = Path('logs')\n",
    "config = read_yaml(config_path)\n",
    "config"
   ]
  },
  {
   "cell_type": "code",
   "execution_count": null,
   "id": "fc6dd8bf",
   "metadata": {
    "ExecuteTime": {
     "end_time": "2023-06-27T15:59:01.322938Z",
     "start_time": "2023-06-27T15:59:01.278505Z"
    },
    "hidden": true
   },
   "outputs": [],
   "source": [
    "config['SOURCE'] = ['pear']\n",
    "config['TARGET'] = 'chard'"
   ]
  },
  {
   "cell_type": "code",
   "execution_count": null,
   "id": "c63b4e83",
   "metadata": {
    "ExecuteTime": {
     "end_time": "2023-06-27T15:59:02.042863Z",
     "start_time": "2023-06-27T15:59:02.021413Z"
    },
    "hidden": true,
    "scrolled": true
   },
   "outputs": [],
   "source": [
    "source_dataset = sorted([data_dir.joinpath(d) \n",
    "                         for d in config['SOURCE'] if d != config['TARGET']])\n",
    "target_dataset = data_dir.joinpath(config['TARGET'])\n",
    "\n",
    "ds_source, ds_target = load_multi_dataset(source_dataset, target_dataset, config)"
   ]
  },
  {
   "cell_type": "code",
   "execution_count": null,
   "id": "5654612d",
   "metadata": {
    "ExecuteTime": {
     "end_time": "2023-06-27T15:56:49.843005Z",
     "start_time": "2023-06-27T15:56:49.826406Z"
    },
    "hidden": true
   },
   "outputs": [],
   "source": [
    "len(ds_source[0])"
   ]
  },
  {
   "cell_type": "code",
   "execution_count": null,
   "id": "484f7de1",
   "metadata": {
    "ExecuteTime": {
     "end_time": "2023-06-27T15:57:21.141481Z",
     "start_time": "2023-06-27T15:57:20.921143Z"
    },
    "hidden": true
   },
   "outputs": [],
   "source": [
    "for i, (x, y) in enumerate(ds_source[0]):\n",
    "    print(x.shape, y.shape)\n",
    "    plt.imshow(x[0], alpha=.6)\n",
    "    plt.imshow(y[0], alpha=.4)\n",
    "    plt.show()\n",
    "    if i > 3:\n",
    "        break"
   ]
  },
  {
   "cell_type": "markdown",
   "id": "8eca0f4d",
   "metadata": {
    "heading_collapsed": true
   },
   "source": [
    "# Old"
   ]
  },
  {
   "cell_type": "code",
   "execution_count": null,
   "id": "5a6dd5a8",
   "metadata": {
    "ExecuteTime": {
     "end_time": "2023-05-04T09:06:08.481736Z",
     "start_time": "2023-05-04T09:06:08.442263Z"
    },
    "hidden": true
   },
   "outputs": [],
   "source": [
    "import os\n",
    "\n",
    "count = 0\n",
    "for root_dir, cur_dir, files in os.walk('datasets/dataset_albero/'):\n",
    "    count += len(files)\n",
    "print('file count:', count)"
   ]
  },
  {
   "cell_type": "code",
   "execution_count": null,
   "id": "4e33f574",
   "metadata": {
    "ExecuteTime": {
     "end_time": "2023-01-23T16:04:12.924498Z",
     "start_time": "2023-01-23T16:04:12.910343Z"
    },
    "hidden": true
   },
   "outputs": [],
   "source": [
    "count/4"
   ]
  },
  {
   "cell_type": "code",
   "execution_count": null,
   "id": "20c6dac0",
   "metadata": {
    "ExecuteTime": {
     "end_time": "2023-02-02T18:42:51.125521Z",
     "start_time": "2023-02-02T18:42:51.103162Z"
    },
    "hidden": true
   },
   "outputs": [],
   "source": [
    "from PIL import Image"
   ]
  },
  {
   "cell_type": "code",
   "execution_count": null,
   "id": "71c99643",
   "metadata": {
    "ExecuteTime": {
     "end_time": "2023-01-26T18:48:59.939556Z",
     "start_time": "2023-01-26T18:48:59.928823Z"
    },
    "hidden": true
   },
   "outputs": [],
   "source": [
    "i = np.array(Image.open('20191010_L4_S_1100.png'))"
   ]
  },
  {
   "cell_type": "code",
   "execution_count": null,
   "id": "b961b2d3",
   "metadata": {
    "ExecuteTime": {
     "end_time": "2023-01-26T18:49:22.242144Z",
     "start_time": "2023-01-26T18:49:22.237775Z"
    },
    "hidden": true
   },
   "outputs": [],
   "source": [
    "i.min(), i.max(), i.mean()"
   ]
  },
  {
   "cell_type": "code",
   "execution_count": null,
   "id": "cb110879",
   "metadata": {
    "ExecuteTime": {
     "end_time": "2023-01-26T18:53:32.628130Z",
     "start_time": "2023-01-26T18:53:32.528604Z"
    },
    "hidden": true
   },
   "outputs": [],
   "source": [
    "plt.imshow(i/2.0)"
   ]
  },
  {
   "cell_type": "code",
   "execution_count": null,
   "id": "8e4571ba",
   "metadata": {
    "ExecuteTime": {
     "end_time": "2023-02-02T18:45:06.894658Z",
     "start_time": "2023-02-02T18:45:06.868067Z"
    },
    "hidden": true
   },
   "outputs": [],
   "source": [
    "Image.open('Agrivol_datasets/dataset_zucchini/zucchini_dataset1/masks/Image100/Segmentation0001.png')"
   ]
  },
  {
   "cell_type": "code",
   "execution_count": null,
   "id": "d30da3bf",
   "metadata": {
    "ExecuteTime": {
     "end_time": "2023-01-25T10:59:03.708541Z",
     "start_time": "2023-01-25T10:59:03.580624Z"
    },
    "hidden": true
   },
   "outputs": [],
   "source": [
    "Image.open('Agrivol_datasets/dataset_lattuga/dataset_lattuga_4/images/Image100/Image0001.png')"
   ]
  },
  {
   "cell_type": "code",
   "execution_count": null,
   "id": "75a0eae0",
   "metadata": {
    "ExecuteTime": {
     "end_time": "2023-01-25T10:59:08.259127Z",
     "start_time": "2023-01-25T10:59:08.136877Z"
    },
    "hidden": true
   },
   "outputs": [],
   "source": [
    "Image.open('Agrivol_datasets/dataset_pero/dataset_pero_4/images/Image100/Image0001.png')"
   ]
  },
  {
   "cell_type": "code",
   "execution_count": null,
   "id": "fa0cf3a5",
   "metadata": {
    "ExecuteTime": {
     "end_time": "2023-01-25T10:59:11.900653Z",
     "start_time": "2023-01-25T10:59:11.708150Z"
    },
    "hidden": true
   },
   "outputs": [],
   "source": [
    "Image.open('Agrivol_datasets/dataset_zucchini/zucchini_dataset4/images/Image100/Image0001.png')"
   ]
  },
  {
   "cell_type": "markdown",
   "id": "a2aa9806",
   "metadata": {
    "heading_collapsed": true
   },
   "source": [
    "# PyTorch"
   ]
  },
  {
   "cell_type": "code",
   "execution_count": null,
   "id": "b029241b",
   "metadata": {
    "ExecuteTime": {
     "end_time": "2023-06-22T13:21:54.134480Z",
     "start_time": "2023-06-22T13:21:52.771358Z"
    },
    "hidden": true
   },
   "outputs": [],
   "source": [
    "import os\n",
    "from pathlib import Path\n",
    "\n",
    "import random\n",
    "import torch\n",
    "import torchvision.transforms as T\n",
    "import PIL.Image as Image\n",
    "import matplotlib.pyplot as plt\n",
    "\n",
    "from utils.tools import read_yaml"
   ]
  },
  {
   "cell_type": "code",
   "execution_count": null,
   "id": "92eb7822",
   "metadata": {
    "ExecuteTime": {
     "end_time": "2023-06-22T13:21:54.621817Z",
     "start_time": "2023-06-22T13:21:54.612901Z"
    },
    "hidden": true
   },
   "outputs": [],
   "source": [
    "config_path = 'utils/config.yaml'\n",
    "data_dir = Path('datasets')\n",
    "model_dir = Path('bin')\n",
    "logs_dir = Path('logs')\n",
    "config = read_yaml(config_path)"
   ]
  },
  {
   "cell_type": "code",
   "execution_count": null,
   "id": "636f1300",
   "metadata": {
    "ExecuteTime": {
     "end_time": "2023-06-22T13:44:41.236904Z",
     "start_time": "2023-06-22T13:44:41.221224Z"
    },
    "hidden": true
   },
   "outputs": [],
   "source": [
    "class SemanticSegmentationDataset(torch.utils.data.Dataset):\n",
    "    \"\"\"Image (semantic) segmentation dataset.\"\"\"\n",
    "\n",
    "    def __init__(self, root_dir, config, augment=False):\n",
    "        self.root_dir = Path(root_dir)  \n",
    "        self.config = config\n",
    "        self.augment = augment\n",
    "        self.images, self.masks = [], []\n",
    "        \n",
    "        self.get_file_lists()\n",
    "        self.get_transforms()\n",
    "        \n",
    "    def get_file_lists(self):\n",
    "        for subdir in self.root_dir.iterdir():\n",
    "            if subdir.is_file() or subdir.name.startswith('.'): continue\n",
    "            image_file_names = [list(f.glob('**/*'))[0].absolute() \n",
    "                                for f in subdir.joinpath('images').iterdir()]\n",
    "            mask_file_names = [list(f.glob('**/*'))[0].absolute() \n",
    "                               for f in subdir.joinpath('masks').iterdir()]\n",
    "            self.images += sorted(image_file_names)\n",
    "            self.masks += sorted(mask_file_names)\n",
    "        \n",
    "    \n",
    "    def get_transforms(self):\n",
    "        if self.augment:\n",
    "            self.image_transforms = T.Compose([\n",
    "                T.RandomResizedCrop(self.config['IMG_SIZE'], \n",
    "                                    scale=(self.config['RND_CROP'], 1.0),\n",
    "                                    interpolation=T.InterpolationMode.BILINEAR),\n",
    "                T.RandomHorizontalFlip(self.config['RND_FLIP']),\n",
    "                T.ColorJitter(brightness=self.config['RND_JITTER_RNG'],\n",
    "                              contrast=self.config['RND_JITTER_RNG']),\n",
    "                T.RandomGrayscale(config['RND_GREY']),\n",
    "                T.ToTensor(),\n",
    "                T.Normalize(mean=[0.485, 0.456, 0.406],\n",
    "                            std=[0.229, 0.224, 0.225])\n",
    "            ])\n",
    "            \n",
    "            self.mask_transforms = T.Compose([\n",
    "                T.RandomResizedCrop(self.config['IMG_SIZE'], \n",
    "                                    scale=(self.config['RND_CROP'], 1.0),\n",
    "                                    interpolation=T.InterpolationMode.NEAREST),\n",
    "                T.RandomHorizontalFlip(self.config['RND_FLIP']),\n",
    "                T.ToTensor(),\n",
    "                T.Lambda(lambda mask: torch.where(mask > 0, 1.0, 0.0))\n",
    "                \n",
    "            ])\n",
    "            \n",
    "        else:\n",
    "            self.image_transforms = T.Compose([\n",
    "                T.ToTensor(),\n",
    "                T.Normalize(mean=[0.485, 0.456, 0.406],\n",
    "                            std=[0.229, 0.224, 0.225])\n",
    "            ])\n",
    "            \n",
    "            self.mask_transforms = T.Compose([\n",
    "                T.ToTensor(),\n",
    "                T.Lambda(lambda mask: torch.where(mask > 0, 1.0, 0.0))\n",
    "            ])\n",
    "        \n",
    "    def __len__(self):\n",
    "        return len(self.images)\n",
    "    \n",
    "    def __getitem__(self, idx):\n",
    "        image = Image.open(self.images[idx]).convert('RGB')\n",
    "        mask = Image.open(self.masks[idx]).convert('L')\n",
    "        \n",
    "        self.seed = np.random.randint(2147483647) # make a seed with numpy generator \n",
    "\n",
    "        image = self.preprocess_image(image)\n",
    "        mask = self.preprocess_mask(mask)\n",
    "        return image, mask\n",
    "    \n",
    "    def preprocess_image(self, image):\n",
    "        random.seed(self.seed) \n",
    "        torch.manual_seed(self.seed) \n",
    "        return self.image_transforms(image)\n",
    "    \n",
    "    def preprocess_mask(self, mask):\n",
    "        random.seed(self.seed) \n",
    "        torch.manual_seed(self.seed) \n",
    "        return self.mask_transforms(mask)"
   ]
  },
  {
   "cell_type": "code",
   "execution_count": null,
   "id": "c416bdbd",
   "metadata": {
    "ExecuteTime": {
     "end_time": "2023-06-22T13:45:10.238333Z",
     "start_time": "2023-06-22T13:45:10.069641Z"
    },
    "hidden": true
   },
   "outputs": [],
   "source": [
    "ds = SemanticSegmentationDataset('datasets/vineyard_pergola/', config, augment=True)\n",
    "len(ds)"
   ]
  },
  {
   "cell_type": "code",
   "execution_count": null,
   "id": "458a8ff4",
   "metadata": {
    "ExecuteTime": {
     "end_time": "2023-06-22T13:45:10.838866Z",
     "start_time": "2023-06-22T13:45:10.832971Z"
    },
    "hidden": true
   },
   "outputs": [],
   "source": [
    "dl = torch.utils.data.DataLoader(ds, batch_size=4, shuffle=True, num_workers=24)"
   ]
  },
  {
   "cell_type": "code",
   "execution_count": null,
   "id": "6ce39c1b",
   "metadata": {
    "ExecuteTime": {
     "end_time": "2023-06-22T13:45:12.450882Z",
     "start_time": "2023-06-22T13:45:11.641921Z"
    },
    "hidden": true,
    "scrolled": false
   },
   "outputs": [],
   "source": [
    "for i, m in dl:\n",
    "    print(i.shape, m.shape)\n",
    "    print(torch.min(m), torch.max(m))\n",
    "    plt.imshow(torch.swapaxes(i[0], 0, -1))\n",
    "    plt.show()\n",
    "    plt.imshow(torch.swapaxes(m[0], 0, -1))\n",
    "    break"
   ]
  },
  {
   "cell_type": "code",
   "execution_count": null,
   "id": "a4ff9c0d",
   "metadata": {
    "ExecuteTime": {
     "end_time": "2023-06-22T10:53:17.477094Z",
     "start_time": "2023-06-22T10:53:17.473003Z"
    },
    "hidden": true
   },
   "outputs": [],
   "source": [
    "a = Path('datasets/chard/chard_1/images/Image1/')"
   ]
  },
  {
   "cell_type": "code",
   "execution_count": null,
   "id": "ade4b8a4",
   "metadata": {
    "ExecuteTime": {
     "end_time": "2023-06-22T10:53:28.977821Z",
     "start_time": "2023-06-22T10:53:28.971470Z"
    },
    "hidden": true
   },
   "outputs": [],
   "source": [
    "list(a.iterdir())"
   ]
  },
  {
   "cell_type": "code",
   "execution_count": null,
   "id": "5484e788",
   "metadata": {
    "hidden": true
   },
   "outputs": [],
   "source": []
  }
 ],
 "metadata": {
  "kernelspec": {
   "display_name": "tensorflow",
   "language": "python",
   "name": "python3"
  },
  "language_info": {
   "codemirror_mode": {
    "name": "ipython",
    "version": 3
   },
   "file_extension": ".py",
   "mimetype": "text/x-python",
   "name": "python",
   "nbconvert_exporter": "python",
   "pygments_lexer": "ipython3",
   "version": "3.8.10"
  },
  "toc": {
   "base_numbering": 1,
   "nav_menu": {},
   "number_sections": true,
   "sideBar": true,
   "skip_h1_title": false,
   "title_cell": "Table of Contents",
   "title_sidebar": "Contents",
   "toc_cell": false,
   "toc_position": {},
   "toc_section_display": true,
   "toc_window_display": false
  },
  "varInspector": {
   "cols": {
    "lenName": 16,
    "lenType": 16,
    "lenVar": 40
   },
   "kernels_config": {
    "python": {
     "delete_cmd_postfix": "",
     "delete_cmd_prefix": "del ",
     "library": "var_list.py",
     "varRefreshCmd": "print(var_dic_list())"
    },
    "r": {
     "delete_cmd_postfix": ") ",
     "delete_cmd_prefix": "rm(",
     "library": "var_list.r",
     "varRefreshCmd": "cat(var_dic_list()) "
    }
   },
   "types_to_exclude": [
    "module",
    "function",
    "builtin_function_or_method",
    "instance",
    "_Feature"
   ],
   "window_display": false
  }
 },
 "nbformat": 4,
 "nbformat_minor": 5
}
